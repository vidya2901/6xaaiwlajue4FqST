{
 "cells": [
  {
   "cell_type": "code",
   "execution_count": 1,
   "id": "latin-proposition",
   "metadata": {},
   "outputs": [
    {
     "name": "stderr",
     "output_type": "stream",
     "text": [
      "<frozen importlib._bootstrap>:219: RuntimeWarning: scipy._lib.messagestream.MessageStream size changed, may indicate binary incompatibility. Expected 56 from C header, got 64 from PyObject\n"
     ]
    }
   ],
   "source": [
    "import pandas as pd\n",
    "import numpy as np\n",
    "import pmdarima as pm\n",
    "import statsmodels.api\n",
    "import matplotlib.pyplot as plt\n",
    "from statsmodels.tsa.stattools import adfuller\n",
    "from statsmodels.graphics.tsaplots import plot_acf, plot_pacf\n",
    "from pmdarima.arima import auto_arima\n",
    "#from statsmodels.tsa.arima_model import ARIMA\n",
    "from statsmodels.graphics.tsaplots import plot_predict\n",
    "from sklearn.metrics import mean_squared_error\n",
    "from sklearn.metrics import mean_squared_error\n",
    "from sklearn.metrics import mean_absolute_error\n",
    "from fbprophet import Prophet\n",
    "import math"
   ]
  },
  {
   "cell_type": "code",
   "execution_count": 2,
   "id": "received-hawaii",
   "metadata": {},
   "outputs": [],
   "source": [
    "#russia dataset"
   ]
  },
  {
   "cell_type": "code",
   "execution_count": 3,
   "id": "following-actress",
   "metadata": {},
   "outputs": [],
   "source": [
    "xls = pd.ExcelFile('2020Q1Q2Q3Q4-2021Q1.xlsx')\n",
    "df_russia = pd.read_excel(xls, 'Russia - Sberbank Rossii PAO (S')\n",
    "#df2 = pd.read_excel(xls, 'Sheet2')"
   ]
  },
  {
   "cell_type": "code",
   "execution_count": 4,
   "id": "remarkable-indonesia",
   "metadata": {},
   "outputs": [
    {
     "data": {
      "text/plain": [
       "(312, 7)"
      ]
     },
     "execution_count": 4,
     "metadata": {},
     "output_type": "execute_result"
    }
   ],
   "source": [
    "df_russia.shape"
   ]
  },
  {
   "cell_type": "code",
   "execution_count": 5,
   "id": "corrected-vatican",
   "metadata": {},
   "outputs": [
    {
     "data": {
      "text/html": [
       "<div>\n",
       "<style scoped>\n",
       "    .dataframe tbody tr th:only-of-type {\n",
       "        vertical-align: middle;\n",
       "    }\n",
       "\n",
       "    .dataframe tbody tr th {\n",
       "        vertical-align: top;\n",
       "    }\n",
       "\n",
       "    .dataframe thead th {\n",
       "        text-align: right;\n",
       "    }\n",
       "</style>\n",
       "<table border=\"1\" class=\"dataframe\">\n",
       "  <thead>\n",
       "    <tr style=\"text-align: right;\">\n",
       "      <th></th>\n",
       "      <th>Date</th>\n",
       "      <th>Price</th>\n",
       "      <th>Open</th>\n",
       "      <th>High</th>\n",
       "      <th>Low</th>\n",
       "      <th>Vol.</th>\n",
       "      <th>Change %</th>\n",
       "    </tr>\n",
       "  </thead>\n",
       "  <tbody>\n",
       "    <tr>\n",
       "      <th>0</th>\n",
       "      <td>2021-03-31 00:00:00</td>\n",
       "      <td>291.02</td>\n",
       "      <td>294</td>\n",
       "      <td>294.42</td>\n",
       "      <td>290.26</td>\n",
       "      <td>47.00M</td>\n",
       "      <td>-0.0076</td>\n",
       "    </tr>\n",
       "    <tr>\n",
       "      <th>1</th>\n",
       "      <td>2021-03-30 00:00:00</td>\n",
       "      <td>293.25</td>\n",
       "      <td>294.86</td>\n",
       "      <td>295.72</td>\n",
       "      <td>291.5</td>\n",
       "      <td>38.81M</td>\n",
       "      <td>-0.0002</td>\n",
       "    </tr>\n",
       "    <tr>\n",
       "      <th>2</th>\n",
       "      <td>2021-03-29 00:00:00</td>\n",
       "      <td>293.3</td>\n",
       "      <td>289.72</td>\n",
       "      <td>294.09</td>\n",
       "      <td>289.26</td>\n",
       "      <td>43.68M</td>\n",
       "      <td>0.0071</td>\n",
       "    </tr>\n",
       "    <tr>\n",
       "      <th>3</th>\n",
       "      <td>2021-03-26 00:00:00</td>\n",
       "      <td>291.22</td>\n",
       "      <td>288.63</td>\n",
       "      <td>292.75</td>\n",
       "      <td>288.32</td>\n",
       "      <td>56.07M</td>\n",
       "      <td>0.0159</td>\n",
       "    </tr>\n",
       "    <tr>\n",
       "      <th>4</th>\n",
       "      <td>2021-03-25 00:00:00</td>\n",
       "      <td>286.66</td>\n",
       "      <td>286.5</td>\n",
       "      <td>287.03</td>\n",
       "      <td>283.85</td>\n",
       "      <td>35.22M</td>\n",
       "      <td>0.0030</td>\n",
       "    </tr>\n",
       "  </tbody>\n",
       "</table>\n",
       "</div>"
      ],
      "text/plain": [
       "                  Date   Price    Open    High     Low    Vol.  Change %\n",
       "0  2021-03-31 00:00:00  291.02     294  294.42  290.26  47.00M   -0.0076\n",
       "1  2021-03-30 00:00:00  293.25  294.86  295.72   291.5  38.81M   -0.0002\n",
       "2  2021-03-29 00:00:00   293.3  289.72  294.09  289.26  43.68M    0.0071\n",
       "3  2021-03-26 00:00:00  291.22  288.63  292.75  288.32  56.07M    0.0159\n",
       "4  2021-03-25 00:00:00  286.66   286.5  287.03  283.85  35.22M    0.0030"
      ]
     },
     "execution_count": 5,
     "metadata": {},
     "output_type": "execute_result"
    }
   ],
   "source": [
    "df_russia.head()"
   ]
  },
  {
   "cell_type": "code",
   "execution_count": 6,
   "id": "endless-vertex",
   "metadata": {},
   "outputs": [],
   "source": [
    "#Rename the Vol. column to Volume\n",
    "df_russia.rename(columns = {'Vol.': 'Volume'}, inplace = True)"
   ]
  },
  {
   "cell_type": "code",
   "execution_count": 7,
   "id": "connected-authorization",
   "metadata": {},
   "outputs": [
    {
     "name": "stdout",
     "output_type": "stream",
     "text": [
      "<class 'pandas.core.frame.DataFrame'>\n",
      "RangeIndex: 312 entries, 0 to 311\n",
      "Data columns (total 7 columns):\n",
      " #   Column    Non-Null Count  Dtype  \n",
      "---  ------    --------------  -----  \n",
      " 0   Date      312 non-null    object \n",
      " 1   Price     312 non-null    object \n",
      " 2   Open      312 non-null    object \n",
      " 3   High      312 non-null    object \n",
      " 4   Low       312 non-null    object \n",
      " 5   Volume    311 non-null    object \n",
      " 6   Change %  311 non-null    float64\n",
      "dtypes: float64(1), object(6)\n",
      "memory usage: 17.2+ KB\n"
     ]
    }
   ],
   "source": [
    "df_russia.info()"
   ]
  },
  {
   "cell_type": "code",
   "execution_count": 8,
   "id": "wrong-bobby",
   "metadata": {},
   "outputs": [
    {
     "data": {
      "text/html": [
       "<div>\n",
       "<style scoped>\n",
       "    .dataframe tbody tr th:only-of-type {\n",
       "        vertical-align: middle;\n",
       "    }\n",
       "\n",
       "    .dataframe tbody tr th {\n",
       "        vertical-align: top;\n",
       "    }\n",
       "\n",
       "    .dataframe thead th {\n",
       "        text-align: right;\n",
       "    }\n",
       "</style>\n",
       "<table border=\"1\" class=\"dataframe\">\n",
       "  <thead>\n",
       "    <tr style=\"text-align: right;\">\n",
       "      <th></th>\n",
       "      <th>Date</th>\n",
       "      <th>Price</th>\n",
       "      <th>Open</th>\n",
       "      <th>High</th>\n",
       "      <th>Low</th>\n",
       "      <th>Volume</th>\n",
       "      <th>Change %</th>\n",
       "    </tr>\n",
       "  </thead>\n",
       "  <tbody>\n",
       "    <tr>\n",
       "      <th>307</th>\n",
       "      <td>2020-01-09 00:00:00</td>\n",
       "      <td>257.99</td>\n",
       "      <td>259.4</td>\n",
       "      <td>261.76</td>\n",
       "      <td>257.01</td>\n",
       "      <td>38.33M</td>\n",
       "      <td>-0.0045</td>\n",
       "    </tr>\n",
       "    <tr>\n",
       "      <th>308</th>\n",
       "      <td>2020-01-08 00:00:00</td>\n",
       "      <td>259.15</td>\n",
       "      <td>253.57</td>\n",
       "      <td>259.15</td>\n",
       "      <td>253.03</td>\n",
       "      <td>40.82M</td>\n",
       "      <td>0.0207</td>\n",
       "    </tr>\n",
       "    <tr>\n",
       "      <th>309</th>\n",
       "      <td>2020-01-06 00:00:00</td>\n",
       "      <td>253.9</td>\n",
       "      <td>254.75</td>\n",
       "      <td>254.84</td>\n",
       "      <td>251.4</td>\n",
       "      <td>22.35M</td>\n",
       "      <td>-0.0043</td>\n",
       "    </tr>\n",
       "    <tr>\n",
       "      <th>310</th>\n",
       "      <td>2020-01-03 00:00:00</td>\n",
       "      <td>255</td>\n",
       "      <td>255.99</td>\n",
       "      <td>258.19</td>\n",
       "      <td>253.7</td>\n",
       "      <td>35.85M</td>\n",
       "      <td>0.0010</td>\n",
       "    </tr>\n",
       "    <tr>\n",
       "      <th>311</th>\n",
       "      <td>Highest: 296.07</td>\n",
       "      <td>Lowest: 172.15</td>\n",
       "      <td>Difference: 123.92</td>\n",
       "      <td>Average: 234.52</td>\n",
       "      <td>Change %: 14.24</td>\n",
       "      <td>NaN</td>\n",
       "      <td>NaN</td>\n",
       "    </tr>\n",
       "  </tbody>\n",
       "</table>\n",
       "</div>"
      ],
      "text/plain": [
       "                    Date           Price                Open             High  \\\n",
       "307  2020-01-09 00:00:00          257.99               259.4           261.76   \n",
       "308  2020-01-08 00:00:00          259.15              253.57           259.15   \n",
       "309  2020-01-06 00:00:00           253.9              254.75           254.84   \n",
       "310  2020-01-03 00:00:00             255              255.99           258.19   \n",
       "311      Highest: 296.07  Lowest: 172.15  Difference: 123.92  Average: 234.52   \n",
       "\n",
       "                 Low  Volume  Change %  \n",
       "307           257.01  38.33M   -0.0045  \n",
       "308           253.03  40.82M    0.0207  \n",
       "309            251.4  22.35M   -0.0043  \n",
       "310            253.7  35.85M    0.0010  \n",
       "311  Change %: 14.24     NaN       NaN  "
      ]
     },
     "execution_count": 8,
     "metadata": {},
     "output_type": "execute_result"
    }
   ],
   "source": [
    "df_russia.tail()"
   ]
  },
  {
   "cell_type": "code",
   "execution_count": 9,
   "id": "wrapped-complexity",
   "metadata": {},
   "outputs": [],
   "source": [
    "#drop the last row\n",
    "df_russia.drop(index=df_russia.index[-1], axis=0, inplace=True)\n",
    "df_russia[\"Volume\"]=df_russia.Volume.str.replace('M','')"
   ]
  },
  {
   "cell_type": "code",
   "execution_count": 10,
   "id": "reserved-craps",
   "metadata": {},
   "outputs": [
    {
     "data": {
      "text/html": [
       "<div>\n",
       "<style scoped>\n",
       "    .dataframe tbody tr th:only-of-type {\n",
       "        vertical-align: middle;\n",
       "    }\n",
       "\n",
       "    .dataframe tbody tr th {\n",
       "        vertical-align: top;\n",
       "    }\n",
       "\n",
       "    .dataframe thead th {\n",
       "        text-align: right;\n",
       "    }\n",
       "</style>\n",
       "<table border=\"1\" class=\"dataframe\">\n",
       "  <thead>\n",
       "    <tr style=\"text-align: right;\">\n",
       "      <th></th>\n",
       "      <th>Date</th>\n",
       "      <th>Price</th>\n",
       "      <th>Open</th>\n",
       "      <th>High</th>\n",
       "      <th>Low</th>\n",
       "      <th>Volume</th>\n",
       "      <th>Change %</th>\n",
       "    </tr>\n",
       "  </thead>\n",
       "  <tbody>\n",
       "    <tr>\n",
       "      <th>306</th>\n",
       "      <td>2020-01-10 00:00:00</td>\n",
       "      <td>258.19</td>\n",
       "      <td>257.86</td>\n",
       "      <td>259.25</td>\n",
       "      <td>256.88</td>\n",
       "      <td>18.85</td>\n",
       "      <td>0.0008</td>\n",
       "    </tr>\n",
       "    <tr>\n",
       "      <th>307</th>\n",
       "      <td>2020-01-09 00:00:00</td>\n",
       "      <td>257.99</td>\n",
       "      <td>259.4</td>\n",
       "      <td>261.76</td>\n",
       "      <td>257.01</td>\n",
       "      <td>38.33</td>\n",
       "      <td>-0.0045</td>\n",
       "    </tr>\n",
       "    <tr>\n",
       "      <th>308</th>\n",
       "      <td>2020-01-08 00:00:00</td>\n",
       "      <td>259.15</td>\n",
       "      <td>253.57</td>\n",
       "      <td>259.15</td>\n",
       "      <td>253.03</td>\n",
       "      <td>40.82</td>\n",
       "      <td>0.0207</td>\n",
       "    </tr>\n",
       "    <tr>\n",
       "      <th>309</th>\n",
       "      <td>2020-01-06 00:00:00</td>\n",
       "      <td>253.9</td>\n",
       "      <td>254.75</td>\n",
       "      <td>254.84</td>\n",
       "      <td>251.4</td>\n",
       "      <td>22.35</td>\n",
       "      <td>-0.0043</td>\n",
       "    </tr>\n",
       "    <tr>\n",
       "      <th>310</th>\n",
       "      <td>2020-01-03 00:00:00</td>\n",
       "      <td>255</td>\n",
       "      <td>255.99</td>\n",
       "      <td>258.19</td>\n",
       "      <td>253.7</td>\n",
       "      <td>35.85</td>\n",
       "      <td>0.0010</td>\n",
       "    </tr>\n",
       "  </tbody>\n",
       "</table>\n",
       "</div>"
      ],
      "text/plain": [
       "                    Date   Price    Open    High     Low Volume  Change %\n",
       "306  2020-01-10 00:00:00  258.19  257.86  259.25  256.88  18.85    0.0008\n",
       "307  2020-01-09 00:00:00  257.99   259.4  261.76  257.01  38.33   -0.0045\n",
       "308  2020-01-08 00:00:00  259.15  253.57  259.15  253.03  40.82    0.0207\n",
       "309  2020-01-06 00:00:00   253.9  254.75  254.84   251.4  22.35   -0.0043\n",
       "310  2020-01-03 00:00:00     255  255.99  258.19   253.7  35.85    0.0010"
      ]
     },
     "execution_count": 10,
     "metadata": {},
     "output_type": "execute_result"
    }
   ],
   "source": [
    "df_russia.tail()"
   ]
  },
  {
   "cell_type": "code",
   "execution_count": 11,
   "id": "processed-mason",
   "metadata": {},
   "outputs": [],
   "source": [
    "df_russia[\"Date\"]=pd.to_datetime(df_russia.Date,format=\"%Y-%m-%d\")"
   ]
  },
  {
   "cell_type": "code",
   "execution_count": 12,
   "id": "protected-aspect",
   "metadata": {},
   "outputs": [
    {
     "name": "stdout",
     "output_type": "stream",
     "text": [
      "Date        datetime64[ns]\n",
      "Price              float64\n",
      "Open               float64\n",
      "High               float64\n",
      "Low                float64\n",
      "Volume             float64\n",
      "Change %           float64\n",
      "dtype: object\n"
     ]
    }
   ],
   "source": [
    "df_russia=df_russia.astype({'Price':'float','Open':'float','High':'float','Low':'float','Volume':'float'})\n",
    "print(df_russia.dtypes)"
   ]
  },
  {
   "cell_type": "code",
   "execution_count": 13,
   "id": "identified-washington",
   "metadata": {},
   "outputs": [
    {
     "data": {
      "text/html": [
       "<div>\n",
       "<style scoped>\n",
       "    .dataframe tbody tr th:only-of-type {\n",
       "        vertical-align: middle;\n",
       "    }\n",
       "\n",
       "    .dataframe tbody tr th {\n",
       "        vertical-align: top;\n",
       "    }\n",
       "\n",
       "    .dataframe thead th {\n",
       "        text-align: right;\n",
       "    }\n",
       "</style>\n",
       "<table border=\"1\" class=\"dataframe\">\n",
       "  <thead>\n",
       "    <tr style=\"text-align: right;\">\n",
       "      <th></th>\n",
       "      <th>Price</th>\n",
       "      <th>Open</th>\n",
       "      <th>High</th>\n",
       "      <th>Low</th>\n",
       "      <th>Volume</th>\n",
       "      <th>Change %</th>\n",
       "    </tr>\n",
       "  </thead>\n",
       "  <tbody>\n",
       "    <tr>\n",
       "      <th>count</th>\n",
       "      <td>311.000000</td>\n",
       "      <td>311.000000</td>\n",
       "      <td>311.000000</td>\n",
       "      <td>311.000000</td>\n",
       "      <td>311.000000</td>\n",
       "      <td>311.000000</td>\n",
       "    </tr>\n",
       "    <tr>\n",
       "      <th>mean</th>\n",
       "      <td>234.524019</td>\n",
       "      <td>234.417846</td>\n",
       "      <td>237.314759</td>\n",
       "      <td>231.366141</td>\n",
       "      <td>73.056977</td>\n",
       "      <td>0.000668</td>\n",
       "    </tr>\n",
       "    <tr>\n",
       "      <th>std</th>\n",
       "      <td>32.079847</td>\n",
       "      <td>32.058167</td>\n",
       "      <td>32.075624</td>\n",
       "      <td>32.076603</td>\n",
       "      <td>38.058095</td>\n",
       "      <td>0.021931</td>\n",
       "    </tr>\n",
       "    <tr>\n",
       "      <th>min</th>\n",
       "      <td>174.270000</td>\n",
       "      <td>175.000000</td>\n",
       "      <td>182.200000</td>\n",
       "      <td>172.150000</td>\n",
       "      <td>8.760000</td>\n",
       "      <td>-0.095700</td>\n",
       "    </tr>\n",
       "    <tr>\n",
       "      <th>25%</th>\n",
       "      <td>207.700000</td>\n",
       "      <td>207.215000</td>\n",
       "      <td>209.660000</td>\n",
       "      <td>204.475000</td>\n",
       "      <td>47.670000</td>\n",
       "      <td>-0.010100</td>\n",
       "    </tr>\n",
       "    <tr>\n",
       "      <th>50%</th>\n",
       "      <td>229.140000</td>\n",
       "      <td>229.080000</td>\n",
       "      <td>231.950000</td>\n",
       "      <td>226.860000</td>\n",
       "      <td>66.260000</td>\n",
       "      <td>0.000400</td>\n",
       "    </tr>\n",
       "    <tr>\n",
       "      <th>75%</th>\n",
       "      <td>264.380000</td>\n",
       "      <td>263.885000</td>\n",
       "      <td>267.255000</td>\n",
       "      <td>261.110000</td>\n",
       "      <td>85.120000</td>\n",
       "      <td>0.012950</td>\n",
       "    </tr>\n",
       "    <tr>\n",
       "      <th>max</th>\n",
       "      <td>293.300000</td>\n",
       "      <td>294.860000</td>\n",
       "      <td>296.070000</td>\n",
       "      <td>291.500000</td>\n",
       "      <td>263.040000</td>\n",
       "      <td>0.129000</td>\n",
       "    </tr>\n",
       "  </tbody>\n",
       "</table>\n",
       "</div>"
      ],
      "text/plain": [
       "            Price        Open        High         Low      Volume    Change %\n",
       "count  311.000000  311.000000  311.000000  311.000000  311.000000  311.000000\n",
       "mean   234.524019  234.417846  237.314759  231.366141   73.056977    0.000668\n",
       "std     32.079847   32.058167   32.075624   32.076603   38.058095    0.021931\n",
       "min    174.270000  175.000000  182.200000  172.150000    8.760000   -0.095700\n",
       "25%    207.700000  207.215000  209.660000  204.475000   47.670000   -0.010100\n",
       "50%    229.140000  229.080000  231.950000  226.860000   66.260000    0.000400\n",
       "75%    264.380000  263.885000  267.255000  261.110000   85.120000    0.012950\n",
       "max    293.300000  294.860000  296.070000  291.500000  263.040000    0.129000"
      ]
     },
     "execution_count": 13,
     "metadata": {},
     "output_type": "execute_result"
    }
   ],
   "source": [
    "df_russia.describe()"
   ]
  },
  {
   "cell_type": "code",
   "execution_count": 14,
   "id": "opponent-entity",
   "metadata": {},
   "outputs": [
    {
     "data": {
      "text/plain": [
       "Date        0\n",
       "Price       0\n",
       "Open        0\n",
       "High        0\n",
       "Low         0\n",
       "Volume      0\n",
       "Change %    0\n",
       "dtype: int64"
      ]
     },
     "execution_count": 14,
     "metadata": {},
     "output_type": "execute_result"
    }
   ],
   "source": [
    "df_russia.isnull().sum()"
   ]
  },
  {
   "cell_type": "code",
   "execution_count": 15,
   "id": "referenced-enhancement",
   "metadata": {},
   "outputs": [],
   "source": [
    "#As we can see, there is no missing values. The highest close price over the discussed time is 293.3 and the lowest value is 291.5"
   ]
  },
  {
   "cell_type": "code",
   "execution_count": 16,
   "id": "binary-explosion",
   "metadata": {},
   "outputs": [
    {
     "data": {
      "image/png": "[encoded data removed]",
      "text/plain": [
       "<Figure size 1152x432 with 1 Axes>"
      ]
     },
     "metadata": {
      "needs_background": "light"
     },
     "output_type": "display_data"
    }
   ],
   "source": [
    "plt.figure(figsize=(16,6))\n",
    "plt.grid(True)\n",
    "plt.xlabel('Date')\n",
    "plt.ylabel('Close Prices')\n",
    "plt.plot(df_russia['Date'],df_russia['Price'])\n",
    "plt.title('Russia closing price')\n",
    "plt.show()"
   ]
  },
  {
   "cell_type": "code",
   "execution_count": 17,
   "id": "pending-singapore",
   "metadata": {},
   "outputs": [
    {
     "data": {
      "text/html": [
       "<div>\n",
       "<style scoped>\n",
       "    .dataframe tbody tr th:only-of-type {\n",
       "        vertical-align: middle;\n",
       "    }\n",
       "\n",
       "    .dataframe tbody tr th {\n",
       "        vertical-align: top;\n",
       "    }\n",
       "\n",
       "    .dataframe thead th {\n",
       "        text-align: right;\n",
       "    }\n",
       "</style>\n",
       "<table border=\"1\" class=\"dataframe\">\n",
       "  <thead>\n",
       "    <tr style=\"text-align: right;\">\n",
       "      <th></th>\n",
       "      <th>Date</th>\n",
       "      <th>Price</th>\n",
       "      <th>Open</th>\n",
       "      <th>High</th>\n",
       "      <th>Low</th>\n",
       "      <th>Volume</th>\n",
       "      <th>Change %</th>\n",
       "    </tr>\n",
       "  </thead>\n",
       "  <tbody>\n",
       "    <tr>\n",
       "      <th>0</th>\n",
       "      <td>2021-03-31</td>\n",
       "      <td>291.02</td>\n",
       "      <td>294.00</td>\n",
       "      <td>294.42</td>\n",
       "      <td>290.26</td>\n",
       "      <td>47.00</td>\n",
       "      <td>-0.0076</td>\n",
       "    </tr>\n",
       "    <tr>\n",
       "      <th>1</th>\n",
       "      <td>2021-03-30</td>\n",
       "      <td>293.25</td>\n",
       "      <td>294.86</td>\n",
       "      <td>295.72</td>\n",
       "      <td>291.50</td>\n",
       "      <td>38.81</td>\n",
       "      <td>-0.0002</td>\n",
       "    </tr>\n",
       "    <tr>\n",
       "      <th>2</th>\n",
       "      <td>2021-03-29</td>\n",
       "      <td>293.30</td>\n",
       "      <td>289.72</td>\n",
       "      <td>294.09</td>\n",
       "      <td>289.26</td>\n",
       "      <td>43.68</td>\n",
       "      <td>0.0071</td>\n",
       "    </tr>\n",
       "    <tr>\n",
       "      <th>3</th>\n",
       "      <td>2021-03-26</td>\n",
       "      <td>291.22</td>\n",
       "      <td>288.63</td>\n",
       "      <td>292.75</td>\n",
       "      <td>288.32</td>\n",
       "      <td>56.07</td>\n",
       "      <td>0.0159</td>\n",
       "    </tr>\n",
       "    <tr>\n",
       "      <th>4</th>\n",
       "      <td>2021-03-25</td>\n",
       "      <td>286.66</td>\n",
       "      <td>286.50</td>\n",
       "      <td>287.03</td>\n",
       "      <td>283.85</td>\n",
       "      <td>35.22</td>\n",
       "      <td>0.0030</td>\n",
       "    </tr>\n",
       "  </tbody>\n",
       "</table>\n",
       "</div>"
      ],
      "text/plain": [
       "        Date   Price    Open    High     Low  Volume  Change %\n",
       "0 2021-03-31  291.02  294.00  294.42  290.26   47.00   -0.0076\n",
       "1 2021-03-30  293.25  294.86  295.72  291.50   38.81   -0.0002\n",
       "2 2021-03-29  293.30  289.72  294.09  289.26   43.68    0.0071\n",
       "3 2021-03-26  291.22  288.63  292.75  288.32   56.07    0.0159\n",
       "4 2021-03-25  286.66  286.50  287.03  283.85   35.22    0.0030"
      ]
     },
     "execution_count": 17,
     "metadata": {},
     "output_type": "execute_result"
    }
   ],
   "source": [
    "df_russia.head()"
   ]
  },
  {
   "cell_type": "code",
   "execution_count": 18,
   "id": "rural-convention",
   "metadata": {},
   "outputs": [
    {
     "data": {
      "image/png": "[encoded data removed]",
      "text/plain": [
       "<Figure size 720x432 with 1 Axes>"
      ]
     },
     "metadata": {
      "needs_background": "light"
     },
     "output_type": "display_data"
    }
   ],
   "source": [
    "plt.figure(figsize=(10,6))\n",
    "df_close = df_russia['Price']\n",
    "df_close.plot(style='k.',kind='hist')\n",
    "plt.title('Histogram of closing price')\n",
    "plt.show()"
   ]
  },
  {
   "cell_type": "markdown",
   "id": "prime-think",
   "metadata": {},
   "source": [
    "Testing For Stationarity:\n",
    "\n",
    "To identify the nature of the data, we will be using the null hypothesis.\n",
    "\n",
    "#Ho: It is non-stationary\n",
    "#H1: It is stationary\n",
    "If we fail to reject the null hypothesis, we can say that the series is non-stationary. This means that the series can be linear."
   ]
  },
  {
   "cell_type": "code",
   "execution_count": 19,
   "id": "deluxe-armenia",
   "metadata": {},
   "outputs": [],
   "source": [
    "df_cpy =df_russia.copy()"
   ]
  },
  {
   "cell_type": "code",
   "execution_count": 20,
   "id": "initial-guitar",
   "metadata": {},
   "outputs": [
    {
     "data": {
      "text/html": [
       "<div>\n",
       "<style scoped>\n",
       "    .dataframe tbody tr th:only-of-type {\n",
       "        vertical-align: middle;\n",
       "    }\n",
       "\n",
       "    .dataframe tbody tr th {\n",
       "        vertical-align: top;\n",
       "    }\n",
       "\n",
       "    .dataframe thead th {\n",
       "        text-align: right;\n",
       "    }\n",
       "</style>\n",
       "<table border=\"1\" class=\"dataframe\">\n",
       "  <thead>\n",
       "    <tr style=\"text-align: right;\">\n",
       "      <th></th>\n",
       "      <th>Price</th>\n",
       "      <th>Open</th>\n",
       "      <th>High</th>\n",
       "      <th>Low</th>\n",
       "      <th>Volume</th>\n",
       "      <th>Change %</th>\n",
       "    </tr>\n",
       "    <tr>\n",
       "      <th>Date</th>\n",
       "      <th></th>\n",
       "      <th></th>\n",
       "      <th></th>\n",
       "      <th></th>\n",
       "      <th></th>\n",
       "      <th></th>\n",
       "    </tr>\n",
       "  </thead>\n",
       "  <tbody>\n",
       "    <tr>\n",
       "      <th>2021-03-31</th>\n",
       "      <td>291.02</td>\n",
       "      <td>294.00</td>\n",
       "      <td>294.42</td>\n",
       "      <td>290.26</td>\n",
       "      <td>47.00</td>\n",
       "      <td>-0.0076</td>\n",
       "    </tr>\n",
       "    <tr>\n",
       "      <th>2021-03-30</th>\n",
       "      <td>293.25</td>\n",
       "      <td>294.86</td>\n",
       "      <td>295.72</td>\n",
       "      <td>291.50</td>\n",
       "      <td>38.81</td>\n",
       "      <td>-0.0002</td>\n",
       "    </tr>\n",
       "    <tr>\n",
       "      <th>2021-03-29</th>\n",
       "      <td>293.30</td>\n",
       "      <td>289.72</td>\n",
       "      <td>294.09</td>\n",
       "      <td>289.26</td>\n",
       "      <td>43.68</td>\n",
       "      <td>0.0071</td>\n",
       "    </tr>\n",
       "    <tr>\n",
       "      <th>2021-03-26</th>\n",
       "      <td>291.22</td>\n",
       "      <td>288.63</td>\n",
       "      <td>292.75</td>\n",
       "      <td>288.32</td>\n",
       "      <td>56.07</td>\n",
       "      <td>0.0159</td>\n",
       "    </tr>\n",
       "    <tr>\n",
       "      <th>2021-03-25</th>\n",
       "      <td>286.66</td>\n",
       "      <td>286.50</td>\n",
       "      <td>287.03</td>\n",
       "      <td>283.85</td>\n",
       "      <td>35.22</td>\n",
       "      <td>0.0030</td>\n",
       "    </tr>\n",
       "  </tbody>\n",
       "</table>\n",
       "</div>"
      ],
      "text/plain": [
       "             Price    Open    High     Low  Volume  Change %\n",
       "Date                                                        \n",
       "2021-03-31  291.02  294.00  294.42  290.26   47.00   -0.0076\n",
       "2021-03-30  293.25  294.86  295.72  291.50   38.81   -0.0002\n",
       "2021-03-29  293.30  289.72  294.09  289.26   43.68    0.0071\n",
       "2021-03-26  291.22  288.63  292.75  288.32   56.07    0.0159\n",
       "2021-03-25  286.66  286.50  287.03  283.85   35.22    0.0030"
      ]
     },
     "execution_count": 20,
     "metadata": {},
     "output_type": "execute_result"
    }
   ],
   "source": [
    "#drop Open, Low, High, year and month columns\n",
    "#df_russia=df_russia.drop(['Open','Low','High'],axis=1)\n",
    "df_russia.set_index(\"Date\", inplace = True)\n",
    "df_russia.head()\n"
   ]
  },
  {
   "cell_type": "code",
   "execution_count": 21,
   "id": "center-prophet",
   "metadata": {},
   "outputs": [
    {
     "name": "stdout",
     "output_type": "stream",
     "text": [
      "rolling_mean: Date\n",
      "2021-03-31           NaN\n",
      "2021-03-30           NaN\n",
      "2021-03-29           NaN\n",
      "2021-03-26           NaN\n",
      "2021-03-25           NaN\n",
      "2021-03-24           NaN\n",
      "2021-03-23    289.120000\n",
      "2021-03-22    288.781429\n",
      "2021-03-19    287.670000\n",
      "Name: Price, dtype: float64 \n",
      "\n",
      "rolling_std: Date\n",
      "2021-03-31         NaN\n",
      "2021-03-30         NaN\n",
      "2021-03-29         NaN\n",
      "2021-03-26         NaN\n",
      "2021-03-25         NaN\n",
      "2021-03-24         NaN\n",
      "2021-03-23    4.127150\n",
      "2021-03-22    4.041631\n",
      "2021-03-19    3.659672\n",
      "Name: Price, dtype: float64\n"
     ]
    },
    {
     "data": {
      "image/png": "[encoded data removed]",
      "text/plain": [
       "<Figure size 1080x504 with 1 Axes>"
      ]
     },
     "metadata": {
      "needs_background": "light"
     },
     "output_type": "display_data"
    },
    {
     "name": "stdout",
     "output_type": "stream",
     "text": [
      "Results of dickey fuller test\n",
      "Test Statistics                 -1.847182\n",
      "p-value                          0.357301\n",
      "No. of lags used                 8.000000\n",
      "Number of observations used    302.000000\n",
      "critical value (1%)             -3.452190\n",
      "critical value (5%)             -2.871158\n",
      "critical value (10%)            -2.571895\n",
      "dtype: float64\n"
     ]
    }
   ],
   "source": [
    "def test_stationarity(timeseries):\n",
    "    #Determing rolling statistics\n",
    "    rolmean = timeseries.rolling(7).mean()\n",
    "    rolstd = timeseries.rolling(7).std()\n",
    "    print('rolling_mean:', rolmean.head(9),'\\n')\n",
    "    print('rolling_std:', rolstd.head(9))\n",
    "    #Plot rolling statistics:\n",
    "    plt.figure(figsize=(15,7))\n",
    "    plt.plot(timeseries, color='blue',label='Original')\n",
    "    plt.plot(rolmean, color='red', label='Rolling Mean')\n",
    "    plt.plot(rolstd, color='black', label = 'Rolling Std')\n",
    "    plt.legend(loc='best')\n",
    "    plt.title('Rolling Mean and Standard Deviation')\n",
    "    plt.show(block=False)\n",
    "    print(\"Results of dickey fuller test\")\n",
    "    adft = adfuller(timeseries,autolag='AIC')\n",
    "    # output for dft will give us without defining what the values are.\n",
    "    #hence we manually write what values does it explains using a for loop\n",
    "    output = pd.Series(adft[0:4],index=['Test Statistics','p-value','No. of lags used','Number of observations used'])\n",
    "    for key,values in adft[4].items():\n",
    "        output['critical value (%s)'%key] =  values\n",
    "    print(output)\n",
    "\n",
    "test_stationarity(df_russia['Price'])\n"
   ]
  },
  {
   "cell_type": "code",
   "execution_count": 22,
   "id": "sized-butterfly",
   "metadata": {},
   "outputs": [],
   "source": [
    "#We see that the p-value is greater than 0.05 so we cannot reject the null hypothesis - that the time series is non-stationary and does have time-dependent structure. Also, the test statistics is greater than the critical values. so the data is non-stationary and does have time-dependent structure."
   ]
  },
  {
   "cell_type": "code",
   "execution_count": 23,
   "id": "successful-excerpt",
   "metadata": {},
   "outputs": [],
   "source": [
    "#From non stationary to stationary series\n",
    "#One method for transforming the simplest non-stationary data is differencing. \n",
    "#This process involves taking the differences of consecutive observations.\n",
    "#For simple distributions, taking the first-order difference."
   ]
  },
  {
   "cell_type": "code",
   "execution_count": 24,
   "id": "smooth-breach",
   "metadata": {},
   "outputs": [
    {
     "data": {
      "text/html": [
       "<div>\n",
       "<style scoped>\n",
       "    .dataframe tbody tr th:only-of-type {\n",
       "        vertical-align: middle;\n",
       "    }\n",
       "\n",
       "    .dataframe tbody tr th {\n",
       "        vertical-align: top;\n",
       "    }\n",
       "\n",
       "    .dataframe thead th {\n",
       "        text-align: right;\n",
       "    }\n",
       "</style>\n",
       "<table border=\"1\" class=\"dataframe\">\n",
       "  <thead>\n",
       "    <tr style=\"text-align: right;\">\n",
       "      <th></th>\n",
       "      <th>Price</th>\n",
       "      <th>Open</th>\n",
       "      <th>High</th>\n",
       "      <th>Low</th>\n",
       "      <th>Volume</th>\n",
       "      <th>Change %</th>\n",
       "      <th>diff_1</th>\n",
       "    </tr>\n",
       "    <tr>\n",
       "      <th>Date</th>\n",
       "      <th></th>\n",
       "      <th></th>\n",
       "      <th></th>\n",
       "      <th></th>\n",
       "      <th></th>\n",
       "      <th></th>\n",
       "      <th></th>\n",
       "    </tr>\n",
       "  </thead>\n",
       "  <tbody>\n",
       "    <tr>\n",
       "      <th>2021-03-31</th>\n",
       "      <td>291.02</td>\n",
       "      <td>294.00</td>\n",
       "      <td>294.42</td>\n",
       "      <td>290.26</td>\n",
       "      <td>47.00</td>\n",
       "      <td>-0.0076</td>\n",
       "      <td>NaN</td>\n",
       "    </tr>\n",
       "    <tr>\n",
       "      <th>2021-03-30</th>\n",
       "      <td>293.25</td>\n",
       "      <td>294.86</td>\n",
       "      <td>295.72</td>\n",
       "      <td>291.50</td>\n",
       "      <td>38.81</td>\n",
       "      <td>-0.0002</td>\n",
       "      <td>2.23</td>\n",
       "    </tr>\n",
       "    <tr>\n",
       "      <th>2021-03-29</th>\n",
       "      <td>293.30</td>\n",
       "      <td>289.72</td>\n",
       "      <td>294.09</td>\n",
       "      <td>289.26</td>\n",
       "      <td>43.68</td>\n",
       "      <td>0.0071</td>\n",
       "      <td>0.05</td>\n",
       "    </tr>\n",
       "    <tr>\n",
       "      <th>2021-03-26</th>\n",
       "      <td>291.22</td>\n",
       "      <td>288.63</td>\n",
       "      <td>292.75</td>\n",
       "      <td>288.32</td>\n",
       "      <td>56.07</td>\n",
       "      <td>0.0159</td>\n",
       "      <td>-2.08</td>\n",
       "    </tr>\n",
       "    <tr>\n",
       "      <th>2021-03-25</th>\n",
       "      <td>286.66</td>\n",
       "      <td>286.50</td>\n",
       "      <td>287.03</td>\n",
       "      <td>283.85</td>\n",
       "      <td>35.22</td>\n",
       "      <td>0.0030</td>\n",
       "      <td>-4.56</td>\n",
       "    </tr>\n",
       "  </tbody>\n",
       "</table>\n",
       "</div>"
      ],
      "text/plain": [
       "             Price    Open    High     Low  Volume  Change %  diff_1\n",
       "Date                                                                \n",
       "2021-03-31  291.02  294.00  294.42  290.26   47.00   -0.0076     NaN\n",
       "2021-03-30  293.25  294.86  295.72  291.50   38.81   -0.0002    2.23\n",
       "2021-03-29  293.30  289.72  294.09  289.26   43.68    0.0071    0.05\n",
       "2021-03-26  291.22  288.63  292.75  288.32   56.07    0.0159   -2.08\n",
       "2021-03-25  286.66  286.50  287.03  283.85   35.22    0.0030   -4.56"
      ]
     },
     "execution_count": 24,
     "metadata": {},
     "output_type": "execute_result"
    }
   ],
   "source": [
    "df_russia[\"diff_1\"] = df_russia.Price.diff(periods=1)\n",
    "df_russia.head()"
   ]
  },
  {
   "cell_type": "code",
   "execution_count": 25,
   "id": "detailed-tongue",
   "metadata": {},
   "outputs": [
    {
     "name": "stdout",
     "output_type": "stream",
     "text": [
      "The new p-value is: 4.3951775754216564e-07\n"
     ]
    }
   ],
   "source": [
    "results = adfuller(df_russia[\"diff_1\"].dropna())\n",
    "print('The new p-value is:',results[1])"
   ]
  },
  {
   "cell_type": "code",
   "execution_count": 26,
   "id": "saved-judge",
   "metadata": {},
   "outputs": [
    {
     "data": {
      "text/plain": [
       "<AxesSubplot:title={'center':'The distribution of the new series'}, xlabel='Date'>"
      ]
     },
     "execution_count": 26,
     "metadata": {},
     "output_type": "execute_result"
    },
    {
     "data": {
      "image/png": "[encoded data removed]",
      "text/plain": [
       "<Figure size 1152x432 with 1 Axes>"
      ]
     },
     "metadata": {
      "needs_background": "light"
     },
     "output_type": "display_data"
    }
   ],
   "source": [
    "#plot the new series\n",
    "plt.figure(figsize=(16,6))\n",
    "plt.title(\"The distribution of the new series\")\n",
    "df_russia['diff_1'].plot()\n"
   ]
  },
  {
   "cell_type": "code",
   "execution_count": 27,
   "id": "attended-cause",
   "metadata": {},
   "outputs": [
    {
     "data": {
      "image/png": "[encoded data removed]",
      "text/plain": [
       "<Figure size 1080x504 with 1 Axes>"
      ]
     },
     "metadata": {
      "needs_background": "light"
     },
     "output_type": "display_data"
    }
   ],
   "source": [
    "#plot rolling statistics\n",
    "plt.figure(figsize=(15,7))\n",
    "orig=plt.plot(df_russia.diff_1, color='blue',label='Price')\n",
    "R_mean=plt.plot(df_russia.diff_1.rolling(7).mean(), color='red',label='rolling_mean')\n",
    "R_std=plt.plot(df_russia.diff_1.rolling(7).std(), color='black',label='rolling_std')\n",
    "plt.legend(loc='best')\n",
    "plt.title('Rolling mean & standard deviation for the new series')\n",
    "plt.show(block='False')\n",
    "\n"
   ]
  },
  {
   "cell_type": "code",
   "execution_count": 28,
   "id": "stone-muscle",
   "metadata": {},
   "outputs": [
    {
     "data": {
      "image/png": "[encoded data removed]",
      "text/plain": [
       "<Figure size 1080x504 with 3 Axes>"
      ]
     },
     "metadata": {
      "needs_background": "light"
     },
     "output_type": "display_data"
    }
   ],
   "source": [
    "# Original Series\n",
    "fig, axes = plt.subplots(1, 3, sharex=True,figsize=(15, 7))\n",
    "axes[0].plot(df_russia.Price)\n",
    "axes[0].set_title('Original Series')\n",
    "#plot_acf(df1_russia.Price, ax=axes[0, 1])\n",
    "\n",
    "# 1st Differencing\n",
    "axes[1].plot(df_russia.Price.diff())\n",
    "axes[1].set_title('1st Order Differencing')\n",
    "#plot_acf(df1_russia.Price.diff().dropna(), ax=axes[1, 1])\n",
    "\n",
    "# 2nd Differencing\n",
    "axes[2].plot(df_russia.Price.diff().diff())\n",
    "axes[2].set_title('2nd Order Differencing')\n",
    "#plot_acf(df1_russia.Price.diff().diff().dropna(), ax=axes[2, 1])\n",
    "\n",
    "plt.show()"
   ]
  },
  {
   "cell_type": "code",
   "execution_count": 29,
   "id": "female-execution",
   "metadata": {},
   "outputs": [
    {
     "data": {
      "image/png": "[encoded data removed]",
      "text/plain": [
       "<Figure size 1080x504 with 3 Axes>"
      ]
     },
     "metadata": {
      "needs_background": "light"
     },
     "output_type": "display_data"
    }
   ],
   "source": [
    "#Plot autocorrelation\n",
    "# Original Series\n",
    "fig, axes = plt.subplots(1, 3, sharex=True,figsize=(15, 7))\n",
    "plot_acf(df_russia.Price, ax=axes[0])\n",
    "axes[0].set_title('AC for Original Series')\n",
    "\n",
    "# 1st Differencing\n",
    "plot_acf(df_russia.Price.diff().dropna(), ax=axes[1])\n",
    "axes[1].set_title('AC 1st Order Differencing')\n",
    "\n",
    "# 2nd Differencing\n",
    "plot_acf(df_russia.Price.diff().diff().dropna(), ax=axes[2])\n",
    "axes[2].set_title('AC 2nd Order Differencing')\n",
    "\n",
    "plt.show()"
   ]
  },
  {
   "cell_type": "code",
   "execution_count": 30,
   "id": "atomic-eating",
   "metadata": {},
   "outputs": [],
   "source": [
    "#d=1 ?\n",
    "#How do we know if there is seasonality?\n",
    "#how do we decide p,q?"
   ]
  },
  {
   "cell_type": "code",
   "execution_count": 31,
   "id": "functional-birmingham",
   "metadata": {
    "scrolled": true
   },
   "outputs": [
    {
     "name": "stderr",
     "output_type": "stream",
     "text": [
      "/Library/Frameworks/Python.framework/Versions/3.8/lib/python3.8/site-packages/statsmodels/graphics/tsaplots.py:348: FutureWarning: The default method 'yw' can produce PACF values outside of the [-1,1] interval. After 0.13, the default will change tounadjusted Yule-Walker ('ywm'). You can use this method now by setting method='ywm'.\n",
      "  warnings.warn(\n",
      "/Library/Frameworks/Python.framework/Versions/3.8/lib/python3.8/site-packages/statsmodels/graphics/tsaplots.py:348: FutureWarning: The default method 'yw' can produce PACF values outside of the [-1,1] interval. After 0.13, the default will change tounadjusted Yule-Walker ('ywm'). You can use this method now by setting method='ywm'.\n",
      "  warnings.warn(\n"
     ]
    },
    {
     "data": {
      "image/png": "[encoded data removed]",
      "text/plain": [
       "<Figure size 1080x504 with 2 Axes>"
      ]
     },
     "metadata": {
      "needs_background": "light"
     },
     "output_type": "display_data"
    }
   ],
   "source": [
    "#Plot partial autocorrelation\n",
    "fig, axes = plt.subplots(1, 2, sharex=True,figsize=(15, 7))\n",
    "# 1st Differencing\n",
    "plot_pacf(df_russia.Price.diff().dropna(), ax=axes[0])\n",
    "axes[0].set_title('PAC for 1st Order Differencing')\n",
    "\n",
    "# 2nd Differencing\n",
    "plot_pacf(df_russia.Price.diff().diff().dropna(), ax=axes[1])\n",
    "axes[1].set_title('PAC for 2nd Order Differencing')\n",
    "\n",
    "plt.show()"
   ]
  },
  {
   "cell_type": "code",
   "execution_count": 32,
   "id": "informative-increase",
   "metadata": {},
   "outputs": [],
   "source": [
    "#split the data\n",
    "train_rus = df_russia[df_russia.index < pd.to_datetime('2021-01-01', format=\"%Y-%m-%d\")]\n",
    "train_rus = train_rus.dropna()\n",
    "test_rus = df_russia[df_russia.index >= pd.to_datetime('2021-01-01', format=\"%Y-%m-%d\")]\n",
    "test_rus = test_rus.dropna()"
   ]
  },
  {
   "cell_type": "code",
   "execution_count": 33,
   "id": "adjustable-excerpt",
   "metadata": {},
   "outputs": [
    {
     "data": {
      "text/plain": [
       "Timestamp('2020-12-30 00:00:00')"
      ]
     },
     "execution_count": 33,
     "metadata": {},
     "output_type": "execute_result"
    }
   ],
   "source": [
    "train_rus.index.max()"
   ]
  },
  {
   "cell_type": "code",
   "execution_count": 34,
   "id": "fossil-gender",
   "metadata": {},
   "outputs": [
    {
     "data": {
      "text/html": [
       "<div>\n",
       "<style scoped>\n",
       "    .dataframe tbody tr th:only-of-type {\n",
       "        vertical-align: middle;\n",
       "    }\n",
       "\n",
       "    .dataframe tbody tr th {\n",
       "        vertical-align: top;\n",
       "    }\n",
       "\n",
       "    .dataframe thead th {\n",
       "        text-align: right;\n",
       "    }\n",
       "</style>\n",
       "<table border=\"1\" class=\"dataframe\">\n",
       "  <thead>\n",
       "    <tr style=\"text-align: right;\">\n",
       "      <th></th>\n",
       "      <th>Price</th>\n",
       "      <th>Open</th>\n",
       "      <th>High</th>\n",
       "      <th>Low</th>\n",
       "      <th>Volume</th>\n",
       "      <th>Change %</th>\n",
       "      <th>diff_1</th>\n",
       "    </tr>\n",
       "    <tr>\n",
       "      <th>Date</th>\n",
       "      <th></th>\n",
       "      <th></th>\n",
       "      <th></th>\n",
       "      <th></th>\n",
       "      <th></th>\n",
       "      <th></th>\n",
       "      <th></th>\n",
       "    </tr>\n",
       "  </thead>\n",
       "  <tbody>\n",
       "    <tr>\n",
       "      <th>2021-03-30</th>\n",
       "      <td>293.25</td>\n",
       "      <td>294.86</td>\n",
       "      <td>295.72</td>\n",
       "      <td>291.50</td>\n",
       "      <td>38.81</td>\n",
       "      <td>-0.0002</td>\n",
       "      <td>2.23</td>\n",
       "    </tr>\n",
       "    <tr>\n",
       "      <th>2021-03-29</th>\n",
       "      <td>293.30</td>\n",
       "      <td>289.72</td>\n",
       "      <td>294.09</td>\n",
       "      <td>289.26</td>\n",
       "      <td>43.68</td>\n",
       "      <td>0.0071</td>\n",
       "      <td>0.05</td>\n",
       "    </tr>\n",
       "    <tr>\n",
       "      <th>2021-03-26</th>\n",
       "      <td>291.22</td>\n",
       "      <td>288.63</td>\n",
       "      <td>292.75</td>\n",
       "      <td>288.32</td>\n",
       "      <td>56.07</td>\n",
       "      <td>0.0159</td>\n",
       "      <td>-2.08</td>\n",
       "    </tr>\n",
       "    <tr>\n",
       "      <th>2021-03-25</th>\n",
       "      <td>286.66</td>\n",
       "      <td>286.50</td>\n",
       "      <td>287.03</td>\n",
       "      <td>283.85</td>\n",
       "      <td>35.22</td>\n",
       "      <td>0.0030</td>\n",
       "      <td>-4.56</td>\n",
       "    </tr>\n",
       "    <tr>\n",
       "      <th>2021-03-24</th>\n",
       "      <td>285.79</td>\n",
       "      <td>283.40</td>\n",
       "      <td>288.00</td>\n",
       "      <td>282.25</td>\n",
       "      <td>46.41</td>\n",
       "      <td>0.0113</td>\n",
       "      <td>-0.87</td>\n",
       "    </tr>\n",
       "  </tbody>\n",
       "</table>\n",
       "</div>"
      ],
      "text/plain": [
       "             Price    Open    High     Low  Volume  Change %  diff_1\n",
       "Date                                                                \n",
       "2021-03-30  293.25  294.86  295.72  291.50   38.81   -0.0002    2.23\n",
       "2021-03-29  293.30  289.72  294.09  289.26   43.68    0.0071    0.05\n",
       "2021-03-26  291.22  288.63  292.75  288.32   56.07    0.0159   -2.08\n",
       "2021-03-25  286.66  286.50  287.03  283.85   35.22    0.0030   -4.56\n",
       "2021-03-24  285.79  283.40  288.00  282.25   46.41    0.0113   -0.87"
      ]
     },
     "execution_count": 34,
     "metadata": {},
     "output_type": "execute_result"
    }
   ],
   "source": [
    "test_rus.head()"
   ]
  },
  {
   "cell_type": "code",
   "execution_count": 35,
   "id": "trained-blanket",
   "metadata": {},
   "outputs": [
    {
     "data": {
      "text/plain": [
       "Timestamp('2020-01-03 00:00:00')"
      ]
     },
     "execution_count": 35,
     "metadata": {},
     "output_type": "execute_result"
    }
   ],
   "source": [
    "train_rus.index.min()"
   ]
  },
  {
   "cell_type": "code",
   "execution_count": 36,
   "id": "designed-inspiration",
   "metadata": {},
   "outputs": [
    {
     "data": {
      "text/plain": [
       "<matplotlib.legend.Legend at 0x12e285d00>"
      ]
     },
     "execution_count": 36,
     "metadata": {},
     "output_type": "execute_result"
    },
    {
     "data": {
      "image/png": "[encoded data removed]",
      "text/plain": [
       "<Figure size 720x432 with 1 Axes>"
      ]
     },
     "metadata": {
      "needs_background": "light"
     },
     "output_type": "display_data"
    }
   ],
   "source": [
    "#plot the distribution of train and test\n",
    "plt.figure(figsize=(10,6))\n",
    "plt.grid(True)\n",
    "plt.xlabel('Dates')\n",
    "plt.ylabel('Closing Prices')\n",
    "plt.plot(train_rus.Price, 'green', label='Train data')\n",
    "plt.plot(test_rus.Price, 'blue', label='Test data')\n",
    "plt.title('Distribution of train and test datasets')\n",
    "plt.legend()"
   ]
  },
  {
   "cell_type": "code",
   "execution_count": 37,
   "id": "south-discovery",
   "metadata": {},
   "outputs": [],
   "source": [
    "arima_model = pm.auto_arima(train_rus['Price'].sort_index(), start_p=1, start_q=1, test='adf', max_p=6, max_q=6, \n",
    "                      m=1, d=None, seasonal=False, start_P=0, D=1, trace=False, error_action='ignore',  \n",
    "                      suppress_warnings=True, stepwise=False)"
   ]
  },
  {
   "cell_type": "code",
   "execution_count": 38,
   "id": "prime-wiring",
   "metadata": {},
   "outputs": [
    {
     "name": "stderr",
     "output_type": "stream",
     "text": [
      "/Library/Frameworks/Python.framework/Versions/3.8/lib/python3.8/site-packages/statsmodels/tsa/base/tsa_model.py:834: ValueWarning: No supported index is available. Prediction results will be given with an integer index beginning at `start`.\n",
      "  return get_prediction_index(\n"
     ]
    }
   ],
   "source": [
    "y_pred = arima_model.predict(len(test_rus['Price']))"
   ]
  },
  {
   "cell_type": "code",
   "execution_count": 39,
   "id": "documentary-switzerland",
   "metadata": {},
   "outputs": [
    {
     "data": {
      "text/plain": [
       "250    272.015074\n",
       "251    273.077896\n",
       "252    271.712241\n",
       "253    272.763563\n",
       "254    272.654947\n",
       "255    272.261564\n",
       "256    272.977076\n",
       "257    272.602780\n",
       "258    272.742151\n",
       "259    273.020721\n",
       "260    272.793100\n",
       "261    273.056766\n",
       "262    273.093106\n",
       "263    273.061800\n",
       "264    273.261494\n",
       "265    273.239761\n",
       "266    273.318566\n",
       "267    273.430078\n",
       "268    273.436204\n",
       "269    273.542107\n",
       "270    273.603577\n",
       "271    273.649304\n",
       "272    273.743095\n",
       "273    273.791935\n",
       "274    273.860399\n",
       "275    273.936411\n",
       "276    273.990507\n",
       "277    274.064851\n",
       "278    274.130534\n",
       "279    274.192611\n",
       "280    274.264678\n",
       "281    274.327627\n",
       "282    274.394394\n",
       "283    274.462880\n",
       "284    274.526813\n",
       "285    274.594851\n",
       "286    274.661207\n",
       "287    274.726747\n",
       "288    274.794360\n",
       "289    274.860126\n",
       "290    274.926633\n",
       "291    274.993526\n",
       "292    275.059475\n",
       "293    275.126255\n",
       "294    275.192709\n",
       "295    275.258981\n",
       "296    275.325682\n",
       "297    275.392010\n",
       "298    275.458481\n",
       "299    275.525038\n",
       "300    275.591399\n",
       "301    275.657928\n",
       "302    275.724395\n",
       "303    275.790821\n",
       "304    275.857336\n",
       "305    275.923775\n",
       "306    275.990242\n",
       "307    276.056728\n",
       "308    276.123174\n",
       "309    276.189653\n",
       "dtype: float64"
      ]
     },
     "execution_count": 39,
     "metadata": {},
     "output_type": "execute_result"
    }
   ],
   "source": [
    "y_pred"
   ]
  },
  {
   "cell_type": "code",
   "execution_count": 40,
   "id": "eleven-chester",
   "metadata": {},
   "outputs": [],
   "source": [
    "test_new = test_rus.sort_index()"
   ]
  },
  {
   "cell_type": "code",
   "execution_count": 41,
   "id": "union-deadline",
   "metadata": {},
   "outputs": [],
   "source": [
    "test_new['Pred'] = y_pred.values"
   ]
  },
  {
   "cell_type": "code",
   "execution_count": 42,
   "id": "further-circulation",
   "metadata": {},
   "outputs": [
    {
     "data": {
      "text/html": [
       "<div>\n",
       "<style scoped>\n",
       "    .dataframe tbody tr th:only-of-type {\n",
       "        vertical-align: middle;\n",
       "    }\n",
       "\n",
       "    .dataframe tbody tr th {\n",
       "        vertical-align: top;\n",
       "    }\n",
       "\n",
       "    .dataframe thead th {\n",
       "        text-align: right;\n",
       "    }\n",
       "</style>\n",
       "<table border=\"1\" class=\"dataframe\">\n",
       "  <thead>\n",
       "    <tr style=\"text-align: right;\">\n",
       "      <th></th>\n",
       "      <th>Price</th>\n",
       "      <th>Open</th>\n",
       "      <th>High</th>\n",
       "      <th>Low</th>\n",
       "      <th>Volume</th>\n",
       "      <th>Change %</th>\n",
       "      <th>diff_1</th>\n",
       "    </tr>\n",
       "    <tr>\n",
       "      <th>Date</th>\n",
       "      <th></th>\n",
       "      <th></th>\n",
       "      <th></th>\n",
       "      <th></th>\n",
       "      <th></th>\n",
       "      <th></th>\n",
       "      <th></th>\n",
       "    </tr>\n",
       "  </thead>\n",
       "  <tbody>\n",
       "    <tr>\n",
       "      <th>2021-03-30</th>\n",
       "      <td>293.25</td>\n",
       "      <td>294.86</td>\n",
       "      <td>295.72</td>\n",
       "      <td>291.50</td>\n",
       "      <td>38.81</td>\n",
       "      <td>-0.0002</td>\n",
       "      <td>2.23</td>\n",
       "    </tr>\n",
       "    <tr>\n",
       "      <th>2021-03-29</th>\n",
       "      <td>293.30</td>\n",
       "      <td>289.72</td>\n",
       "      <td>294.09</td>\n",
       "      <td>289.26</td>\n",
       "      <td>43.68</td>\n",
       "      <td>0.0071</td>\n",
       "      <td>0.05</td>\n",
       "    </tr>\n",
       "    <tr>\n",
       "      <th>2021-03-26</th>\n",
       "      <td>291.22</td>\n",
       "      <td>288.63</td>\n",
       "      <td>292.75</td>\n",
       "      <td>288.32</td>\n",
       "      <td>56.07</td>\n",
       "      <td>0.0159</td>\n",
       "      <td>-2.08</td>\n",
       "    </tr>\n",
       "    <tr>\n",
       "      <th>2021-03-25</th>\n",
       "      <td>286.66</td>\n",
       "      <td>286.50</td>\n",
       "      <td>287.03</td>\n",
       "      <td>283.85</td>\n",
       "      <td>35.22</td>\n",
       "      <td>0.0030</td>\n",
       "      <td>-4.56</td>\n",
       "    </tr>\n",
       "    <tr>\n",
       "      <th>2021-03-24</th>\n",
       "      <td>285.79</td>\n",
       "      <td>283.40</td>\n",
       "      <td>288.00</td>\n",
       "      <td>282.25</td>\n",
       "      <td>46.41</td>\n",
       "      <td>0.0113</td>\n",
       "      <td>-0.87</td>\n",
       "    </tr>\n",
       "  </tbody>\n",
       "</table>\n",
       "</div>"
      ],
      "text/plain": [
       "             Price    Open    High     Low  Volume  Change %  diff_1\n",
       "Date                                                                \n",
       "2021-03-30  293.25  294.86  295.72  291.50   38.81   -0.0002    2.23\n",
       "2021-03-29  293.30  289.72  294.09  289.26   43.68    0.0071    0.05\n",
       "2021-03-26  291.22  288.63  292.75  288.32   56.07    0.0159   -2.08\n",
       "2021-03-25  286.66  286.50  287.03  283.85   35.22    0.0030   -4.56\n",
       "2021-03-24  285.79  283.40  288.00  282.25   46.41    0.0113   -0.87"
      ]
     },
     "execution_count": 42,
     "metadata": {},
     "output_type": "execute_result"
    }
   ],
   "source": [
    "test_rus.head()"
   ]
  },
  {
   "cell_type": "code",
   "execution_count": 43,
   "id": "saved-month",
   "metadata": {},
   "outputs": [],
   "source": [
    "def actual_prediction_plot(actual, prediction):\n",
    "    plt.figure(figsize=(16, 5))\n",
    "    plt.plot(actual, label='Actual', linewidth=1.5)\n",
    "    plt.plot(prediction, label='Predictions', linewidth=1.5)\n",
    "    plt.title('Actual  VS. Predicted Price', fontsize=20)\n",
    "    plt.legend();"
   ]
  },
  {
   "cell_type": "code",
   "execution_count": 44,
   "id": "curious-interpretation",
   "metadata": {},
   "outputs": [
    {
     "data": {
      "image/png": "[encoded data removed]",
      "text/plain": [
       "<Figure size 1152x360 with 1 Axes>"
      ]
     },
     "metadata": {
      "needs_background": "light"
     },
     "output_type": "display_data"
    }
   ],
   "source": [
    "actual_prediction_plot(test_rus['Price'], test_new['Pred'])"
   ]
  },
  {
   "cell_type": "code",
   "execution_count": 45,
   "id": "excessive-trial",
   "metadata": {},
   "outputs": [
    {
     "name": "stdout",
     "output_type": "stream",
     "text": [
      "MSE: 96.20498770262476\n",
      "MAE: 8.042860350399748\n",
      "RMSE: 9.8084141278101\n",
      "MAPE: 0.0263220080339296\n"
     ]
    }
   ],
   "source": [
    "mse = mean_squared_error(test_rus['Price'], test_new['Pred'])\n",
    "print('MSE: '+str(mse))\n",
    "mae = mean_absolute_error(test_rus['Price'], test_new['Pred'])\n",
    "print('MAE: '+str(mae))\n",
    "rmse = math.sqrt(mean_squared_error(test_rus['Price'], test_new['Pred']))\n",
    "print('RMSE: '+str(rmse))\n",
    "mape = np.mean(np.abs(test_new['Pred'] - test_rus['Price'])/np.abs(test_rus['Price']))\n",
    "print('MAPE: '+str(mape))"
   ]
  },
  {
   "cell_type": "code",
   "execution_count": 46,
   "id": "twelve-office",
   "metadata": {},
   "outputs": [],
   "source": [
    "#arimax\n"
   ]
  },
  {
   "cell_type": "code",
   "execution_count": 47,
   "id": "premium-prompt",
   "metadata": {},
   "outputs": [
    {
     "data": {
      "text/html": [
       "<div>\n",
       "<style scoped>\n",
       "    .dataframe tbody tr th:only-of-type {\n",
       "        vertical-align: middle;\n",
       "    }\n",
       "\n",
       "    .dataframe tbody tr th {\n",
       "        vertical-align: top;\n",
       "    }\n",
       "\n",
       "    .dataframe thead th {\n",
       "        text-align: right;\n",
       "    }\n",
       "</style>\n",
       "<table border=\"1\" class=\"dataframe\">\n",
       "  <thead>\n",
       "    <tr style=\"text-align: right;\">\n",
       "      <th></th>\n",
       "      <th>Price</th>\n",
       "      <th>Open</th>\n",
       "      <th>High</th>\n",
       "      <th>Low</th>\n",
       "      <th>Volume</th>\n",
       "      <th>Change %</th>\n",
       "      <th>diff_1</th>\n",
       "    </tr>\n",
       "    <tr>\n",
       "      <th>Date</th>\n",
       "      <th></th>\n",
       "      <th></th>\n",
       "      <th></th>\n",
       "      <th></th>\n",
       "      <th></th>\n",
       "      <th></th>\n",
       "      <th></th>\n",
       "    </tr>\n",
       "  </thead>\n",
       "  <tbody>\n",
       "    <tr>\n",
       "      <th>2020-01-03</th>\n",
       "      <td>255.00</td>\n",
       "      <td>255.99</td>\n",
       "      <td>258.19</td>\n",
       "      <td>253.70</td>\n",
       "      <td>35.85</td>\n",
       "      <td>0.0010</td>\n",
       "      <td>1.10</td>\n",
       "    </tr>\n",
       "    <tr>\n",
       "      <th>2020-01-06</th>\n",
       "      <td>253.90</td>\n",
       "      <td>254.75</td>\n",
       "      <td>254.84</td>\n",
       "      <td>251.40</td>\n",
       "      <td>22.35</td>\n",
       "      <td>-0.0043</td>\n",
       "      <td>-5.25</td>\n",
       "    </tr>\n",
       "    <tr>\n",
       "      <th>2020-01-08</th>\n",
       "      <td>259.15</td>\n",
       "      <td>253.57</td>\n",
       "      <td>259.15</td>\n",
       "      <td>253.03</td>\n",
       "      <td>40.82</td>\n",
       "      <td>0.0207</td>\n",
       "      <td>1.16</td>\n",
       "    </tr>\n",
       "    <tr>\n",
       "      <th>2020-01-09</th>\n",
       "      <td>257.99</td>\n",
       "      <td>259.40</td>\n",
       "      <td>261.76</td>\n",
       "      <td>257.01</td>\n",
       "      <td>38.33</td>\n",
       "      <td>-0.0045</td>\n",
       "      <td>-0.20</td>\n",
       "    </tr>\n",
       "    <tr>\n",
       "      <th>2020-01-10</th>\n",
       "      <td>258.19</td>\n",
       "      <td>257.86</td>\n",
       "      <td>259.25</td>\n",
       "      <td>256.88</td>\n",
       "      <td>18.85</td>\n",
       "      <td>0.0008</td>\n",
       "      <td>-4.21</td>\n",
       "    </tr>\n",
       "  </tbody>\n",
       "</table>\n",
       "</div>"
      ],
      "text/plain": [
       "             Price    Open    High     Low  Volume  Change %  diff_1\n",
       "Date                                                                \n",
       "2020-01-03  255.00  255.99  258.19  253.70   35.85    0.0010    1.10\n",
       "2020-01-06  253.90  254.75  254.84  251.40   22.35   -0.0043   -5.25\n",
       "2020-01-08  259.15  253.57  259.15  253.03   40.82    0.0207    1.16\n",
       "2020-01-09  257.99  259.40  261.76  257.01   38.33   -0.0045   -0.20\n",
       "2020-01-10  258.19  257.86  259.25  256.88   18.85    0.0008   -4.21"
      ]
     },
     "execution_count": 47,
     "metadata": {},
     "output_type": "execute_result"
    }
   ],
   "source": [
    "df1_russia=df_russia.copy().sort_index()\n",
    "df1_russia.head()"
   ]
  },
  {
   "cell_type": "code",
   "execution_count": 48,
   "id": "marked-vegetable",
   "metadata": {
    "scrolled": true
   },
   "outputs": [
    {
     "data": {
      "text/html": [
       "<div>\n",
       "<style scoped>\n",
       "    .dataframe tbody tr th:only-of-type {\n",
       "        vertical-align: middle;\n",
       "    }\n",
       "\n",
       "    .dataframe tbody tr th {\n",
       "        vertical-align: top;\n",
       "    }\n",
       "\n",
       "    .dataframe thead th {\n",
       "        text-align: right;\n",
       "    }\n",
       "</style>\n",
       "<table border=\"1\" class=\"dataframe\">\n",
       "  <thead>\n",
       "    <tr style=\"text-align: right;\">\n",
       "      <th></th>\n",
       "      <th>Date</th>\n",
       "      <th>Price</th>\n",
       "      <th>Open</th>\n",
       "      <th>High</th>\n",
       "      <th>Low</th>\n",
       "      <th>Volume</th>\n",
       "      <th>Change %</th>\n",
       "      <th>diff_1</th>\n",
       "    </tr>\n",
       "  </thead>\n",
       "  <tbody>\n",
       "    <tr>\n",
       "      <th>0</th>\n",
       "      <td>2020-01-03</td>\n",
       "      <td>255.00</td>\n",
       "      <td>255.99</td>\n",
       "      <td>258.19</td>\n",
       "      <td>253.70</td>\n",
       "      <td>35.85</td>\n",
       "      <td>0.0010</td>\n",
       "      <td>1.10</td>\n",
       "    </tr>\n",
       "    <tr>\n",
       "      <th>1</th>\n",
       "      <td>2020-01-06</td>\n",
       "      <td>253.90</td>\n",
       "      <td>254.75</td>\n",
       "      <td>254.84</td>\n",
       "      <td>251.40</td>\n",
       "      <td>22.35</td>\n",
       "      <td>-0.0043</td>\n",
       "      <td>-5.25</td>\n",
       "    </tr>\n",
       "    <tr>\n",
       "      <th>2</th>\n",
       "      <td>2020-01-08</td>\n",
       "      <td>259.15</td>\n",
       "      <td>253.57</td>\n",
       "      <td>259.15</td>\n",
       "      <td>253.03</td>\n",
       "      <td>40.82</td>\n",
       "      <td>0.0207</td>\n",
       "      <td>1.16</td>\n",
       "    </tr>\n",
       "    <tr>\n",
       "      <th>3</th>\n",
       "      <td>2020-01-09</td>\n",
       "      <td>257.99</td>\n",
       "      <td>259.40</td>\n",
       "      <td>261.76</td>\n",
       "      <td>257.01</td>\n",
       "      <td>38.33</td>\n",
       "      <td>-0.0045</td>\n",
       "      <td>-0.20</td>\n",
       "    </tr>\n",
       "    <tr>\n",
       "      <th>4</th>\n",
       "      <td>2020-01-10</td>\n",
       "      <td>258.19</td>\n",
       "      <td>257.86</td>\n",
       "      <td>259.25</td>\n",
       "      <td>256.88</td>\n",
       "      <td>18.85</td>\n",
       "      <td>0.0008</td>\n",
       "      <td>-4.21</td>\n",
       "    </tr>\n",
       "  </tbody>\n",
       "</table>\n",
       "</div>"
      ],
      "text/plain": [
       "        Date   Price    Open    High     Low  Volume  Change %  diff_1\n",
       "0 2020-01-03  255.00  255.99  258.19  253.70   35.85    0.0010    1.10\n",
       "1 2020-01-06  253.90  254.75  254.84  251.40   22.35   -0.0043   -5.25\n",
       "2 2020-01-08  259.15  253.57  259.15  253.03   40.82    0.0207    1.16\n",
       "3 2020-01-09  257.99  259.40  261.76  257.01   38.33   -0.0045   -0.20\n",
       "4 2020-01-10  258.19  257.86  259.25  256.88   18.85    0.0008   -4.21"
      ]
     },
     "execution_count": 48,
     "metadata": {},
     "output_type": "execute_result"
    }
   ],
   "source": [
    "df1_russia.reset_index(inplace=True)\n",
    "df1_russia.head()"
   ]
  },
  {
   "cell_type": "code",
   "execution_count": 49,
   "id": "passing-volunteer",
   "metadata": {},
   "outputs": [],
   "source": [
    "def add_exogenous_features(df):\n",
    "    #df.reset_index(inplace=True)\n",
    "    # the chosen columns\n",
    "    \n",
    "    lag_features = ['Open', 'High', 'Low', 'Volume', 'Change %']\n",
    "    \n",
    "    # choose the mean, std days\n",
    "    window1 = 3\n",
    "    window2 = 7\n",
    "    window3 = 30\n",
    "    \n",
    "    # rolling\n",
    "    df_rolled_3d = df[lag_features].rolling(window=window1, min_periods=0)\n",
    "    df_rolled_7d = df[lag_features].rolling(window=window2, min_periods=0)\n",
    "    df_rolled_30d = df[lag_features].rolling(window=window3, min_periods=0)\n",
    "    \n",
    "    # find the mean\n",
    "    df_mean_3d = df_rolled_3d.mean().shift(1).reset_index()\n",
    "    df_mean_7d = df_rolled_7d.mean().shift(1).reset_index()\n",
    "    df_mean_30d = df_rolled_30d.mean().shift(1).reset_index()\n",
    "\n",
    "    # fins the std\n",
    "    df_std_3d = df_rolled_3d.std().shift(1).reset_index()\n",
    "    df_std_7d = df_rolled_7d.std().shift(1).reset_index()\n",
    "    df_std_30d = df_rolled_30d.std().shift(1).reset_index()\n",
    "\n",
    "    # add the features to df\n",
    "    for feature in lag_features:\n",
    "        df[f\"{feature}_mean_lag{window1}\"] = df_mean_3d[feature]\n",
    "        df[f\"{feature}_mean_lag{window2}\"] = df_mean_7d[feature]\n",
    "        df[f\"{feature}_mean_lag{window3}\"] = df_mean_30d[feature]\n",
    "\n",
    "        df[f\"{feature}_std_lag{window1}\"] = df_std_3d[feature]\n",
    "        df[f\"{feature}_std_lag{window2}\"] = df_std_7d[feature]\n",
    "        df[f\"{feature}_std_lag{window3}\"] = df_std_30d[feature]\n",
    "    \n",
    "    # remove the nulls\n",
    "    df.fillna(df.mean(), inplace=True)\n",
    "    #df.set_index(\"Date\", drop=False, inplace=True)\n",
    "    \n",
    "    # add the other features\n",
    "    df[\"month\"] = df.Date.dt.month\n",
    "    df[\"week\"] = df.Date.dt.week\n",
    "    df[\"day\"] = df.Date.dt.day\n",
    "    df[\"day_of_week\"] = df.Date.dt.dayofweek\n",
    "    return df"
   ]
  },
  {
   "cell_type": "code",
   "execution_count": 50,
   "id": "billion-spice",
   "metadata": {},
   "outputs": [
    {
     "name": "stderr",
     "output_type": "stream",
     "text": [
      "<ipython-input-49-521b87942686>:38: FutureWarning: DataFrame.mean and DataFrame.median with numeric_only=None will include datetime64 and datetime64tz columns in a future version.\n",
      "  df.fillna(df.mean(), inplace=True)\n",
      "<ipython-input-49-521b87942686>:43: FutureWarning: Series.dt.weekofyear and Series.dt.week have been deprecated. Please use Series.dt.isocalendar().week instead.\n",
      "  df[\"week\"] = df.Date.dt.week\n"
     ]
    }
   ],
   "source": [
    "df = add_exogenous_features(df1_russia)"
   ]
  },
  {
   "cell_type": "code",
   "execution_count": 51,
   "id": "planned-namibia",
   "metadata": {},
   "outputs": [
    {
     "data": {
      "text/html": [
       "<div>\n",
       "<style scoped>\n",
       "    .dataframe tbody tr th:only-of-type {\n",
       "        vertical-align: middle;\n",
       "    }\n",
       "\n",
       "    .dataframe tbody tr th {\n",
       "        vertical-align: top;\n",
       "    }\n",
       "\n",
       "    .dataframe thead th {\n",
       "        text-align: right;\n",
       "    }\n",
       "</style>\n",
       "<table border=\"1\" class=\"dataframe\">\n",
       "  <thead>\n",
       "    <tr style=\"text-align: right;\">\n",
       "      <th></th>\n",
       "      <th>Date</th>\n",
       "      <th>Price</th>\n",
       "      <th>Open</th>\n",
       "      <th>High</th>\n",
       "      <th>Low</th>\n",
       "      <th>Volume</th>\n",
       "      <th>Change %</th>\n",
       "      <th>diff_1</th>\n",
       "      <th>Open_mean_lag3</th>\n",
       "      <th>Open_mean_lag7</th>\n",
       "      <th>...</th>\n",
       "      <th>Change %_mean_lag3</th>\n",
       "      <th>Change %_mean_lag7</th>\n",
       "      <th>Change %_mean_lag30</th>\n",
       "      <th>Change %_std_lag3</th>\n",
       "      <th>Change %_std_lag7</th>\n",
       "      <th>Change %_std_lag30</th>\n",
       "      <th>month</th>\n",
       "      <th>week</th>\n",
       "      <th>day</th>\n",
       "      <th>day_of_week</th>\n",
       "    </tr>\n",
       "  </thead>\n",
       "  <tbody>\n",
       "    <tr>\n",
       "      <th>0</th>\n",
       "      <td>2020-01-03</td>\n",
       "      <td>255.00</td>\n",
       "      <td>255.99</td>\n",
       "      <td>258.19</td>\n",
       "      <td>253.70</td>\n",
       "      <td>35.85</td>\n",
       "      <td>0.0010</td>\n",
       "      <td>1.10</td>\n",
       "      <td>234.105118</td>\n",
       "      <td>233.895132</td>\n",
       "      <td>...</td>\n",
       "      <td>0.000688</td>\n",
       "      <td>0.000664</td>\n",
       "      <td>0.000642</td>\n",
       "      <td>0.016996</td>\n",
       "      <td>0.018436</td>\n",
       "      <td>0.019743</td>\n",
       "      <td>1</td>\n",
       "      <td>1</td>\n",
       "      <td>3</td>\n",
       "      <td>4</td>\n",
       "    </tr>\n",
       "    <tr>\n",
       "      <th>1</th>\n",
       "      <td>2020-01-06</td>\n",
       "      <td>253.90</td>\n",
       "      <td>254.75</td>\n",
       "      <td>254.84</td>\n",
       "      <td>251.40</td>\n",
       "      <td>22.35</td>\n",
       "      <td>-0.0043</td>\n",
       "      <td>-5.25</td>\n",
       "      <td>255.990000</td>\n",
       "      <td>255.990000</td>\n",
       "      <td>...</td>\n",
       "      <td>0.001000</td>\n",
       "      <td>0.001000</td>\n",
       "      <td>0.001000</td>\n",
       "      <td>0.016996</td>\n",
       "      <td>0.018436</td>\n",
       "      <td>0.019743</td>\n",
       "      <td>1</td>\n",
       "      <td>2</td>\n",
       "      <td>6</td>\n",
       "      <td>0</td>\n",
       "    </tr>\n",
       "    <tr>\n",
       "      <th>2</th>\n",
       "      <td>2020-01-08</td>\n",
       "      <td>259.15</td>\n",
       "      <td>253.57</td>\n",
       "      <td>259.15</td>\n",
       "      <td>253.03</td>\n",
       "      <td>40.82</td>\n",
       "      <td>0.0207</td>\n",
       "      <td>1.16</td>\n",
       "      <td>255.370000</td>\n",
       "      <td>255.370000</td>\n",
       "      <td>...</td>\n",
       "      <td>-0.001650</td>\n",
       "      <td>-0.001650</td>\n",
       "      <td>-0.001650</td>\n",
       "      <td>0.003748</td>\n",
       "      <td>0.003748</td>\n",
       "      <td>0.003748</td>\n",
       "      <td>1</td>\n",
       "      <td>2</td>\n",
       "      <td>8</td>\n",
       "      <td>2</td>\n",
       "    </tr>\n",
       "    <tr>\n",
       "      <th>3</th>\n",
       "      <td>2020-01-09</td>\n",
       "      <td>257.99</td>\n",
       "      <td>259.40</td>\n",
       "      <td>261.76</td>\n",
       "      <td>257.01</td>\n",
       "      <td>38.33</td>\n",
       "      <td>-0.0045</td>\n",
       "      <td>-0.20</td>\n",
       "      <td>254.770000</td>\n",
       "      <td>254.770000</td>\n",
       "      <td>...</td>\n",
       "      <td>0.005800</td>\n",
       "      <td>0.005800</td>\n",
       "      <td>0.005800</td>\n",
       "      <td>0.013173</td>\n",
       "      <td>0.013173</td>\n",
       "      <td>0.013173</td>\n",
       "      <td>1</td>\n",
       "      <td>2</td>\n",
       "      <td>9</td>\n",
       "      <td>3</td>\n",
       "    </tr>\n",
       "    <tr>\n",
       "      <th>4</th>\n",
       "      <td>2020-01-10</td>\n",
       "      <td>258.19</td>\n",
       "      <td>257.86</td>\n",
       "      <td>259.25</td>\n",
       "      <td>256.88</td>\n",
       "      <td>18.85</td>\n",
       "      <td>0.0008</td>\n",
       "      <td>-4.21</td>\n",
       "      <td>255.906667</td>\n",
       "      <td>255.927500</td>\n",
       "      <td>...</td>\n",
       "      <td>0.003967</td>\n",
       "      <td>0.003225</td>\n",
       "      <td>0.003225</td>\n",
       "      <td>0.014492</td>\n",
       "      <td>0.011925</td>\n",
       "      <td>0.011925</td>\n",
       "      <td>1</td>\n",
       "      <td>2</td>\n",
       "      <td>10</td>\n",
       "      <td>4</td>\n",
       "    </tr>\n",
       "  </tbody>\n",
       "</table>\n",
       "<p>5 rows × 42 columns</p>\n",
       "</div>"
      ],
      "text/plain": [
       "        Date   Price    Open    High     Low  Volume  Change %  diff_1  \\\n",
       "0 2020-01-03  255.00  255.99  258.19  253.70   35.85    0.0010    1.10   \n",
       "1 2020-01-06  253.90  254.75  254.84  251.40   22.35   -0.0043   -5.25   \n",
       "2 2020-01-08  259.15  253.57  259.15  253.03   40.82    0.0207    1.16   \n",
       "3 2020-01-09  257.99  259.40  261.76  257.01   38.33   -0.0045   -0.20   \n",
       "4 2020-01-10  258.19  257.86  259.25  256.88   18.85    0.0008   -4.21   \n",
       "\n",
       "   Open_mean_lag3  Open_mean_lag7  ...  Change %_mean_lag3  \\\n",
       "0      234.105118      233.895132  ...            0.000688   \n",
       "1      255.990000      255.990000  ...            0.001000   \n",
       "2      255.370000      255.370000  ...           -0.001650   \n",
       "3      254.770000      254.770000  ...            0.005800   \n",
       "4      255.906667      255.927500  ...            0.003967   \n",
       "\n",
       "   Change %_mean_lag7  Change %_mean_lag30  Change %_std_lag3  \\\n",
       "0            0.000664             0.000642           0.016996   \n",
       "1            0.001000             0.001000           0.016996   \n",
       "2           -0.001650            -0.001650           0.003748   \n",
       "3            0.005800             0.005800           0.013173   \n",
       "4            0.003225             0.003225           0.014492   \n",
       "\n",
       "   Change %_std_lag7  Change %_std_lag30  month  week  day  day_of_week  \n",
       "0           0.018436            0.019743      1     1    3            4  \n",
       "1           0.018436            0.019743      1     2    6            0  \n",
       "2           0.003748            0.003748      1     2    8            2  \n",
       "3           0.013173            0.013173      1     2    9            3  \n",
       "4           0.011925            0.011925      1     2   10            4  \n",
       "\n",
       "[5 rows x 42 columns]"
      ]
     },
     "execution_count": 51,
     "metadata": {},
     "output_type": "execute_result"
    }
   ],
   "source": [
    "df1_russia.head()"
   ]
  },
  {
   "cell_type": "code",
   "execution_count": 52,
   "id": "naughty-depth",
   "metadata": {},
   "outputs": [
    {
     "data": {
      "text/html": [
       "<div>\n",
       "<style scoped>\n",
       "    .dataframe tbody tr th:only-of-type {\n",
       "        vertical-align: middle;\n",
       "    }\n",
       "\n",
       "    .dataframe tbody tr th {\n",
       "        vertical-align: top;\n",
       "    }\n",
       "\n",
       "    .dataframe thead th {\n",
       "        text-align: right;\n",
       "    }\n",
       "</style>\n",
       "<table border=\"1\" class=\"dataframe\">\n",
       "  <thead>\n",
       "    <tr style=\"text-align: right;\">\n",
       "      <th></th>\n",
       "      <th>Price</th>\n",
       "      <th>Open</th>\n",
       "      <th>High</th>\n",
       "      <th>Low</th>\n",
       "      <th>Volume</th>\n",
       "      <th>Change %</th>\n",
       "      <th>diff_1</th>\n",
       "      <th>Open_mean_lag3</th>\n",
       "      <th>Open_mean_lag7</th>\n",
       "      <th>Open_mean_lag30</th>\n",
       "      <th>...</th>\n",
       "      <th>Change %_mean_lag3</th>\n",
       "      <th>Change %_mean_lag7</th>\n",
       "      <th>Change %_mean_lag30</th>\n",
       "      <th>Change %_std_lag3</th>\n",
       "      <th>Change %_std_lag7</th>\n",
       "      <th>Change %_std_lag30</th>\n",
       "      <th>month</th>\n",
       "      <th>week</th>\n",
       "      <th>day</th>\n",
       "      <th>day_of_week</th>\n",
       "    </tr>\n",
       "    <tr>\n",
       "      <th>Date</th>\n",
       "      <th></th>\n",
       "      <th></th>\n",
       "      <th></th>\n",
       "      <th></th>\n",
       "      <th></th>\n",
       "      <th></th>\n",
       "      <th></th>\n",
       "      <th></th>\n",
       "      <th></th>\n",
       "      <th></th>\n",
       "      <th></th>\n",
       "      <th></th>\n",
       "      <th></th>\n",
       "      <th></th>\n",
       "      <th></th>\n",
       "      <th></th>\n",
       "      <th></th>\n",
       "      <th></th>\n",
       "      <th></th>\n",
       "      <th></th>\n",
       "      <th></th>\n",
       "    </tr>\n",
       "  </thead>\n",
       "  <tbody>\n",
       "    <tr>\n",
       "      <th>2020-01-03</th>\n",
       "      <td>255.00</td>\n",
       "      <td>255.99</td>\n",
       "      <td>258.19</td>\n",
       "      <td>253.70</td>\n",
       "      <td>35.85</td>\n",
       "      <td>0.0010</td>\n",
       "      <td>1.10</td>\n",
       "      <td>234.105118</td>\n",
       "      <td>233.895132</td>\n",
       "      <td>232.985496</td>\n",
       "      <td>...</td>\n",
       "      <td>0.000688</td>\n",
       "      <td>0.000664</td>\n",
       "      <td>0.000642</td>\n",
       "      <td>0.016996</td>\n",
       "      <td>0.018436</td>\n",
       "      <td>0.019743</td>\n",
       "      <td>1</td>\n",
       "      <td>1</td>\n",
       "      <td>3</td>\n",
       "      <td>4</td>\n",
       "    </tr>\n",
       "    <tr>\n",
       "      <th>2020-01-06</th>\n",
       "      <td>253.90</td>\n",
       "      <td>254.75</td>\n",
       "      <td>254.84</td>\n",
       "      <td>251.40</td>\n",
       "      <td>22.35</td>\n",
       "      <td>-0.0043</td>\n",
       "      <td>-5.25</td>\n",
       "      <td>255.990000</td>\n",
       "      <td>255.990000</td>\n",
       "      <td>255.990000</td>\n",
       "      <td>...</td>\n",
       "      <td>0.001000</td>\n",
       "      <td>0.001000</td>\n",
       "      <td>0.001000</td>\n",
       "      <td>0.016996</td>\n",
       "      <td>0.018436</td>\n",
       "      <td>0.019743</td>\n",
       "      <td>1</td>\n",
       "      <td>2</td>\n",
       "      <td>6</td>\n",
       "      <td>0</td>\n",
       "    </tr>\n",
       "    <tr>\n",
       "      <th>2020-01-08</th>\n",
       "      <td>259.15</td>\n",
       "      <td>253.57</td>\n",
       "      <td>259.15</td>\n",
       "      <td>253.03</td>\n",
       "      <td>40.82</td>\n",
       "      <td>0.0207</td>\n",
       "      <td>1.16</td>\n",
       "      <td>255.370000</td>\n",
       "      <td>255.370000</td>\n",
       "      <td>255.370000</td>\n",
       "      <td>...</td>\n",
       "      <td>-0.001650</td>\n",
       "      <td>-0.001650</td>\n",
       "      <td>-0.001650</td>\n",
       "      <td>0.003748</td>\n",
       "      <td>0.003748</td>\n",
       "      <td>0.003748</td>\n",
       "      <td>1</td>\n",
       "      <td>2</td>\n",
       "      <td>8</td>\n",
       "      <td>2</td>\n",
       "    </tr>\n",
       "    <tr>\n",
       "      <th>2020-01-09</th>\n",
       "      <td>257.99</td>\n",
       "      <td>259.40</td>\n",
       "      <td>261.76</td>\n",
       "      <td>257.01</td>\n",
       "      <td>38.33</td>\n",
       "      <td>-0.0045</td>\n",
       "      <td>-0.20</td>\n",
       "      <td>254.770000</td>\n",
       "      <td>254.770000</td>\n",
       "      <td>254.770000</td>\n",
       "      <td>...</td>\n",
       "      <td>0.005800</td>\n",
       "      <td>0.005800</td>\n",
       "      <td>0.005800</td>\n",
       "      <td>0.013173</td>\n",
       "      <td>0.013173</td>\n",
       "      <td>0.013173</td>\n",
       "      <td>1</td>\n",
       "      <td>2</td>\n",
       "      <td>9</td>\n",
       "      <td>3</td>\n",
       "    </tr>\n",
       "    <tr>\n",
       "      <th>2020-01-10</th>\n",
       "      <td>258.19</td>\n",
       "      <td>257.86</td>\n",
       "      <td>259.25</td>\n",
       "      <td>256.88</td>\n",
       "      <td>18.85</td>\n",
       "      <td>0.0008</td>\n",
       "      <td>-4.21</td>\n",
       "      <td>255.906667</td>\n",
       "      <td>255.927500</td>\n",
       "      <td>255.927500</td>\n",
       "      <td>...</td>\n",
       "      <td>0.003967</td>\n",
       "      <td>0.003225</td>\n",
       "      <td>0.003225</td>\n",
       "      <td>0.014492</td>\n",
       "      <td>0.011925</td>\n",
       "      <td>0.011925</td>\n",
       "      <td>1</td>\n",
       "      <td>2</td>\n",
       "      <td>10</td>\n",
       "      <td>4</td>\n",
       "    </tr>\n",
       "  </tbody>\n",
       "</table>\n",
       "<p>5 rows × 41 columns</p>\n",
       "</div>"
      ],
      "text/plain": [
       "             Price    Open    High     Low  Volume  Change %  diff_1  \\\n",
       "Date                                                                   \n",
       "2020-01-03  255.00  255.99  258.19  253.70   35.85    0.0010    1.10   \n",
       "2020-01-06  253.90  254.75  254.84  251.40   22.35   -0.0043   -5.25   \n",
       "2020-01-08  259.15  253.57  259.15  253.03   40.82    0.0207    1.16   \n",
       "2020-01-09  257.99  259.40  261.76  257.01   38.33   -0.0045   -0.20   \n",
       "2020-01-10  258.19  257.86  259.25  256.88   18.85    0.0008   -4.21   \n",
       "\n",
       "            Open_mean_lag3  Open_mean_lag7  Open_mean_lag30  ...  \\\n",
       "Date                                                         ...   \n",
       "2020-01-03      234.105118      233.895132       232.985496  ...   \n",
       "2020-01-06      255.990000      255.990000       255.990000  ...   \n",
       "2020-01-08      255.370000      255.370000       255.370000  ...   \n",
       "2020-01-09      254.770000      254.770000       254.770000  ...   \n",
       "2020-01-10      255.906667      255.927500       255.927500  ...   \n",
       "\n",
       "            Change %_mean_lag3  Change %_mean_lag7  Change %_mean_lag30  \\\n",
       "Date                                                                      \n",
       "2020-01-03            0.000688            0.000664             0.000642   \n",
       "2020-01-06            0.001000            0.001000             0.001000   \n",
       "2020-01-08           -0.001650           -0.001650            -0.001650   \n",
       "2020-01-09            0.005800            0.005800             0.005800   \n",
       "2020-01-10            0.003967            0.003225             0.003225   \n",
       "\n",
       "            Change %_std_lag3  Change %_std_lag7  Change %_std_lag30  month  \\\n",
       "Date                                                                          \n",
       "2020-01-03           0.016996           0.018436            0.019743      1   \n",
       "2020-01-06           0.016996           0.018436            0.019743      1   \n",
       "2020-01-08           0.003748           0.003748            0.003748      1   \n",
       "2020-01-09           0.013173           0.013173            0.013173      1   \n",
       "2020-01-10           0.014492           0.011925            0.011925      1   \n",
       "\n",
       "            week  day  day_of_week  \n",
       "Date                                \n",
       "2020-01-03     1    3            4  \n",
       "2020-01-06     2    6            0  \n",
       "2020-01-08     2    8            2  \n",
       "2020-01-09     2    9            3  \n",
       "2020-01-10     2   10            4  \n",
       "\n",
       "[5 rows x 41 columns]"
      ]
     },
     "execution_count": 52,
     "metadata": {},
     "output_type": "execute_result"
    }
   ],
   "source": [
    "df1_russia.set_index(\"Date\", drop=True, inplace=True)\n",
    "df1_russia.head()"
   ]
  },
  {
   "cell_type": "code",
   "execution_count": 53,
   "id": "limited-ground",
   "metadata": {},
   "outputs": [
    {
     "data": {
      "text/plain": [
       "['Open_mean_lag3',\n",
       " 'Open_mean_lag7',\n",
       " 'Open_mean_lag30',\n",
       " 'Open_std_lag3',\n",
       " 'Open_std_lag7',\n",
       " 'Open_std_lag30',\n",
       " 'High_mean_lag3',\n",
       " 'High_mean_lag7',\n",
       " 'High_mean_lag30',\n",
       " 'High_std_lag3',\n",
       " 'High_std_lag7',\n",
       " 'High_std_lag30',\n",
       " 'Low_mean_lag3',\n",
       " 'Low_mean_lag7',\n",
       " 'Low_mean_lag30',\n",
       " 'Low_std_lag3',\n",
       " 'Low_std_lag7',\n",
       " 'Low_std_lag30',\n",
       " 'Volume_mean_lag3',\n",
       " 'Volume_mean_lag7',\n",
       " 'Volume_mean_lag30',\n",
       " 'Volume_std_lag3',\n",
       " 'Volume_std_lag7',\n",
       " 'Volume_std_lag30',\n",
       " 'Change %_mean_lag3',\n",
       " 'Change %_mean_lag7',\n",
       " 'Change %_mean_lag30',\n",
       " 'Change %_std_lag3',\n",
       " 'Change %_std_lag7',\n",
       " 'Change %_std_lag30',\n",
       " 'month',\n",
       " 'week',\n",
       " 'day',\n",
       " 'day_of_week']"
      ]
     },
     "execution_count": 53,
     "metadata": {},
     "output_type": "execute_result"
    }
   ],
   "source": [
    "#select exogenous features\n",
    "exogenous_features=df1_russia.columns[7:].values.tolist()\n",
    "exogenous_features"
   ]
  },
  {
   "cell_type": "code",
   "execution_count": 54,
   "id": "stable-opinion",
   "metadata": {},
   "outputs": [],
   "source": [
    "#split data into train and test\n",
    "train_ARMX = df1_russia[df1_russia.index < pd.to_datetime('2021-01-01', format=\"%Y-%m-%d\")]\n",
    "train_ARMX=train_ARMX.dropna()\n",
    "test_ARMX=df1_russia[df1_russia.index >= pd.to_datetime('2021-01-01', format=\"%Y-%m-%d\")]\n",
    "test_ARMX=test_ARMX.dropna()"
   ]
  },
  {
   "cell_type": "code",
   "execution_count": 55,
   "id": "worth-explanation",
   "metadata": {},
   "outputs": [
    {
     "name": "stdout",
     "output_type": "stream",
     "text": [
      "shape of train set:  (250, 41)\n",
      "shape of test set:  (61, 41)\n"
     ]
    }
   ],
   "source": [
    "print('shape of train set: ',train_ARMX.shape)\n",
    "print('shape of test set: ',test_ARMX.shape)"
   ]
  },
  {
   "cell_type": "code",
   "execution_count": 56,
   "id": "private-synthetic",
   "metadata": {},
   "outputs": [],
   "source": [
    "sorted_train = train_ARMX.sort_index()"
   ]
  },
  {
   "cell_type": "code",
   "execution_count": 57,
   "id": "infrared-fundamentals",
   "metadata": {},
   "outputs": [
    {
     "data": {
      "text/html": [
       "<div>\n",
       "<style scoped>\n",
       "    .dataframe tbody tr th:only-of-type {\n",
       "        vertical-align: middle;\n",
       "    }\n",
       "\n",
       "    .dataframe tbody tr th {\n",
       "        vertical-align: top;\n",
       "    }\n",
       "\n",
       "    .dataframe thead th {\n",
       "        text-align: right;\n",
       "    }\n",
       "</style>\n",
       "<table border=\"1\" class=\"dataframe\">\n",
       "  <thead>\n",
       "    <tr style=\"text-align: right;\">\n",
       "      <th></th>\n",
       "      <th>Price</th>\n",
       "      <th>Open</th>\n",
       "      <th>High</th>\n",
       "      <th>Low</th>\n",
       "      <th>Volume</th>\n",
       "      <th>Change %</th>\n",
       "      <th>diff_1</th>\n",
       "      <th>Open_mean_lag3</th>\n",
       "      <th>Open_mean_lag7</th>\n",
       "      <th>Open_mean_lag30</th>\n",
       "      <th>...</th>\n",
       "      <th>Change %_mean_lag3</th>\n",
       "      <th>Change %_mean_lag7</th>\n",
       "      <th>Change %_mean_lag30</th>\n",
       "      <th>Change %_std_lag3</th>\n",
       "      <th>Change %_std_lag7</th>\n",
       "      <th>Change %_std_lag30</th>\n",
       "      <th>month</th>\n",
       "      <th>week</th>\n",
       "      <th>day</th>\n",
       "      <th>day_of_week</th>\n",
       "    </tr>\n",
       "    <tr>\n",
       "      <th>Date</th>\n",
       "      <th></th>\n",
       "      <th></th>\n",
       "      <th></th>\n",
       "      <th></th>\n",
       "      <th></th>\n",
       "      <th></th>\n",
       "      <th></th>\n",
       "      <th></th>\n",
       "      <th></th>\n",
       "      <th></th>\n",
       "      <th></th>\n",
       "      <th></th>\n",
       "      <th></th>\n",
       "      <th></th>\n",
       "      <th></th>\n",
       "      <th></th>\n",
       "      <th></th>\n",
       "      <th></th>\n",
       "      <th></th>\n",
       "      <th></th>\n",
       "      <th></th>\n",
       "    </tr>\n",
       "  </thead>\n",
       "  <tbody>\n",
       "    <tr>\n",
       "      <th>2020-01-03</th>\n",
       "      <td>255.00</td>\n",
       "      <td>255.99</td>\n",
       "      <td>258.19</td>\n",
       "      <td>253.70</td>\n",
       "      <td>35.85</td>\n",
       "      <td>0.0010</td>\n",
       "      <td>1.10</td>\n",
       "      <td>234.105118</td>\n",
       "      <td>233.895132</td>\n",
       "      <td>232.985496</td>\n",
       "      <td>...</td>\n",
       "      <td>0.000688</td>\n",
       "      <td>0.000664</td>\n",
       "      <td>0.000642</td>\n",
       "      <td>0.016996</td>\n",
       "      <td>0.018436</td>\n",
       "      <td>0.019743</td>\n",
       "      <td>1</td>\n",
       "      <td>1</td>\n",
       "      <td>3</td>\n",
       "      <td>4</td>\n",
       "    </tr>\n",
       "    <tr>\n",
       "      <th>2020-01-06</th>\n",
       "      <td>253.90</td>\n",
       "      <td>254.75</td>\n",
       "      <td>254.84</td>\n",
       "      <td>251.40</td>\n",
       "      <td>22.35</td>\n",
       "      <td>-0.0043</td>\n",
       "      <td>-5.25</td>\n",
       "      <td>255.990000</td>\n",
       "      <td>255.990000</td>\n",
       "      <td>255.990000</td>\n",
       "      <td>...</td>\n",
       "      <td>0.001000</td>\n",
       "      <td>0.001000</td>\n",
       "      <td>0.001000</td>\n",
       "      <td>0.016996</td>\n",
       "      <td>0.018436</td>\n",
       "      <td>0.019743</td>\n",
       "      <td>1</td>\n",
       "      <td>2</td>\n",
       "      <td>6</td>\n",
       "      <td>0</td>\n",
       "    </tr>\n",
       "    <tr>\n",
       "      <th>2020-01-08</th>\n",
       "      <td>259.15</td>\n",
       "      <td>253.57</td>\n",
       "      <td>259.15</td>\n",
       "      <td>253.03</td>\n",
       "      <td>40.82</td>\n",
       "      <td>0.0207</td>\n",
       "      <td>1.16</td>\n",
       "      <td>255.370000</td>\n",
       "      <td>255.370000</td>\n",
       "      <td>255.370000</td>\n",
       "      <td>...</td>\n",
       "      <td>-0.001650</td>\n",
       "      <td>-0.001650</td>\n",
       "      <td>-0.001650</td>\n",
       "      <td>0.003748</td>\n",
       "      <td>0.003748</td>\n",
       "      <td>0.003748</td>\n",
       "      <td>1</td>\n",
       "      <td>2</td>\n",
       "      <td>8</td>\n",
       "      <td>2</td>\n",
       "    </tr>\n",
       "    <tr>\n",
       "      <th>2020-01-09</th>\n",
       "      <td>257.99</td>\n",
       "      <td>259.40</td>\n",
       "      <td>261.76</td>\n",
       "      <td>257.01</td>\n",
       "      <td>38.33</td>\n",
       "      <td>-0.0045</td>\n",
       "      <td>-0.20</td>\n",
       "      <td>254.770000</td>\n",
       "      <td>254.770000</td>\n",
       "      <td>254.770000</td>\n",
       "      <td>...</td>\n",
       "      <td>0.005800</td>\n",
       "      <td>0.005800</td>\n",
       "      <td>0.005800</td>\n",
       "      <td>0.013173</td>\n",
       "      <td>0.013173</td>\n",
       "      <td>0.013173</td>\n",
       "      <td>1</td>\n",
       "      <td>2</td>\n",
       "      <td>9</td>\n",
       "      <td>3</td>\n",
       "    </tr>\n",
       "    <tr>\n",
       "      <th>2020-01-10</th>\n",
       "      <td>258.19</td>\n",
       "      <td>257.86</td>\n",
       "      <td>259.25</td>\n",
       "      <td>256.88</td>\n",
       "      <td>18.85</td>\n",
       "      <td>0.0008</td>\n",
       "      <td>-4.21</td>\n",
       "      <td>255.906667</td>\n",
       "      <td>255.927500</td>\n",
       "      <td>255.927500</td>\n",
       "      <td>...</td>\n",
       "      <td>0.003967</td>\n",
       "      <td>0.003225</td>\n",
       "      <td>0.003225</td>\n",
       "      <td>0.014492</td>\n",
       "      <td>0.011925</td>\n",
       "      <td>0.011925</td>\n",
       "      <td>1</td>\n",
       "      <td>2</td>\n",
       "      <td>10</td>\n",
       "      <td>4</td>\n",
       "    </tr>\n",
       "    <tr>\n",
       "      <th>...</th>\n",
       "      <td>...</td>\n",
       "      <td>...</td>\n",
       "      <td>...</td>\n",
       "      <td>...</td>\n",
       "      <td>...</td>\n",
       "      <td>...</td>\n",
       "      <td>...</td>\n",
       "      <td>...</td>\n",
       "      <td>...</td>\n",
       "      <td>...</td>\n",
       "      <td>...</td>\n",
       "      <td>...</td>\n",
       "      <td>...</td>\n",
       "      <td>...</td>\n",
       "      <td>...</td>\n",
       "      <td>...</td>\n",
       "      <td>...</td>\n",
       "      <td>...</td>\n",
       "      <td>...</td>\n",
       "      <td>...</td>\n",
       "      <td>...</td>\n",
       "    </tr>\n",
       "    <tr>\n",
       "      <th>2020-12-24</th>\n",
       "      <td>269.32</td>\n",
       "      <td>271.98</td>\n",
       "      <td>272.82</td>\n",
       "      <td>267.13</td>\n",
       "      <td>42.61</td>\n",
       "      <td>-0.0029</td>\n",
       "      <td>-1.32</td>\n",
       "      <td>262.666667</td>\n",
       "      <td>271.651429</td>\n",
       "      <td>259.750333</td>\n",
       "      <td>...</td>\n",
       "      <td>0.000267</td>\n",
       "      <td>-0.004914</td>\n",
       "      <td>0.003510</td>\n",
       "      <td>0.030907</td>\n",
       "      <td>0.021047</td>\n",
       "      <td>0.017177</td>\n",
       "      <td>12</td>\n",
       "      <td>52</td>\n",
       "      <td>24</td>\n",
       "      <td>3</td>\n",
       "    </tr>\n",
       "    <tr>\n",
       "      <th>2020-12-25</th>\n",
       "      <td>270.64</td>\n",
       "      <td>269.97</td>\n",
       "      <td>271.00</td>\n",
       "      <td>268.28</td>\n",
       "      <td>11.99</td>\n",
       "      <td>0.0049</td>\n",
       "      <td>-4.06</td>\n",
       "      <td>264.593333</td>\n",
       "      <td>270.715714</td>\n",
       "      <td>260.706000</td>\n",
       "      <td>...</td>\n",
       "      <td>0.009633</td>\n",
       "      <td>-0.004686</td>\n",
       "      <td>0.003703</td>\n",
       "      <td>0.018434</td>\n",
       "      <td>0.021061</td>\n",
       "      <td>0.017067</td>\n",
       "      <td>12</td>\n",
       "      <td>52</td>\n",
       "      <td>25</td>\n",
       "      <td>4</td>\n",
       "    </tr>\n",
       "    <tr>\n",
       "      <th>2020-12-28</th>\n",
       "      <td>274.70</td>\n",
       "      <td>270.90</td>\n",
       "      <td>275.19</td>\n",
       "      <td>269.73</td>\n",
       "      <td>39.04</td>\n",
       "      <td>0.0150</td>\n",
       "      <td>2.70</td>\n",
       "      <td>268.066667</td>\n",
       "      <td>269.568571</td>\n",
       "      <td>261.638000</td>\n",
       "      <td>...</td>\n",
       "      <td>0.010933</td>\n",
       "      <td>-0.003800</td>\n",
       "      <td>0.003740</td>\n",
       "      <td>0.017642</td>\n",
       "      <td>0.021355</td>\n",
       "      <td>0.017069</td>\n",
       "      <td>12</td>\n",
       "      <td>53</td>\n",
       "      <td>28</td>\n",
       "      <td>0</td>\n",
       "    </tr>\n",
       "    <tr>\n",
       "      <th>2020-12-29</th>\n",
       "      <td>272.00</td>\n",
       "      <td>275.91</td>\n",
       "      <td>276.43</td>\n",
       "      <td>271.26</td>\n",
       "      <td>39.02</td>\n",
       "      <td>-0.0098</td>\n",
       "      <td>0.35</td>\n",
       "      <td>270.950000</td>\n",
       "      <td>268.295714</td>\n",
       "      <td>262.530000</td>\n",
       "      <td>...</td>\n",
       "      <td>0.005667</td>\n",
       "      <td>-0.001729</td>\n",
       "      <td>0.003553</td>\n",
       "      <td>0.008975</td>\n",
       "      <td>0.022514</td>\n",
       "      <td>0.016908</td>\n",
       "      <td>12</td>\n",
       "      <td>53</td>\n",
       "      <td>29</td>\n",
       "      <td>1</td>\n",
       "    </tr>\n",
       "    <tr>\n",
       "      <th>2020-12-30</th>\n",
       "      <td>271.65</td>\n",
       "      <td>272.49</td>\n",
       "      <td>274.24</td>\n",
       "      <td>270.12</td>\n",
       "      <td>31.53</td>\n",
       "      <td>-0.0013</td>\n",
       "      <td>-0.35</td>\n",
       "      <td>272.260000</td>\n",
       "      <td>268.108571</td>\n",
       "      <td>263.460333</td>\n",
       "      <td>...</td>\n",
       "      <td>0.003367</td>\n",
       "      <td>0.001143</td>\n",
       "      <td>0.003533</td>\n",
       "      <td>0.012471</td>\n",
       "      <td>0.019386</td>\n",
       "      <td>0.016924</td>\n",
       "      <td>12</td>\n",
       "      <td>53</td>\n",
       "      <td>30</td>\n",
       "      <td>2</td>\n",
       "    </tr>\n",
       "  </tbody>\n",
       "</table>\n",
       "<p>250 rows × 41 columns</p>\n",
       "</div>"
      ],
      "text/plain": [
       "             Price    Open    High     Low  Volume  Change %  diff_1  \\\n",
       "Date                                                                   \n",
       "2020-01-03  255.00  255.99  258.19  253.70   35.85    0.0010    1.10   \n",
       "2020-01-06  253.90  254.75  254.84  251.40   22.35   -0.0043   -5.25   \n",
       "2020-01-08  259.15  253.57  259.15  253.03   40.82    0.0207    1.16   \n",
       "2020-01-09  257.99  259.40  261.76  257.01   38.33   -0.0045   -0.20   \n",
       "2020-01-10  258.19  257.86  259.25  256.88   18.85    0.0008   -4.21   \n",
       "...            ...     ...     ...     ...     ...       ...     ...   \n",
       "2020-12-24  269.32  271.98  272.82  267.13   42.61   -0.0029   -1.32   \n",
       "2020-12-25  270.64  269.97  271.00  268.28   11.99    0.0049   -4.06   \n",
       "2020-12-28  274.70  270.90  275.19  269.73   39.04    0.0150    2.70   \n",
       "2020-12-29  272.00  275.91  276.43  271.26   39.02   -0.0098    0.35   \n",
       "2020-12-30  271.65  272.49  274.24  270.12   31.53   -0.0013   -0.35   \n",
       "\n",
       "            Open_mean_lag3  Open_mean_lag7  Open_mean_lag30  ...  \\\n",
       "Date                                                         ...   \n",
       "2020-01-03      234.105118      233.895132       232.985496  ...   \n",
       "2020-01-06      255.990000      255.990000       255.990000  ...   \n",
       "2020-01-08      255.370000      255.370000       255.370000  ...   \n",
       "2020-01-09      254.770000      254.770000       254.770000  ...   \n",
       "2020-01-10      255.906667      255.927500       255.927500  ...   \n",
       "...                    ...             ...              ...  ...   \n",
       "2020-12-24      262.666667      271.651429       259.750333  ...   \n",
       "2020-12-25      264.593333      270.715714       260.706000  ...   \n",
       "2020-12-28      268.066667      269.568571       261.638000  ...   \n",
       "2020-12-29      270.950000      268.295714       262.530000  ...   \n",
       "2020-12-30      272.260000      268.108571       263.460333  ...   \n",
       "\n",
       "            Change %_mean_lag3  Change %_mean_lag7  Change %_mean_lag30  \\\n",
       "Date                                                                      \n",
       "2020-01-03            0.000688            0.000664             0.000642   \n",
       "2020-01-06            0.001000            0.001000             0.001000   \n",
       "2020-01-08           -0.001650           -0.001650            -0.001650   \n",
       "2020-01-09            0.005800            0.005800             0.005800   \n",
       "2020-01-10            0.003967            0.003225             0.003225   \n",
       "...                        ...                 ...                  ...   \n",
       "2020-12-24            0.000267           -0.004914             0.003510   \n",
       "2020-12-25            0.009633           -0.004686             0.003703   \n",
       "2020-12-28            0.010933           -0.003800             0.003740   \n",
       "2020-12-29            0.005667           -0.001729             0.003553   \n",
       "2020-12-30            0.003367            0.001143             0.003533   \n",
       "\n",
       "            Change %_std_lag3  Change %_std_lag7  Change %_std_lag30  month  \\\n",
       "Date                                                                          \n",
       "2020-01-03           0.016996           0.018436            0.019743      1   \n",
       "2020-01-06           0.016996           0.018436            0.019743      1   \n",
       "2020-01-08           0.003748           0.003748            0.003748      1   \n",
       "2020-01-09           0.013173           0.013173            0.013173      1   \n",
       "2020-01-10           0.014492           0.011925            0.011925      1   \n",
       "...                       ...                ...                 ...    ...   \n",
       "2020-12-24           0.030907           0.021047            0.017177     12   \n",
       "2020-12-25           0.018434           0.021061            0.017067     12   \n",
       "2020-12-28           0.017642           0.021355            0.017069     12   \n",
       "2020-12-29           0.008975           0.022514            0.016908     12   \n",
       "2020-12-30           0.012471           0.019386            0.016924     12   \n",
       "\n",
       "            week  day  day_of_week  \n",
       "Date                                \n",
       "2020-01-03     1    3            4  \n",
       "2020-01-06     2    6            0  \n",
       "2020-01-08     2    8            2  \n",
       "2020-01-09     2    9            3  \n",
       "2020-01-10     2   10            4  \n",
       "...          ...  ...          ...  \n",
       "2020-12-24    52   24            3  \n",
       "2020-12-25    52   25            4  \n",
       "2020-12-28    53   28            0  \n",
       "2020-12-29    53   29            1  \n",
       "2020-12-30    53   30            2  \n",
       "\n",
       "[250 rows x 41 columns]"
      ]
     },
     "execution_count": 57,
     "metadata": {},
     "output_type": "execute_result"
    }
   ],
   "source": [
    "sorted_train"
   ]
  },
  {
   "cell_type": "code",
   "execution_count": 58,
   "id": "indirect-associate",
   "metadata": {},
   "outputs": [],
   "source": [
    "#arimax_model = pm.auto_arima(sorted_train['Price'], exogenous=sorted_train[exogenous_features], trace=False, error_action=\"ignore\", \n",
    "#                                 suppress_warnings=True)"
   ]
  },
  {
   "cell_type": "code",
   "execution_count": 59,
   "id": "orange-lover",
   "metadata": {},
   "outputs": [
    {
     "data": {
      "text/plain": [
       "ARIMA(order=(0, 1, 0), scoring_args={}, suppress_warnings=True,\n",
       "      with_intercept=False)"
      ]
     },
     "execution_count": 59,
     "metadata": {},
     "output_type": "execute_result"
    }
   ],
   "source": [
    "#arimax_model.fit(sorted_train.Price, exogenous=sorted_train[exogenous_features])"
   ]
  },
  {
   "cell_type": "code",
   "execution_count": 70,
   "id": "nutritional-vegetarian",
   "metadata": {},
   "outputs": [
    {
     "data": {
      "text/plain": [
       "Date\n",
       "2020-01-03    255.00\n",
       "2020-01-06    253.90\n",
       "2020-01-08    259.15\n",
       "2020-01-09    257.99\n",
       "2020-01-10    258.19\n",
       "               ...  \n",
       "2020-12-24    269.32\n",
       "2020-12-25    270.64\n",
       "2020-12-28    274.70\n",
       "2020-12-29    272.00\n",
       "2020-12-30    271.65\n",
       "Name: Price, Length: 250, dtype: float64"
      ]
     },
     "execution_count": 70,
     "metadata": {},
     "output_type": "execute_result"
    }
   ],
   "source": [
    "sorted_train.Price"
   ]
  },
  {
   "cell_type": "code",
   "execution_count": 61,
   "id": "fallen-industry",
   "metadata": {},
   "outputs": [
    {
     "name": "stdout",
     "output_type": "stream",
     "text": [
      "Performing stepwise search to minimize aic\n",
      " ARIMA(2,1,2)(0,0,0)[0] intercept   : AIC=inf, Time=0.40 sec\n",
      " ARIMA(0,1,0)(0,0,0)[0] intercept   : AIC=1499.638, Time=0.01 sec\n",
      " ARIMA(1,1,0)(0,0,0)[0] intercept   : AIC=1501.228, Time=0.04 sec\n",
      " ARIMA(0,1,1)(0,0,0)[0] intercept   : AIC=1501.180, Time=0.04 sec\n",
      " ARIMA(0,1,0)(0,0,0)[0]             : AIC=1497.685, Time=0.01 sec\n",
      " ARIMA(1,1,1)(0,0,0)[0] intercept   : AIC=1502.372, Time=0.09 sec\n",
      "\n",
      "Best model:  ARIMA(0,1,0)(0,0,0)[0]          \n",
      "Total fit time: 0.611 seconds\n"
     ]
    }
   ],
   "source": [
    "# create the ARIMAX model\n",
    "model_ARMX = auto_arima(sorted_train.Price, exogenous=sorted_train[exogenous_features], trace=True, error_action=\"ignore\", suppress_warnings=True)"
   ]
  },
  {
   "cell_type": "code",
   "execution_count": 62,
   "id": "knowing-setting",
   "metadata": {},
   "outputs": [
    {
     "data": {
      "text/plain": [
       "ARIMA(order=(0, 1, 0), scoring_args={}, suppress_warnings=True,\n",
       "      with_intercept=False)"
      ]
     },
     "execution_count": 62,
     "metadata": {},
     "output_type": "execute_result"
    }
   ],
   "source": [
    "model_ARMX.fit(sorted_train.Price, exogenous=sorted_train[exogenous_features])"
   ]
  },
  {
   "cell_type": "code",
   "execution_count": 63,
   "id": "wanted-landscape",
   "metadata": {},
   "outputs": [
    {
     "name": "stderr",
     "output_type": "stream",
     "text": [
      "/Library/Frameworks/Python.framework/Versions/3.8/lib/python3.8/site-packages/statsmodels/tsa/base/tsa_model.py:834: ValueWarning: No supported index is available. Prediction results will be given with an integer index beginning at `start`.\n",
      "  return get_prediction_index(\n"
     ]
    }
   ],
   "source": [
    "#get predicted prices\n",
    "y_pred_ARMX = model_ARMX.predict(n_periods=len(test_ARMX['Price']), exogenous=test_ARMX[exogenous_features])"
   ]
  },
  {
   "cell_type": "code",
   "execution_count": 71,
   "id": "editorial-eclipse",
   "metadata": {},
   "outputs": [
    {
     "data": {
      "text/plain": [
       "250    271.65\n",
       "251    271.65\n",
       "252    271.65\n",
       "253    271.65\n",
       "254    271.65\n",
       "        ...  \n",
       "306    271.65\n",
       "307    271.65\n",
       "308    271.65\n",
       "309    271.65\n",
       "310    271.65\n",
       "Length: 61, dtype: float64"
      ]
     },
     "execution_count": 71,
     "metadata": {},
     "output_type": "execute_result"
    }
   ],
   "source": [
    "y_pred_ARMX"
   ]
  },
  {
   "cell_type": "code",
   "execution_count": 65,
   "id": "geological-illinois",
   "metadata": {},
   "outputs": [],
   "source": [
    "testARMX_new = test_ARMX.sort_index()"
   ]
  },
  {
   "cell_type": "code",
   "execution_count": 66,
   "id": "million-batch",
   "metadata": {},
   "outputs": [],
   "source": [
    "testARMX_new['Pred'] = y_pred_ARMX.values"
   ]
  },
  {
   "cell_type": "code",
   "execution_count": 67,
   "id": "permanent-macintosh",
   "metadata": {},
   "outputs": [
    {
     "data": {
      "text/html": [
       "<div>\n",
       "<style scoped>\n",
       "    .dataframe tbody tr th:only-of-type {\n",
       "        vertical-align: middle;\n",
       "    }\n",
       "\n",
       "    .dataframe tbody tr th {\n",
       "        vertical-align: top;\n",
       "    }\n",
       "\n",
       "    .dataframe thead th {\n",
       "        text-align: right;\n",
       "    }\n",
       "</style>\n",
       "<table border=\"1\" class=\"dataframe\">\n",
       "  <thead>\n",
       "    <tr style=\"text-align: right;\">\n",
       "      <th></th>\n",
       "      <th>Price</th>\n",
       "      <th>Open</th>\n",
       "      <th>High</th>\n",
       "      <th>Low</th>\n",
       "      <th>Volume</th>\n",
       "      <th>Change %</th>\n",
       "      <th>diff_1</th>\n",
       "      <th>Open_mean_lag3</th>\n",
       "      <th>Open_mean_lag7</th>\n",
       "      <th>Open_mean_lag30</th>\n",
       "      <th>...</th>\n",
       "      <th>Change %_mean_lag7</th>\n",
       "      <th>Change %_mean_lag30</th>\n",
       "      <th>Change %_std_lag3</th>\n",
       "      <th>Change %_std_lag7</th>\n",
       "      <th>Change %_std_lag30</th>\n",
       "      <th>month</th>\n",
       "      <th>week</th>\n",
       "      <th>day</th>\n",
       "      <th>day_of_week</th>\n",
       "      <th>Pred</th>\n",
       "    </tr>\n",
       "    <tr>\n",
       "      <th>Date</th>\n",
       "      <th></th>\n",
       "      <th></th>\n",
       "      <th></th>\n",
       "      <th></th>\n",
       "      <th></th>\n",
       "      <th></th>\n",
       "      <th></th>\n",
       "      <th></th>\n",
       "      <th></th>\n",
       "      <th></th>\n",
       "      <th></th>\n",
       "      <th></th>\n",
       "      <th></th>\n",
       "      <th></th>\n",
       "      <th></th>\n",
       "      <th></th>\n",
       "      <th></th>\n",
       "      <th></th>\n",
       "      <th></th>\n",
       "      <th></th>\n",
       "      <th></th>\n",
       "    </tr>\n",
       "  </thead>\n",
       "  <tbody>\n",
       "    <tr>\n",
       "      <th>2021-01-04</th>\n",
       "      <td>272.00</td>\n",
       "      <td>274.67</td>\n",
       "      <td>276.60</td>\n",
       "      <td>270.61</td>\n",
       "      <td>48.92</td>\n",
       "      <td>0.0013</td>\n",
       "      <td>-3.20</td>\n",
       "      <td>273.100000</td>\n",
       "      <td>269.007143</td>\n",
       "      <td>264.373333</td>\n",
       "      <td>...</td>\n",
       "      <td>0.005386</td>\n",
       "      <td>0.003897</td>\n",
       "      <td>0.012603</td>\n",
       "      <td>0.013551</td>\n",
       "      <td>0.016690</td>\n",
       "      <td>1</td>\n",
       "      <td>1</td>\n",
       "      <td>4</td>\n",
       "      <td>0</td>\n",
       "      <td>271.65</td>\n",
       "    </tr>\n",
       "    <tr>\n",
       "      <th>2021-01-05</th>\n",
       "      <td>275.20</td>\n",
       "      <td>272.69</td>\n",
       "      <td>275.70</td>\n",
       "      <td>270.28</td>\n",
       "      <td>45.58</td>\n",
       "      <td>0.0118</td>\n",
       "      <td>2.27</td>\n",
       "      <td>274.356667</td>\n",
       "      <td>271.167143</td>\n",
       "      <td>265.445667</td>\n",
       "      <td>...</td>\n",
       "      <td>0.005429</td>\n",
       "      <td>0.004277</td>\n",
       "      <td>0.005805</td>\n",
       "      <td>0.013535</td>\n",
       "      <td>0.016489</td>\n",
       "      <td>1</td>\n",
       "      <td>1</td>\n",
       "      <td>5</td>\n",
       "      <td>1</td>\n",
       "      <td>271.65</td>\n",
       "    </tr>\n",
       "    <tr>\n",
       "      <th>2021-01-06</th>\n",
       "      <td>272.93</td>\n",
       "      <td>275.94</td>\n",
       "      <td>275.94</td>\n",
       "      <td>271.62</td>\n",
       "      <td>40.95</td>\n",
       "      <td>-0.0082</td>\n",
       "      <td>-10.71</td>\n",
       "      <td>273.283333</td>\n",
       "      <td>272.658571</td>\n",
       "      <td>266.549333</td>\n",
       "      <td>...</td>\n",
       "      <td>0.002714</td>\n",
       "      <td>0.004787</td>\n",
       "      <td>0.006936</td>\n",
       "      <td>0.008607</td>\n",
       "      <td>0.016476</td>\n",
       "      <td>1</td>\n",
       "      <td>1</td>\n",
       "      <td>6</td>\n",
       "      <td>2</td>\n",
       "      <td>271.65</td>\n",
       "    </tr>\n",
       "    <tr>\n",
       "      <th>2021-01-08</th>\n",
       "      <td>283.64</td>\n",
       "      <td>275.11</td>\n",
       "      <td>283.99</td>\n",
       "      <td>275.11</td>\n",
       "      <td>88.93</td>\n",
       "      <td>0.0392</td>\n",
       "      <td>-5.85</td>\n",
       "      <td>274.433333</td>\n",
       "      <td>273.224286</td>\n",
       "      <td>267.732333</td>\n",
       "      <td>...</td>\n",
       "      <td>0.001957</td>\n",
       "      <td>0.004473</td>\n",
       "      <td>0.010004</td>\n",
       "      <td>0.009382</td>\n",
       "      <td>0.016636</td>\n",
       "      <td>1</td>\n",
       "      <td>1</td>\n",
       "      <td>8</td>\n",
       "      <td>4</td>\n",
       "      <td>271.65</td>\n",
       "    </tr>\n",
       "    <tr>\n",
       "      <th>2021-01-11</th>\n",
       "      <td>289.49</td>\n",
       "      <td>282.86</td>\n",
       "      <td>292.95</td>\n",
       "      <td>279.48</td>\n",
       "      <td>112.35</td>\n",
       "      <td>0.0206</td>\n",
       "      <td>-0.50</td>\n",
       "      <td>274.580000</td>\n",
       "      <td>273.958571</td>\n",
       "      <td>268.847667</td>\n",
       "      <td>...</td>\n",
       "      <td>0.006857</td>\n",
       "      <td>0.004720</td>\n",
       "      <td>0.023796</td>\n",
       "      <td>0.017022</td>\n",
       "      <td>0.017103</td>\n",
       "      <td>1</td>\n",
       "      <td>2</td>\n",
       "      <td>11</td>\n",
       "      <td>0</td>\n",
       "      <td>271.65</td>\n",
       "    </tr>\n",
       "  </tbody>\n",
       "</table>\n",
       "<p>5 rows × 42 columns</p>\n",
       "</div>"
      ],
      "text/plain": [
       "             Price    Open    High     Low  Volume  Change %  diff_1  \\\n",
       "Date                                                                   \n",
       "2021-01-04  272.00  274.67  276.60  270.61   48.92    0.0013   -3.20   \n",
       "2021-01-05  275.20  272.69  275.70  270.28   45.58    0.0118    2.27   \n",
       "2021-01-06  272.93  275.94  275.94  271.62   40.95   -0.0082  -10.71   \n",
       "2021-01-08  283.64  275.11  283.99  275.11   88.93    0.0392   -5.85   \n",
       "2021-01-11  289.49  282.86  292.95  279.48  112.35    0.0206   -0.50   \n",
       "\n",
       "            Open_mean_lag3  Open_mean_lag7  Open_mean_lag30  ...  \\\n",
       "Date                                                         ...   \n",
       "2021-01-04      273.100000      269.007143       264.373333  ...   \n",
       "2021-01-05      274.356667      271.167143       265.445667  ...   \n",
       "2021-01-06      273.283333      272.658571       266.549333  ...   \n",
       "2021-01-08      274.433333      273.224286       267.732333  ...   \n",
       "2021-01-11      274.580000      273.958571       268.847667  ...   \n",
       "\n",
       "            Change %_mean_lag7  Change %_mean_lag30  Change %_std_lag3  \\\n",
       "Date                                                                     \n",
       "2021-01-04            0.005386             0.003897           0.012603   \n",
       "2021-01-05            0.005429             0.004277           0.005805   \n",
       "2021-01-06            0.002714             0.004787           0.006936   \n",
       "2021-01-08            0.001957             0.004473           0.010004   \n",
       "2021-01-11            0.006857             0.004720           0.023796   \n",
       "\n",
       "            Change %_std_lag7  Change %_std_lag30  month  week  day  \\\n",
       "Date                                                                  \n",
       "2021-01-04           0.013551            0.016690      1     1    4   \n",
       "2021-01-05           0.013535            0.016489      1     1    5   \n",
       "2021-01-06           0.008607            0.016476      1     1    6   \n",
       "2021-01-08           0.009382            0.016636      1     1    8   \n",
       "2021-01-11           0.017022            0.017103      1     2   11   \n",
       "\n",
       "            day_of_week    Pred  \n",
       "Date                             \n",
       "2021-01-04            0  271.65  \n",
       "2021-01-05            1  271.65  \n",
       "2021-01-06            2  271.65  \n",
       "2021-01-08            4  271.65  \n",
       "2021-01-11            0  271.65  \n",
       "\n",
       "[5 rows x 42 columns]"
      ]
     },
     "execution_count": 67,
     "metadata": {},
     "output_type": "execute_result"
    }
   ],
   "source": [
    "testARMX_new.head()"
   ]
  },
  {
   "cell_type": "code",
   "execution_count": 68,
   "id": "fuzzy-beast",
   "metadata": {},
   "outputs": [
    {
     "data": {
      "image/png": "[encoded data removed]",
      "text/plain": [
       "<Figure size 1152x360 with 1 Axes>"
      ]
     },
     "metadata": {
      "needs_background": "light"
     },
     "output_type": "display_data"
    }
   ],
   "source": [
    "actual_prediction_plot(test_ARMX['Price'], testARMX_new['Pred'])"
   ]
  },
  {
   "cell_type": "code",
   "execution_count": 69,
   "id": "organic-response",
   "metadata": {},
   "outputs": [
    {
     "ename": "KeyError",
     "evalue": "'Pred'",
     "output_type": "error",
     "traceback": [
      "\u001b[0;31m---------------------------------------------------------------------------\u001b[0m",
      "\u001b[0;31mKeyError\u001b[0m                                  Traceback (most recent call last)",
      "\u001b[0;32m/Library/Frameworks/Python.framework/Versions/3.8/lib/python3.8/site-packages/pandas/core/indexes/base.py\u001b[0m in \u001b[0;36mget_loc\u001b[0;34m(self, key, method, tolerance)\u001b[0m\n\u001b[1;32m   3799\u001b[0m             \u001b[0;32mtry\u001b[0m\u001b[0;34m:\u001b[0m\u001b[0;34m\u001b[0m\u001b[0;34m\u001b[0m\u001b[0m\n\u001b[0;32m-> 3800\u001b[0;31m                 \u001b[0;32mreturn\u001b[0m \u001b[0mself\u001b[0m\u001b[0;34m.\u001b[0m\u001b[0m_engine\u001b[0m\u001b[0;34m.\u001b[0m\u001b[0mget_loc\u001b[0m\u001b[0;34m(\u001b[0m\u001b[0mcasted_key\u001b[0m\u001b[0;34m)\u001b[0m\u001b[0;34m\u001b[0m\u001b[0;34m\u001b[0m\u001b[0m\n\u001b[0m\u001b[1;32m   3801\u001b[0m             \u001b[0;32mexcept\u001b[0m \u001b[0mKeyError\u001b[0m \u001b[0;32mas\u001b[0m \u001b[0merr\u001b[0m\u001b[0;34m:\u001b[0m\u001b[0;34m\u001b[0m\u001b[0;34m\u001b[0m\u001b[0m\n",
      "\u001b[0;32m/Library/Frameworks/Python.framework/Versions/3.8/lib/python3.8/site-packages/pandas/_libs/index.pyx\u001b[0m in \u001b[0;36mpandas._libs.index.IndexEngine.get_loc\u001b[0;34m()\u001b[0m\n",
      "\u001b[0;32m/Library/Frameworks/Python.framework/Versions/3.8/lib/python3.8/site-packages/pandas/_libs/index.pyx\u001b[0m in \u001b[0;36mpandas._libs.index.IndexEngine.get_loc\u001b[0;34m()\u001b[0m\n",
      "\u001b[0;32mpandas/_libs/hashtable_class_helper.pxi\u001b[0m in \u001b[0;36mpandas._libs.hashtable.PyObjectHashTable.get_item\u001b[0;34m()\u001b[0m\n",
      "\u001b[0;32mpandas/_libs/hashtable_class_helper.pxi\u001b[0m in \u001b[0;36mpandas._libs.hashtable.PyObjectHashTable.get_item\u001b[0;34m()\u001b[0m\n",
      "\u001b[0;31mKeyError\u001b[0m: 'Pred'",
      "\nThe above exception was the direct cause of the following exception:\n",
      "\u001b[0;31mKeyError\u001b[0m                                  Traceback (most recent call last)",
      "\u001b[0;32m<ipython-input-69-90ea6cc5d4a9>\u001b[0m in \u001b[0;36m<module>\u001b[0;34m\u001b[0m\n\u001b[0;32m----> 1\u001b[0;31m \u001b[0mmse\u001b[0m \u001b[0;34m=\u001b[0m \u001b[0mmean_squared_error\u001b[0m\u001b[0;34m(\u001b[0m\u001b[0mtest_ARMX\u001b[0m\u001b[0;34m[\u001b[0m\u001b[0;34m'Price'\u001b[0m\u001b[0;34m]\u001b[0m\u001b[0;34m,\u001b[0m \u001b[0mtest_ARMX\u001b[0m\u001b[0;34m[\u001b[0m\u001b[0;34m'Pred'\u001b[0m\u001b[0;34m]\u001b[0m\u001b[0;34m)\u001b[0m\u001b[0;34m\u001b[0m\u001b[0;34m\u001b[0m\u001b[0m\n\u001b[0m\u001b[1;32m      2\u001b[0m \u001b[0mprint\u001b[0m\u001b[0;34m(\u001b[0m\u001b[0;34m'MSE: '\u001b[0m\u001b[0;34m+\u001b[0m\u001b[0mstr\u001b[0m\u001b[0;34m(\u001b[0m\u001b[0mmse\u001b[0m\u001b[0;34m)\u001b[0m\u001b[0;34m)\u001b[0m\u001b[0;34m\u001b[0m\u001b[0;34m\u001b[0m\u001b[0m\n\u001b[1;32m      3\u001b[0m \u001b[0mmae\u001b[0m \u001b[0;34m=\u001b[0m \u001b[0mmean_absolute_error\u001b[0m\u001b[0;34m(\u001b[0m\u001b[0mtest_ARMX\u001b[0m\u001b[0;34m[\u001b[0m\u001b[0;34m'Price'\u001b[0m\u001b[0;34m]\u001b[0m\u001b[0;34m,\u001b[0m \u001b[0mtest_ARMX\u001b[0m\u001b[0;34m[\u001b[0m\u001b[0;34m'Pred'\u001b[0m\u001b[0;34m]\u001b[0m\u001b[0;34m)\u001b[0m\u001b[0;34m\u001b[0m\u001b[0;34m\u001b[0m\u001b[0m\n\u001b[1;32m      4\u001b[0m \u001b[0mprint\u001b[0m\u001b[0;34m(\u001b[0m\u001b[0;34m'MAE: '\u001b[0m\u001b[0;34m+\u001b[0m\u001b[0mstr\u001b[0m\u001b[0;34m(\u001b[0m\u001b[0mmae\u001b[0m\u001b[0;34m)\u001b[0m\u001b[0;34m)\u001b[0m\u001b[0;34m\u001b[0m\u001b[0;34m\u001b[0m\u001b[0m\n\u001b[1;32m      5\u001b[0m \u001b[0mrmse\u001b[0m \u001b[0;34m=\u001b[0m \u001b[0mmath\u001b[0m\u001b[0;34m.\u001b[0m\u001b[0msqrt\u001b[0m\u001b[0;34m(\u001b[0m\u001b[0mmean_squared_error\u001b[0m\u001b[0;34m(\u001b[0m\u001b[0mtest_ARMX\u001b[0m\u001b[0;34m[\u001b[0m\u001b[0;34m'Price'\u001b[0m\u001b[0;34m]\u001b[0m\u001b[0;34m,\u001b[0m \u001b[0mtest_ARMX\u001b[0m\u001b[0;34m[\u001b[0m\u001b[0;34m'Pred'\u001b[0m\u001b[0;34m]\u001b[0m\u001b[0;34m)\u001b[0m\u001b[0;34m)\u001b[0m\u001b[0;34m\u001b[0m\u001b[0;34m\u001b[0m\u001b[0m\n",
      "\u001b[0;32m/Library/Frameworks/Python.framework/Versions/3.8/lib/python3.8/site-packages/pandas/core/frame.py\u001b[0m in \u001b[0;36m__getitem__\u001b[0;34m(self, key)\u001b[0m\n\u001b[1;32m   3803\u001b[0m             \u001b[0;32mif\u001b[0m \u001b[0mself\u001b[0m\u001b[0;34m.\u001b[0m\u001b[0mcolumns\u001b[0m\u001b[0;34m.\u001b[0m\u001b[0mnlevels\u001b[0m \u001b[0;34m>\u001b[0m \u001b[0;36m1\u001b[0m\u001b[0;34m:\u001b[0m\u001b[0;34m\u001b[0m\u001b[0;34m\u001b[0m\u001b[0m\n\u001b[1;32m   3804\u001b[0m                 \u001b[0;32mreturn\u001b[0m \u001b[0mself\u001b[0m\u001b[0;34m.\u001b[0m\u001b[0m_getitem_multilevel\u001b[0m\u001b[0;34m(\u001b[0m\u001b[0mkey\u001b[0m\u001b[0;34m)\u001b[0m\u001b[0;34m\u001b[0m\u001b[0;34m\u001b[0m\u001b[0m\n\u001b[0;32m-> 3805\u001b[0;31m             \u001b[0mindexer\u001b[0m \u001b[0;34m=\u001b[0m \u001b[0mself\u001b[0m\u001b[0;34m.\u001b[0m\u001b[0mcolumns\u001b[0m\u001b[0;34m.\u001b[0m\u001b[0mget_loc\u001b[0m\u001b[0;34m(\u001b[0m\u001b[0mkey\u001b[0m\u001b[0;34m)\u001b[0m\u001b[0;34m\u001b[0m\u001b[0;34m\u001b[0m\u001b[0m\n\u001b[0m\u001b[1;32m   3806\u001b[0m             \u001b[0;32mif\u001b[0m \u001b[0mis_integer\u001b[0m\u001b[0;34m(\u001b[0m\u001b[0mindexer\u001b[0m\u001b[0;34m)\u001b[0m\u001b[0;34m:\u001b[0m\u001b[0;34m\u001b[0m\u001b[0;34m\u001b[0m\u001b[0m\n\u001b[1;32m   3807\u001b[0m                 \u001b[0mindexer\u001b[0m \u001b[0;34m=\u001b[0m \u001b[0;34m[\u001b[0m\u001b[0mindexer\u001b[0m\u001b[0;34m]\u001b[0m\u001b[0;34m\u001b[0m\u001b[0;34m\u001b[0m\u001b[0m\n",
      "\u001b[0;32m/Library/Frameworks/Python.framework/Versions/3.8/lib/python3.8/site-packages/pandas/core/indexes/base.py\u001b[0m in \u001b[0;36mget_loc\u001b[0;34m(self, key, method, tolerance)\u001b[0m\n\u001b[1;32m   3800\u001b[0m                 \u001b[0;32mreturn\u001b[0m \u001b[0mself\u001b[0m\u001b[0;34m.\u001b[0m\u001b[0m_engine\u001b[0m\u001b[0;34m.\u001b[0m\u001b[0mget_loc\u001b[0m\u001b[0;34m(\u001b[0m\u001b[0mcasted_key\u001b[0m\u001b[0;34m)\u001b[0m\u001b[0;34m\u001b[0m\u001b[0;34m\u001b[0m\u001b[0m\n\u001b[1;32m   3801\u001b[0m             \u001b[0;32mexcept\u001b[0m \u001b[0mKeyError\u001b[0m \u001b[0;32mas\u001b[0m \u001b[0merr\u001b[0m\u001b[0;34m:\u001b[0m\u001b[0;34m\u001b[0m\u001b[0;34m\u001b[0m\u001b[0m\n\u001b[0;32m-> 3802\u001b[0;31m                 \u001b[0;32mraise\u001b[0m \u001b[0mKeyError\u001b[0m\u001b[0;34m(\u001b[0m\u001b[0mkey\u001b[0m\u001b[0;34m)\u001b[0m \u001b[0;32mfrom\u001b[0m \u001b[0merr\u001b[0m\u001b[0;34m\u001b[0m\u001b[0;34m\u001b[0m\u001b[0m\n\u001b[0m\u001b[1;32m   3803\u001b[0m             \u001b[0;32mexcept\u001b[0m \u001b[0mTypeError\u001b[0m\u001b[0;34m:\u001b[0m\u001b[0;34m\u001b[0m\u001b[0;34m\u001b[0m\u001b[0m\n\u001b[1;32m   3804\u001b[0m                 \u001b[0;31m# If we have a listlike key, _check_indexing_error will raise\u001b[0m\u001b[0;34m\u001b[0m\u001b[0;34m\u001b[0m\u001b[0;34m\u001b[0m\u001b[0m\n",
      "\u001b[0;31mKeyError\u001b[0m: 'Pred'"
     ]
    }
   ],
   "source": [
    "mse = mean_squared_error(test_ARMX['Price'], test_ARMX['Pred'])\n",
    "print('MSE: '+str(mse))\n",
    "mae = mean_absolute_error(test_ARMX['Price'], test_ARMX['Pred'])\n",
    "print('MAE: '+str(mae))\n",
    "rmse = math.sqrt(mean_squared_error(test_ARMX['Price'], test_ARMX['Pred']))\n",
    "print('RMSE: '+str(rmse))\n",
    "mape = np.mean(np.abs(test_ARMX['Pred'] - test_ARMX['Price'])/np.abs(test_ARMX['Price']))\n",
    "print('MAPE: '+str(mape))"
   ]
  },
  {
   "cell_type": "code",
   "execution_count": null,
   "id": "dedicated-level",
   "metadata": {},
   "outputs": [],
   "source": [
    "# As we can see Arima and Arimax models are not the best models for this data"
   ]
  },
  {
   "cell_type": "code",
   "execution_count": null,
   "id": "nervous-relevance",
   "metadata": {},
   "outputs": [],
   "source": [
    "#FB Prophet"
   ]
  },
  {
   "cell_type": "code",
   "execution_count": null,
   "id": "working-england",
   "metadata": {},
   "outputs": [],
   "source": [
    "df2_russia=df_russia.copy()\n",
    "#df2_russia.set_index(\"Date\", drop=False, inplace=True)\n",
    "df2_russia.head()"
   ]
  },
  {
   "cell_type": "code",
   "execution_count": null,
   "id": "existing-license",
   "metadata": {},
   "outputs": [],
   "source": [
    "train_pro = df2_russia[df2_russia.index < pd.to_datetime('2021-01-01', format=\"%Y-%m-%d\")]\n",
    "train_pro=train_pro.dropna()\n",
    "test_pro=df2_russia[df2_russia.index >= pd.to_datetime('2021-01-01', format=\"%Y-%m-%d\")]\n",
    "test_pro=test_pro.dropna()"
   ]
  },
  {
   "cell_type": "code",
   "execution_count": null,
   "id": "cleared-afghanistan",
   "metadata": {},
   "outputs": [],
   "source": [
    "train_pro.reset_index(drop=False, inplace=True)\n",
    "train_pro.head()\n"
   ]
  },
  {
   "cell_type": "code",
   "execution_count": null,
   "id": "silent-beatles",
   "metadata": {},
   "outputs": [],
   "source": [
    "train_pro = train_pro[[\"Date\", \"Price\"]]\n",
    "train_pro.rename(columns={\"Date\": \"ds\", \"Price\": \"y\"}, inplace=True)\n",
    "#train_pro.set_index(\"ds\", drop=True, inplace=True)\n",
    "train_pro.head()"
   ]
  },
  {
   "cell_type": "code",
   "execution_count": null,
   "id": "boolean-sellers",
   "metadata": {},
   "outputs": [],
   "source": [
    "test_pro.reset_index(drop=False, inplace=True)\n",
    "test_pro.head()"
   ]
  },
  {
   "cell_type": "code",
   "execution_count": null,
   "id": "naughty-score",
   "metadata": {},
   "outputs": [],
   "source": [
    "test_pro = test_pro[[\"Date\", \"Price\"]]\n",
    "test_pro.rename(columns={\"Date\": \"ds\", \"Price\": \"y\"}, inplace=True)\n",
    "#test_pro.set_index(\"ds\", drop=True, inplace=True)\n",
    "test_pro.head()"
   ]
  },
  {
   "cell_type": "code",
   "execution_count": null,
   "id": "transsexual-solution",
   "metadata": {},
   "outputs": [],
   "source": [
    "model = Prophet().fit(train_pro)"
   ]
  },
  {
   "cell_type": "code",
   "execution_count": null,
   "id": "opposed-proposition",
   "metadata": {},
   "outputs": [],
   "source": [
    "forecast = model.predict(test_pro[['ds']])"
   ]
  },
  {
   "cell_type": "code",
   "execution_count": null,
   "id": "photographic-tissue",
   "metadata": {},
   "outputs": [],
   "source": [
    "mae_pro = mean_absolute_error(test_pro.y, forecast.yhat)\n",
    "mae_pro\n",
    "mape_pro = np.mean(np.abs(test_pro.y - forecast.yhat)/np.abs(test_pro.y))\n",
    "print('MAPE: '+str(mape_pro))"
   ]
  },
  {
   "cell_type": "code",
   "execution_count": null,
   "id": "fatty-retailer",
   "metadata": {},
   "outputs": [],
   "source": [
    "actual_prediction_plot(test_pro.y, forecast.yhat)"
   ]
  },
  {
   "cell_type": "code",
   "execution_count": null,
   "id": "novel-league",
   "metadata": {},
   "outputs": [],
   "source": [
    "#Bollinger Bands"
   ]
  },
  {
   "cell_type": "code",
   "execution_count": null,
   "id": "junior-rwanda",
   "metadata": {},
   "outputs": [],
   "source": [
    "df_bands=train_ARMX[['Price','Open']]"
   ]
  },
  {
   "cell_type": "code",
   "execution_count": null,
   "id": "monthly-toronto",
   "metadata": {},
   "outputs": [],
   "source": [
    "period = 20\n",
    "multiplier = 2"
   ]
  },
  {
   "cell_type": "code",
   "execution_count": null,
   "id": "caroline-freedom",
   "metadata": {},
   "outputs": [],
   "source": [
    "df_bands['UpperBand'] = df_bands['Price'].rolling(period).mean() + df_bands['Price'].rolling(period).std() * multiplier\n",
    "df_bands['LowerBand'] = df_bands['Price'].rolling(period).mean() - df_bands['Price'].rolling(period).std() * multiplier"
   ]
  },
  {
   "cell_type": "code",
   "execution_count": null,
   "id": "preliminary-mainstream",
   "metadata": {},
   "outputs": [],
   "source": [
    "plt.rcParams['figure.figsize'] = [12, 7]\n",
    "\n",
    "plt.rc('font', size=14)\n",
    "\n",
    "plt.plot(df_bands['Price'], label = \"Stock price values\")\n",
    "plt.plot(df_bands['UpperBand'], label = \"Upper Bollinger Band\")\n",
    "plt.plot(df_bands['LowerBand'], label = \"Lower Bollinger Band\")\n",
    "\n",
    "plt.xlabel('Date')\n",
    "plt.ylabel('Stock Price')\n",
    "plt.legend()\n",
    "plt.show()"
   ]
  },
  {
   "cell_type": "code",
   "execution_count": null,
   "id": "invisible-wilderness",
   "metadata": {},
   "outputs": [],
   "source": [
    "#Turkey dataset"
   ]
  },
  {
   "cell_type": "code",
   "execution_count": null,
   "id": "proud-density",
   "metadata": {},
   "outputs": [],
   "source": [
    "#xls = pd.ExcelFile('2020Q1Q2Q3Q4-2021Q1.xlsx')\n",
    "#df_russia = pd.read_excel(xls, 'Russia - Sberbank Rossii PAO (S')\n",
    "df_turkey = pd.read_excel(xls, 'Turkey - Koc Holding AS (KCHOL)')"
   ]
  },
  {
   "cell_type": "code",
   "execution_count": null,
   "id": "secondary-witch",
   "metadata": {},
   "outputs": [],
   "source": [
    "df_turkey.shape"
   ]
  },
  {
   "cell_type": "code",
   "execution_count": null,
   "id": "compound-rainbow",
   "metadata": {},
   "outputs": [],
   "source": [
    "df_turkey.tail()"
   ]
  },
  {
   "cell_type": "code",
   "execution_count": null,
   "id": "terminal-likelihood",
   "metadata": {},
   "outputs": [],
   "source": [
    "#Rename the Vol. column to Volume\n",
    "df_turkey.rename(columns = {'Vol.': 'Volume'}, inplace = True)"
   ]
  },
  {
   "cell_type": "code",
   "execution_count": null,
   "id": "killing-structure",
   "metadata": {},
   "outputs": [],
   "source": [
    "#drop the last row\n",
    "df_turkey.drop(index=df_turkey.index[-1], axis=0, inplace=True)\n",
    "df_turkey[\"Volume\"]=df_turkey.Volume.str.replace('M','')"
   ]
  },
  {
   "cell_type": "code",
   "execution_count": null,
   "id": "alpha-township",
   "metadata": {},
   "outputs": [],
   "source": [
    "df_turkey[\"Date\"]=pd.to_datetime(df_turkey.Date,format=\"%Y-%m-%d\")"
   ]
  },
  {
   "cell_type": "code",
   "execution_count": null,
   "id": "nearby-performance",
   "metadata": {},
   "outputs": [],
   "source": [
    "df_turkey=df_turkey.astype({'Price':'float','Open':'float','High':'float','Low':'float','Volume':'float'})\n",
    "print(df_turkey.dtypes)"
   ]
  },
  {
   "cell_type": "code",
   "execution_count": null,
   "id": "proud-administration",
   "metadata": {},
   "outputs": [],
   "source": [
    "df_turkey.isnull().sum()"
   ]
  },
  {
   "cell_type": "code",
   "execution_count": null,
   "id": "academic-civilization",
   "metadata": {},
   "outputs": [],
   "source": [
    "plt.figure(figsize=(16,6))\n",
    "plt.grid(True)\n",
    "plt.xlabel('Date')\n",
    "plt.ylabel('Close Prices')\n",
    "plt.plot(df_turkey['Date'],df_turkey['Price'])\n",
    "plt.title('Turkey closing price')\n",
    "plt.show()"
   ]
  },
  {
   "cell_type": "code",
   "execution_count": null,
   "id": "federal-skating",
   "metadata": {},
   "outputs": [],
   "source": [
    "plt.figure(figsize=(10,6))\n",
    "df_close_turk = df_turkey['Price']\n",
    "df_close_turk.plot(style='k.',kind='hist')\n",
    "plt.title('Histogram of closing price')\n",
    "plt.show()"
   ]
  },
  {
   "cell_type": "code",
   "execution_count": null,
   "id": "front-heating",
   "metadata": {},
   "outputs": [],
   "source": [
    "df_turkey.set_index(\"Date\", inplace = True)\n",
    "df_turkey.head()"
   ]
  },
  {
   "cell_type": "code",
   "execution_count": null,
   "id": "professional-motor",
   "metadata": {},
   "outputs": [],
   "source": [
    "test_stationarity(df_turkey['Price'])"
   ]
  },
  {
   "cell_type": "code",
   "execution_count": null,
   "id": "incorporated-slave",
   "metadata": {},
   "outputs": [],
   "source": [
    "#We see that the p-value is greater than 0.05 so we cannot reject the null hypothesis - that the time series is non-stationary and does have time-dependent structure. Also, the test statistics is greater than the critical values. so the data is non-stationary and does have time-dependent structure."
   ]
  },
  {
   "cell_type": "code",
   "execution_count": null,
   "id": "coordinated-arthur",
   "metadata": {},
   "outputs": [],
   "source": [
    "df_turkey[\"diff_1\"] = df_turkey.Price.diff(periods=1)\n",
    "df_turkey.head()"
   ]
  },
  {
   "cell_type": "code",
   "execution_count": null,
   "id": "closing-scout",
   "metadata": {},
   "outputs": [],
   "source": [
    "results_turk = adfuller(df_turkey[\"diff_1\"].dropna())\n",
    "print('The new p-value is:',results[1])"
   ]
  },
  {
   "cell_type": "code",
   "execution_count": null,
   "id": "referenced-finland",
   "metadata": {},
   "outputs": [],
   "source": [
    "#plot the new series\n",
    "plt.figure(figsize=(16,6))\n",
    "plt.title(\"The distribution of the new series\")\n",
    "df_turkey['diff_1'].plot()"
   ]
  },
  {
   "cell_type": "code",
   "execution_count": null,
   "id": "recovered-segment",
   "metadata": {},
   "outputs": [],
   "source": [
    "#plot rolling statistics\n",
    "plt.figure(figsize=(15,7))\n",
    "orig=plt.plot(df_turkey.diff_1, color='blue',label='Price')\n",
    "R_mean=plt.plot(df_turkey.diff_1.rolling(7).mean(), color='red',label='rolling_mean')\n",
    "R_std=plt.plot(df_turkey.diff_1.rolling(7).std(), color='black',label='rolling_std')\n",
    "plt.legend(loc='best')\n",
    "plt.title('Rolling mean & standard deviation for the new series')\n",
    "plt.show(block='False')\n"
   ]
  },
  {
   "cell_type": "code",
   "execution_count": null,
   "id": "distinguished-guarantee",
   "metadata": {},
   "outputs": [],
   "source": [
    "#split the data\n",
    "train_turk = df_turkey[df_turkey.index < pd.to_datetime('2021-01-01', format=\"%Y-%m-%d\")]\n",
    "train_turk=train_turk.dropna()\n",
    "test_turk=df_turkey[df_turkey.index >= pd.to_datetime('2021-01-01', format=\"%Y-%m-%d\")]\n",
    "test_turk=test_turk.dropna()"
   ]
  },
  {
   "cell_type": "code",
   "execution_count": null,
   "id": "acute-auction",
   "metadata": {},
   "outputs": [],
   "source": [
    "arima_model_turk = pm.auto_arima(train_turk['Price'], start_p=1, start_q=1, test='adf', max_p=6, max_q=6, \n",
    "                      m=1, d=None, seasonal=False, start_P=0, D=1, trace=False, error_action='ignore',  \n",
    "                      suppress_warnings=True, stepwise=False)"
   ]
  },
  {
   "cell_type": "code",
   "execution_count": null,
   "id": "white-reset",
   "metadata": {},
   "outputs": [],
   "source": [
    "y_pred_turk = arima_model_turk.predict(len(test_turk['Price']))"
   ]
  },
  {
   "cell_type": "code",
   "execution_count": null,
   "id": "rapid-muslim",
   "metadata": {},
   "outputs": [],
   "source": [
    "test_turk['Pred'] = y_pred_turk.values"
   ]
  },
  {
   "cell_type": "code",
   "execution_count": null,
   "id": "supported-delicious",
   "metadata": {},
   "outputs": [],
   "source": [
    "test_turk.head()"
   ]
  },
  {
   "cell_type": "code",
   "execution_count": null,
   "id": "productive-slide",
   "metadata": {},
   "outputs": [],
   "source": [
    "actual_prediction_plot(test_turk['Price'], test_turk['Pred'])"
   ]
  },
  {
   "cell_type": "code",
   "execution_count": null,
   "id": "fewer-format",
   "metadata": {},
   "outputs": [],
   "source": [
    "mse = mean_squared_error(test_turk['Price'], test_turk['Pred'])\n",
    "print('MSE: '+str(mse))\n",
    "mae = mean_absolute_error(test_turk['Price'], test_turk['Pred'])\n",
    "print('MAE: '+str(mae))\n",
    "rmse = math.sqrt(mean_squared_error(test_turk['Price'], test_turk['Pred']))\n",
    "print('RMSE: '+str(rmse))\n",
    "mape = np.mean(np.abs(test_turk['Pred'] - test_turk['Price'])/np.abs(test_turk['Price']))\n",
    "print('MAPE: '+str(mape))"
   ]
  },
  {
   "cell_type": "code",
   "execution_count": null,
   "id": "altered-algeria",
   "metadata": {},
   "outputs": [],
   "source": [
    "#arimax"
   ]
  },
  {
   "cell_type": "code",
   "execution_count": null,
   "id": "monthly-paragraph",
   "metadata": {},
   "outputs": [],
   "source": [
    "df1_turkey=df_turkey.copy()\n",
    "df1_turkey.head()"
   ]
  },
  {
   "cell_type": "code",
   "execution_count": null,
   "id": "continent-valentine",
   "metadata": {},
   "outputs": [],
   "source": [
    "df1_turkey.reset_index(inplace=True)\n",
    "df1_turkey.head()"
   ]
  },
  {
   "cell_type": "code",
   "execution_count": null,
   "id": "changing-category",
   "metadata": {},
   "outputs": [],
   "source": [
    "df1 = add_exogenous_features(df1_turkey)"
   ]
  },
  {
   "cell_type": "code",
   "execution_count": null,
   "id": "everyday-external",
   "metadata": {},
   "outputs": [],
   "source": [
    "df1_turkey.set_index(\"Date\", drop=True, inplace=True)\n",
    "df1_turkey.head()"
   ]
  },
  {
   "cell_type": "code",
   "execution_count": null,
   "id": "popular-ethiopia",
   "metadata": {},
   "outputs": [],
   "source": [
    "#select exogenous features\n",
    "exogenous_features_turk=df1_turkey.columns[7:].values.tolist()\n",
    "exogenous_features_turk"
   ]
  },
  {
   "cell_type": "code",
   "execution_count": null,
   "id": "diverse-cosmetic",
   "metadata": {},
   "outputs": [],
   "source": [
    "#split data into train and test\n",
    "train_ARMX_turk = df1_turkey[df1_turkey.index < pd.to_datetime('2021-01-01', format=\"%Y-%m-%d\")]\n",
    "train_ARMX_turk = train_ARMX_turk.dropna()\n",
    "test_ARMX_turk =df1_turkey[df1_turkey.index >= pd.to_datetime('2021-01-01', format=\"%Y-%m-%d\")]\n",
    "test_ARMX_turk =test_ARMX_turk.dropna()"
   ]
  },
  {
   "cell_type": "code",
   "execution_count": null,
   "id": "junior-atlanta",
   "metadata": {},
   "outputs": [],
   "source": [
    "print('shape of train set: ',train_ARMX_turk.shape)\n",
    "print('shape of test set: ',test_ARMX_turk.shape)"
   ]
  },
  {
   "cell_type": "code",
   "execution_count": null,
   "id": "cutting-desire",
   "metadata": {},
   "outputs": [],
   "source": [
    "arimax_model_turk = pm.auto_arima(train_ARMX_turk['Price'], exogenous=train_ARMX_turk[exogenous_features_turk], trace=False, error_action=\"ignore\", \n",
    "                                 suppress_warnings=True)"
   ]
  },
  {
   "cell_type": "code",
   "execution_count": null,
   "id": "endless-venezuela",
   "metadata": {},
   "outputs": [],
   "source": [
    "arimax_model_turk.fit(train_ARMX_turk.Price, exogenous=train_ARMX_turk[exogenous_features_turk])"
   ]
  },
  {
   "cell_type": "code",
   "execution_count": null,
   "id": "spectacular-driver",
   "metadata": {},
   "outputs": [],
   "source": [
    "#get predicted prices\n",
    "y_pred_ARMX_turk = arimax_model_turk.predict(n_periods=len(test_ARMX_turk['Price']), exogenous=test_ARMX_turk[exogenous_features_turk])"
   ]
  },
  {
   "cell_type": "code",
   "execution_count": null,
   "id": "superb-national",
   "metadata": {},
   "outputs": [],
   "source": [
    "test_ARMX_turk['Pred'] = y_pred_ARMX_turk.values"
   ]
  },
  {
   "cell_type": "code",
   "execution_count": null,
   "id": "flying-candy",
   "metadata": {},
   "outputs": [],
   "source": [
    "actual_prediction_plot(test_ARMX_turk['Price'], test_ARMX_turk['Pred'])"
   ]
  },
  {
   "cell_type": "code",
   "execution_count": null,
   "id": "perceived-mention",
   "metadata": {},
   "outputs": [],
   "source": [
    "mse = mean_squared_error(test_ARMX_turk['Price'], test_ARMX_turk['Pred'])\n",
    "print('MSE: '+str(mse))\n",
    "mae = mean_absolute_error(test_ARMX_turk['Price'], test_ARMX_turk['Pred'])\n",
    "print('MAE: '+str(mae))\n",
    "rmse = math.sqrt(mean_squared_error(test_ARMX_turk['Price'], test_ARMX_turk['Pred']))\n",
    "print('RMSE: '+str(rmse))\n",
    "mape = np.mean(np.abs(test_ARMX_turk['Pred'] - test_ARMX_turk['Price'])/np.abs(test_ARMX_turk['Price']))\n",
    "print('MAPE: '+str(mape))"
   ]
  },
  {
   "cell_type": "code",
   "execution_count": null,
   "id": "rough-advisory",
   "metadata": {},
   "outputs": [],
   "source": [
    "#Prophet"
   ]
  },
  {
   "cell_type": "code",
   "execution_count": null,
   "id": "occupational-saint",
   "metadata": {},
   "outputs": [],
   "source": [
    "#Bollinger Bands"
   ]
  }
 ],
 "metadata": {
  "kernelspec": {
   "display_name": "Python 3",
   "language": "python",
   "name": "python3"
  },
  "language_info": {
   "codemirror_mode": {
    "name": "ipython",
    "version": 3
   },
   "file_extension": ".py",
   "mimetype": "text/x-python",
   "name": "python",
   "nbconvert_exporter": "python",
   "pygments_lexer": "ipython3",
   "version": "3.8.3"
  }
 },
 "nbformat": 4,
 "nbformat_minor": 5
}
