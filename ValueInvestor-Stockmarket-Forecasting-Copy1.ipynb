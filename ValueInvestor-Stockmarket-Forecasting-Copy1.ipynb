{
 "cells": [
  {
   "cell_type": "code",
   "execution_count": 1,
   "id": "latin-proposition",
   "metadata": {},
   "outputs": [
    {
     "name": "stderr",
     "output_type": "stream",
     "text": [
      "<frozen importlib._bootstrap>:219: RuntimeWarning: scipy._lib.messagestream.MessageStream size changed, may indicate binary incompatibility. Expected 56 from C header, got 64 from PyObject\n"
     ]
    }
   ],
   "source": [
    "import pandas as pd\n",
    "import numpy as np\n",
    "import pmdarima as pm\n",
    "import statsmodels.api\n",
    "import matplotlib.pyplot as plt\n",
    "from statsmodels.tsa.stattools import adfuller\n",
    "from statsmodels.graphics.tsaplots import plot_acf, plot_pacf\n",
    "from pmdarima.arima import auto_arima\n",
    "#from statsmodels.tsa.arima_model import ARIMA\n",
    "from statsmodels.graphics.tsaplots import plot_predict\n",
    "from sklearn.metrics import mean_squared_error\n",
    "from sklearn.metrics import mean_squared_error\n",
    "from sklearn.metrics import mean_absolute_error\n",
    "from fbprophet import Prophet\n",
    "import math"
   ]
  },
  {
   "cell_type": "code",
   "execution_count": null,
   "id": "significant-palmer",
   "metadata": {},
   "outputs": [],
   "source": [
    "#russia dataset"
   ]
  },
  {
   "cell_type": "code",
   "execution_count": 2,
   "id": "following-actress",
   "metadata": {},
   "outputs": [],
   "source": [
    "xls = pd.ExcelFile('2020Q1Q2Q3Q4-2021Q1.xlsx')\n",
    "df_russia = pd.read_excel(xls, 'Russia - Sberbank Rossii PAO (S')\n",
    "#df2 = pd.read_excel(xls, 'Sheet2')"
   ]
  },
  {
   "cell_type": "code",
   "execution_count": 3,
   "id": "remarkable-indonesia",
   "metadata": {},
   "outputs": [
    {
     "data": {
      "text/plain": [
       "(312, 7)"
      ]
     },
     "execution_count": 3,
     "metadata": {},
     "output_type": "execute_result"
    }
   ],
   "source": [
    "df_russia.shape"
   ]
  },
  {
   "cell_type": "code",
   "execution_count": 4,
   "id": "corrected-vatican",
   "metadata": {},
   "outputs": [
    {
     "data": {
      "text/html": [
       "<div>\n",
       "<style scoped>\n",
       "    .dataframe tbody tr th:only-of-type {\n",
       "        vertical-align: middle;\n",
       "    }\n",
       "\n",
       "    .dataframe tbody tr th {\n",
       "        vertical-align: top;\n",
       "    }\n",
       "\n",
       "    .dataframe thead th {\n",
       "        text-align: right;\n",
       "    }\n",
       "</style>\n",
       "<table border=\"1\" class=\"dataframe\">\n",
       "  <thead>\n",
       "    <tr style=\"text-align: right;\">\n",
       "      <th></th>\n",
       "      <th>Date</th>\n",
       "      <th>Price</th>\n",
       "      <th>Open</th>\n",
       "      <th>High</th>\n",
       "      <th>Low</th>\n",
       "      <th>Vol.</th>\n",
       "      <th>Change %</th>\n",
       "    </tr>\n",
       "  </thead>\n",
       "  <tbody>\n",
       "    <tr>\n",
       "      <th>0</th>\n",
       "      <td>2021-03-31 00:00:00</td>\n",
       "      <td>291.02</td>\n",
       "      <td>294</td>\n",
       "      <td>294.42</td>\n",
       "      <td>290.26</td>\n",
       "      <td>47.00M</td>\n",
       "      <td>-0.0076</td>\n",
       "    </tr>\n",
       "    <tr>\n",
       "      <th>1</th>\n",
       "      <td>2021-03-30 00:00:00</td>\n",
       "      <td>293.25</td>\n",
       "      <td>294.86</td>\n",
       "      <td>295.72</td>\n",
       "      <td>291.5</td>\n",
       "      <td>38.81M</td>\n",
       "      <td>-0.0002</td>\n",
       "    </tr>\n",
       "    <tr>\n",
       "      <th>2</th>\n",
       "      <td>2021-03-29 00:00:00</td>\n",
       "      <td>293.3</td>\n",
       "      <td>289.72</td>\n",
       "      <td>294.09</td>\n",
       "      <td>289.26</td>\n",
       "      <td>43.68M</td>\n",
       "      <td>0.0071</td>\n",
       "    </tr>\n",
       "    <tr>\n",
       "      <th>3</th>\n",
       "      <td>2021-03-26 00:00:00</td>\n",
       "      <td>291.22</td>\n",
       "      <td>288.63</td>\n",
       "      <td>292.75</td>\n",
       "      <td>288.32</td>\n",
       "      <td>56.07M</td>\n",
       "      <td>0.0159</td>\n",
       "    </tr>\n",
       "    <tr>\n",
       "      <th>4</th>\n",
       "      <td>2021-03-25 00:00:00</td>\n",
       "      <td>286.66</td>\n",
       "      <td>286.5</td>\n",
       "      <td>287.03</td>\n",
       "      <td>283.85</td>\n",
       "      <td>35.22M</td>\n",
       "      <td>0.0030</td>\n",
       "    </tr>\n",
       "  </tbody>\n",
       "</table>\n",
       "</div>"
      ],
      "text/plain": [
       "                  Date   Price    Open    High     Low    Vol.  Change %\n",
       "0  2021-03-31 00:00:00  291.02     294  294.42  290.26  47.00M   -0.0076\n",
       "1  2021-03-30 00:00:00  293.25  294.86  295.72   291.5  38.81M   -0.0002\n",
       "2  2021-03-29 00:00:00   293.3  289.72  294.09  289.26  43.68M    0.0071\n",
       "3  2021-03-26 00:00:00  291.22  288.63  292.75  288.32  56.07M    0.0159\n",
       "4  2021-03-25 00:00:00  286.66   286.5  287.03  283.85  35.22M    0.0030"
      ]
     },
     "execution_count": 4,
     "metadata": {},
     "output_type": "execute_result"
    }
   ],
   "source": [
    "df_russia.head()"
   ]
  },
  {
   "cell_type": "code",
   "execution_count": 5,
   "id": "endless-vertex",
   "metadata": {},
   "outputs": [],
   "source": [
    "#Rename the Vol. column to Volume\n",
    "df_russia.rename(columns = {'Vol.': 'Volume'}, inplace = True)"
   ]
  },
  {
   "cell_type": "code",
   "execution_count": 6,
   "id": "connected-authorization",
   "metadata": {},
   "outputs": [
    {
     "name": "stdout",
     "output_type": "stream",
     "text": [
      "<class 'pandas.core.frame.DataFrame'>\n",
      "RangeIndex: 312 entries, 0 to 311\n",
      "Data columns (total 7 columns):\n",
      " #   Column    Non-Null Count  Dtype  \n",
      "---  ------    --------------  -----  \n",
      " 0   Date      312 non-null    object \n",
      " 1   Price     312 non-null    object \n",
      " 2   Open      312 non-null    object \n",
      " 3   High      312 non-null    object \n",
      " 4   Low       312 non-null    object \n",
      " 5   Volume    311 non-null    object \n",
      " 6   Change %  311 non-null    float64\n",
      "dtypes: float64(1), object(6)\n",
      "memory usage: 17.2+ KB\n"
     ]
    }
   ],
   "source": [
    "df_russia.info()"
   ]
  },
  {
   "cell_type": "code",
   "execution_count": 7,
   "id": "wrong-bobby",
   "metadata": {},
   "outputs": [
    {
     "data": {
      "text/html": [
       "<div>\n",
       "<style scoped>\n",
       "    .dataframe tbody tr th:only-of-type {\n",
       "        vertical-align: middle;\n",
       "    }\n",
       "\n",
       "    .dataframe tbody tr th {\n",
       "        vertical-align: top;\n",
       "    }\n",
       "\n",
       "    .dataframe thead th {\n",
       "        text-align: right;\n",
       "    }\n",
       "</style>\n",
       "<table border=\"1\" class=\"dataframe\">\n",
       "  <thead>\n",
       "    <tr style=\"text-align: right;\">\n",
       "      <th></th>\n",
       "      <th>Date</th>\n",
       "      <th>Price</th>\n",
       "      <th>Open</th>\n",
       "      <th>High</th>\n",
       "      <th>Low</th>\n",
       "      <th>Volume</th>\n",
       "      <th>Change %</th>\n",
       "    </tr>\n",
       "  </thead>\n",
       "  <tbody>\n",
       "    <tr>\n",
       "      <th>307</th>\n",
       "      <td>2020-01-09 00:00:00</td>\n",
       "      <td>257.99</td>\n",
       "      <td>259.4</td>\n",
       "      <td>261.76</td>\n",
       "      <td>257.01</td>\n",
       "      <td>38.33M</td>\n",
       "      <td>-0.0045</td>\n",
       "    </tr>\n",
       "    <tr>\n",
       "      <th>308</th>\n",
       "      <td>2020-01-08 00:00:00</td>\n",
       "      <td>259.15</td>\n",
       "      <td>253.57</td>\n",
       "      <td>259.15</td>\n",
       "      <td>253.03</td>\n",
       "      <td>40.82M</td>\n",
       "      <td>0.0207</td>\n",
       "    </tr>\n",
       "    <tr>\n",
       "      <th>309</th>\n",
       "      <td>2020-01-06 00:00:00</td>\n",
       "      <td>253.9</td>\n",
       "      <td>254.75</td>\n",
       "      <td>254.84</td>\n",
       "      <td>251.4</td>\n",
       "      <td>22.35M</td>\n",
       "      <td>-0.0043</td>\n",
       "    </tr>\n",
       "    <tr>\n",
       "      <th>310</th>\n",
       "      <td>2020-01-03 00:00:00</td>\n",
       "      <td>255</td>\n",
       "      <td>255.99</td>\n",
       "      <td>258.19</td>\n",
       "      <td>253.7</td>\n",
       "      <td>35.85M</td>\n",
       "      <td>0.0010</td>\n",
       "    </tr>\n",
       "    <tr>\n",
       "      <th>311</th>\n",
       "      <td>Highest: 296.07</td>\n",
       "      <td>Lowest: 172.15</td>\n",
       "      <td>Difference: 123.92</td>\n",
       "      <td>Average: 234.52</td>\n",
       "      <td>Change %: 14.24</td>\n",
       "      <td>NaN</td>\n",
       "      <td>NaN</td>\n",
       "    </tr>\n",
       "  </tbody>\n",
       "</table>\n",
       "</div>"
      ],
      "text/plain": [
       "                    Date           Price                Open             High  \\\n",
       "307  2020-01-09 00:00:00          257.99               259.4           261.76   \n",
       "308  2020-01-08 00:00:00          259.15              253.57           259.15   \n",
       "309  2020-01-06 00:00:00           253.9              254.75           254.84   \n",
       "310  2020-01-03 00:00:00             255              255.99           258.19   \n",
       "311      Highest: 296.07  Lowest: 172.15  Difference: 123.92  Average: 234.52   \n",
       "\n",
       "                 Low  Volume  Change %  \n",
       "307           257.01  38.33M   -0.0045  \n",
       "308           253.03  40.82M    0.0207  \n",
       "309            251.4  22.35M   -0.0043  \n",
       "310            253.7  35.85M    0.0010  \n",
       "311  Change %: 14.24     NaN       NaN  "
      ]
     },
     "execution_count": 7,
     "metadata": {},
     "output_type": "execute_result"
    }
   ],
   "source": [
    "df_russia.tail()"
   ]
  },
  {
   "cell_type": "code",
   "execution_count": 8,
   "id": "wrapped-complexity",
   "metadata": {},
   "outputs": [],
   "source": [
    "#drop the last row\n",
    "df_russia.drop(index=df_russia.index[-1], axis=0, inplace=True)\n",
    "df_russia[\"Volume\"]=df_russia.Volume.str.replace('M','')"
   ]
  },
  {
   "cell_type": "code",
   "execution_count": 9,
   "id": "reserved-craps",
   "metadata": {},
   "outputs": [
    {
     "data": {
      "text/html": [
       "<div>\n",
       "<style scoped>\n",
       "    .dataframe tbody tr th:only-of-type {\n",
       "        vertical-align: middle;\n",
       "    }\n",
       "\n",
       "    .dataframe tbody tr th {\n",
       "        vertical-align: top;\n",
       "    }\n",
       "\n",
       "    .dataframe thead th {\n",
       "        text-align: right;\n",
       "    }\n",
       "</style>\n",
       "<table border=\"1\" class=\"dataframe\">\n",
       "  <thead>\n",
       "    <tr style=\"text-align: right;\">\n",
       "      <th></th>\n",
       "      <th>Date</th>\n",
       "      <th>Price</th>\n",
       "      <th>Open</th>\n",
       "      <th>High</th>\n",
       "      <th>Low</th>\n",
       "      <th>Volume</th>\n",
       "      <th>Change %</th>\n",
       "    </tr>\n",
       "  </thead>\n",
       "  <tbody>\n",
       "    <tr>\n",
       "      <th>306</th>\n",
       "      <td>2020-01-10 00:00:00</td>\n",
       "      <td>258.19</td>\n",
       "      <td>257.86</td>\n",
       "      <td>259.25</td>\n",
       "      <td>256.88</td>\n",
       "      <td>18.85</td>\n",
       "      <td>0.0008</td>\n",
       "    </tr>\n",
       "    <tr>\n",
       "      <th>307</th>\n",
       "      <td>2020-01-09 00:00:00</td>\n",
       "      <td>257.99</td>\n",
       "      <td>259.4</td>\n",
       "      <td>261.76</td>\n",
       "      <td>257.01</td>\n",
       "      <td>38.33</td>\n",
       "      <td>-0.0045</td>\n",
       "    </tr>\n",
       "    <tr>\n",
       "      <th>308</th>\n",
       "      <td>2020-01-08 00:00:00</td>\n",
       "      <td>259.15</td>\n",
       "      <td>253.57</td>\n",
       "      <td>259.15</td>\n",
       "      <td>253.03</td>\n",
       "      <td>40.82</td>\n",
       "      <td>0.0207</td>\n",
       "    </tr>\n",
       "    <tr>\n",
       "      <th>309</th>\n",
       "      <td>2020-01-06 00:00:00</td>\n",
       "      <td>253.9</td>\n",
       "      <td>254.75</td>\n",
       "      <td>254.84</td>\n",
       "      <td>251.4</td>\n",
       "      <td>22.35</td>\n",
       "      <td>-0.0043</td>\n",
       "    </tr>\n",
       "    <tr>\n",
       "      <th>310</th>\n",
       "      <td>2020-01-03 00:00:00</td>\n",
       "      <td>255</td>\n",
       "      <td>255.99</td>\n",
       "      <td>258.19</td>\n",
       "      <td>253.7</td>\n",
       "      <td>35.85</td>\n",
       "      <td>0.0010</td>\n",
       "    </tr>\n",
       "  </tbody>\n",
       "</table>\n",
       "</div>"
      ],
      "text/plain": [
       "                    Date   Price    Open    High     Low Volume  Change %\n",
       "306  2020-01-10 00:00:00  258.19  257.86  259.25  256.88  18.85    0.0008\n",
       "307  2020-01-09 00:00:00  257.99   259.4  261.76  257.01  38.33   -0.0045\n",
       "308  2020-01-08 00:00:00  259.15  253.57  259.15  253.03  40.82    0.0207\n",
       "309  2020-01-06 00:00:00   253.9  254.75  254.84   251.4  22.35   -0.0043\n",
       "310  2020-01-03 00:00:00     255  255.99  258.19   253.7  35.85    0.0010"
      ]
     },
     "execution_count": 9,
     "metadata": {},
     "output_type": "execute_result"
    }
   ],
   "source": [
    "df_russia.tail()"
   ]
  },
  {
   "cell_type": "code",
   "execution_count": 10,
   "id": "processed-mason",
   "metadata": {},
   "outputs": [],
   "source": [
    "df_russia[\"Date\"]=pd.to_datetime(df_russia.Date,format=\"%Y-%m-%d\")"
   ]
  },
  {
   "cell_type": "code",
   "execution_count": 11,
   "id": "protected-aspect",
   "metadata": {},
   "outputs": [
    {
     "name": "stdout",
     "output_type": "stream",
     "text": [
      "Date        datetime64[ns]\n",
      "Price              float64\n",
      "Open               float64\n",
      "High               float64\n",
      "Low                float64\n",
      "Volume             float64\n",
      "Change %           float64\n",
      "dtype: object\n"
     ]
    }
   ],
   "source": [
    "df_russia=df_russia.astype({'Price':'float','Open':'float','High':'float','Low':'float','Volume':'float'})\n",
    "print(df_russia.dtypes)"
   ]
  },
  {
   "cell_type": "code",
   "execution_count": 12,
   "id": "identified-washington",
   "metadata": {},
   "outputs": [
    {
     "data": {
      "text/html": [
       "<div>\n",
       "<style scoped>\n",
       "    .dataframe tbody tr th:only-of-type {\n",
       "        vertical-align: middle;\n",
       "    }\n",
       "\n",
       "    .dataframe tbody tr th {\n",
       "        vertical-align: top;\n",
       "    }\n",
       "\n",
       "    .dataframe thead th {\n",
       "        text-align: right;\n",
       "    }\n",
       "</style>\n",
       "<table border=\"1\" class=\"dataframe\">\n",
       "  <thead>\n",
       "    <tr style=\"text-align: right;\">\n",
       "      <th></th>\n",
       "      <th>Price</th>\n",
       "      <th>Open</th>\n",
       "      <th>High</th>\n",
       "      <th>Low</th>\n",
       "      <th>Volume</th>\n",
       "      <th>Change %</th>\n",
       "    </tr>\n",
       "  </thead>\n",
       "  <tbody>\n",
       "    <tr>\n",
       "      <th>count</th>\n",
       "      <td>311.000000</td>\n",
       "      <td>311.000000</td>\n",
       "      <td>311.000000</td>\n",
       "      <td>311.000000</td>\n",
       "      <td>311.000000</td>\n",
       "      <td>311.000000</td>\n",
       "    </tr>\n",
       "    <tr>\n",
       "      <th>mean</th>\n",
       "      <td>234.524019</td>\n",
       "      <td>234.417846</td>\n",
       "      <td>237.314759</td>\n",
       "      <td>231.366141</td>\n",
       "      <td>73.056977</td>\n",
       "      <td>0.000668</td>\n",
       "    </tr>\n",
       "    <tr>\n",
       "      <th>std</th>\n",
       "      <td>32.079847</td>\n",
       "      <td>32.058167</td>\n",
       "      <td>32.075624</td>\n",
       "      <td>32.076603</td>\n",
       "      <td>38.058095</td>\n",
       "      <td>0.021931</td>\n",
       "    </tr>\n",
       "    <tr>\n",
       "      <th>min</th>\n",
       "      <td>174.270000</td>\n",
       "      <td>175.000000</td>\n",
       "      <td>182.200000</td>\n",
       "      <td>172.150000</td>\n",
       "      <td>8.760000</td>\n",
       "      <td>-0.095700</td>\n",
       "    </tr>\n",
       "    <tr>\n",
       "      <th>25%</th>\n",
       "      <td>207.700000</td>\n",
       "      <td>207.215000</td>\n",
       "      <td>209.660000</td>\n",
       "      <td>204.475000</td>\n",
       "      <td>47.670000</td>\n",
       "      <td>-0.010100</td>\n",
       "    </tr>\n",
       "    <tr>\n",
       "      <th>50%</th>\n",
       "      <td>229.140000</td>\n",
       "      <td>229.080000</td>\n",
       "      <td>231.950000</td>\n",
       "      <td>226.860000</td>\n",
       "      <td>66.260000</td>\n",
       "      <td>0.000400</td>\n",
       "    </tr>\n",
       "    <tr>\n",
       "      <th>75%</th>\n",
       "      <td>264.380000</td>\n",
       "      <td>263.885000</td>\n",
       "      <td>267.255000</td>\n",
       "      <td>261.110000</td>\n",
       "      <td>85.120000</td>\n",
       "      <td>0.012950</td>\n",
       "    </tr>\n",
       "    <tr>\n",
       "      <th>max</th>\n",
       "      <td>293.300000</td>\n",
       "      <td>294.860000</td>\n",
       "      <td>296.070000</td>\n",
       "      <td>291.500000</td>\n",
       "      <td>263.040000</td>\n",
       "      <td>0.129000</td>\n",
       "    </tr>\n",
       "  </tbody>\n",
       "</table>\n",
       "</div>"
      ],
      "text/plain": [
       "            Price        Open        High         Low      Volume    Change %\n",
       "count  311.000000  311.000000  311.000000  311.000000  311.000000  311.000000\n",
       "mean   234.524019  234.417846  237.314759  231.366141   73.056977    0.000668\n",
       "std     32.079847   32.058167   32.075624   32.076603   38.058095    0.021931\n",
       "min    174.270000  175.000000  182.200000  172.150000    8.760000   -0.095700\n",
       "25%    207.700000  207.215000  209.660000  204.475000   47.670000   -0.010100\n",
       "50%    229.140000  229.080000  231.950000  226.860000   66.260000    0.000400\n",
       "75%    264.380000  263.885000  267.255000  261.110000   85.120000    0.012950\n",
       "max    293.300000  294.860000  296.070000  291.500000  263.040000    0.129000"
      ]
     },
     "execution_count": 12,
     "metadata": {},
     "output_type": "execute_result"
    }
   ],
   "source": [
    "df_russia.describe()"
   ]
  },
  {
   "cell_type": "code",
   "execution_count": 13,
   "id": "opponent-entity",
   "metadata": {},
   "outputs": [
    {
     "data": {
      "text/plain": [
       "Date        0\n",
       "Price       0\n",
       "Open        0\n",
       "High        0\n",
       "Low         0\n",
       "Volume      0\n",
       "Change %    0\n",
       "dtype: int64"
      ]
     },
     "execution_count": 13,
     "metadata": {},
     "output_type": "execute_result"
    }
   ],
   "source": [
    "df_russia.isnull().sum()"
   ]
  },
  {
   "cell_type": "code",
   "execution_count": 14,
   "id": "referenced-enhancement",
   "metadata": {},
   "outputs": [],
   "source": [
    "#As we can see, there is no missing values. The highest close price over the discussed time is 293.3 and the lowest value is 291.5"
   ]
  },
  {
   "cell_type": "code",
   "execution_count": 15,
   "id": "binary-explosion",
   "metadata": {},
   "outputs": [
    {
     "data": {
      "image/png": "[encoded data removed]",
      "text/plain": [
       "<Figure size 1152x432 with 1 Axes>"
      ]
     },
     "metadata": {
      "needs_background": "light"
     },
     "output_type": "display_data"
    }
   ],
   "source": [
    "plt.figure(figsize=(16,6))\n",
    "plt.grid(True)\n",
    "plt.xlabel('Date')\n",
    "plt.ylabel('Close Prices')\n",
    "plt.plot(df_russia['Date'],df_russia['Price'])\n",
    "plt.title('Russia closing price')\n",
    "plt.show()"
   ]
  },
  {
   "cell_type": "code",
   "execution_count": 16,
   "id": "pending-singapore",
   "metadata": {},
   "outputs": [
    {
     "data": {
      "text/html": [
       "<div>\n",
       "<style scoped>\n",
       "    .dataframe tbody tr th:only-of-type {\n",
       "        vertical-align: middle;\n",
       "    }\n",
       "\n",
       "    .dataframe tbody tr th {\n",
       "        vertical-align: top;\n",
       "    }\n",
       "\n",
       "    .dataframe thead th {\n",
       "        text-align: right;\n",
       "    }\n",
       "</style>\n",
       "<table border=\"1\" class=\"dataframe\">\n",
       "  <thead>\n",
       "    <tr style=\"text-align: right;\">\n",
       "      <th></th>\n",
       "      <th>Date</th>\n",
       "      <th>Price</th>\n",
       "      <th>Open</th>\n",
       "      <th>High</th>\n",
       "      <th>Low</th>\n",
       "      <th>Volume</th>\n",
       "      <th>Change %</th>\n",
       "    </tr>\n",
       "  </thead>\n",
       "  <tbody>\n",
       "    <tr>\n",
       "      <th>0</th>\n",
       "      <td>2021-03-31</td>\n",
       "      <td>291.02</td>\n",
       "      <td>294.00</td>\n",
       "      <td>294.42</td>\n",
       "      <td>290.26</td>\n",
       "      <td>47.00</td>\n",
       "      <td>-0.0076</td>\n",
       "    </tr>\n",
       "    <tr>\n",
       "      <th>1</th>\n",
       "      <td>2021-03-30</td>\n",
       "      <td>293.25</td>\n",
       "      <td>294.86</td>\n",
       "      <td>295.72</td>\n",
       "      <td>291.50</td>\n",
       "      <td>38.81</td>\n",
       "      <td>-0.0002</td>\n",
       "    </tr>\n",
       "    <tr>\n",
       "      <th>2</th>\n",
       "      <td>2021-03-29</td>\n",
       "      <td>293.30</td>\n",
       "      <td>289.72</td>\n",
       "      <td>294.09</td>\n",
       "      <td>289.26</td>\n",
       "      <td>43.68</td>\n",
       "      <td>0.0071</td>\n",
       "    </tr>\n",
       "    <tr>\n",
       "      <th>3</th>\n",
       "      <td>2021-03-26</td>\n",
       "      <td>291.22</td>\n",
       "      <td>288.63</td>\n",
       "      <td>292.75</td>\n",
       "      <td>288.32</td>\n",
       "      <td>56.07</td>\n",
       "      <td>0.0159</td>\n",
       "    </tr>\n",
       "    <tr>\n",
       "      <th>4</th>\n",
       "      <td>2021-03-25</td>\n",
       "      <td>286.66</td>\n",
       "      <td>286.50</td>\n",
       "      <td>287.03</td>\n",
       "      <td>283.85</td>\n",
       "      <td>35.22</td>\n",
       "      <td>0.0030</td>\n",
       "    </tr>\n",
       "  </tbody>\n",
       "</table>\n",
       "</div>"
      ],
      "text/plain": [
       "        Date   Price    Open    High     Low  Volume  Change %\n",
       "0 2021-03-31  291.02  294.00  294.42  290.26   47.00   -0.0076\n",
       "1 2021-03-30  293.25  294.86  295.72  291.50   38.81   -0.0002\n",
       "2 2021-03-29  293.30  289.72  294.09  289.26   43.68    0.0071\n",
       "3 2021-03-26  291.22  288.63  292.75  288.32   56.07    0.0159\n",
       "4 2021-03-25  286.66  286.50  287.03  283.85   35.22    0.0030"
      ]
     },
     "execution_count": 16,
     "metadata": {},
     "output_type": "execute_result"
    }
   ],
   "source": [
    "df_russia.head()"
   ]
  },
  {
   "cell_type": "code",
   "execution_count": 17,
   "id": "rural-convention",
   "metadata": {},
   "outputs": [
    {
     "data": {
      "image/png": "[encoded data removed]",
      "text/plain": [
       "<Figure size 720x432 with 1 Axes>"
      ]
     },
     "metadata": {
      "needs_background": "light"
     },
     "output_type": "display_data"
    }
   ],
   "source": [
    "plt.figure(figsize=(10,6))\n",
    "df_close = df_russia['Price']\n",
    "df_close.plot(style='k.',kind='hist')\n",
    "plt.title('Histogram of closing price')\n",
    "plt.show()"
   ]
  },
  {
   "cell_type": "markdown",
   "id": "prime-think",
   "metadata": {},
   "source": [
    "Testing For Stationarity:\n",
    "\n",
    "To identify the nature of the data, we will be using the null hypothesis.\n",
    "\n",
    "#Ho: It is non-stationary\n",
    "#H1: It is stationary\n",
    "If we fail to reject the null hypothesis, we can say that the series is non-stationary. This means that the series can be linear."
   ]
  },
  {
   "cell_type": "code",
   "execution_count": 18,
   "id": "deluxe-armenia",
   "metadata": {},
   "outputs": [],
   "source": [
    "df_cpy =df_russia.copy()"
   ]
  },
  {
   "cell_type": "code",
   "execution_count": 19,
   "id": "initial-guitar",
   "metadata": {},
   "outputs": [
    {
     "data": {
      "text/html": [
       "<div>\n",
       "<style scoped>\n",
       "    .dataframe tbody tr th:only-of-type {\n",
       "        vertical-align: middle;\n",
       "    }\n",
       "\n",
       "    .dataframe tbody tr th {\n",
       "        vertical-align: top;\n",
       "    }\n",
       "\n",
       "    .dataframe thead th {\n",
       "        text-align: right;\n",
       "    }\n",
       "</style>\n",
       "<table border=\"1\" class=\"dataframe\">\n",
       "  <thead>\n",
       "    <tr style=\"text-align: right;\">\n",
       "      <th></th>\n",
       "      <th>Price</th>\n",
       "      <th>Open</th>\n",
       "      <th>High</th>\n",
       "      <th>Low</th>\n",
       "      <th>Volume</th>\n",
       "      <th>Change %</th>\n",
       "    </tr>\n",
       "    <tr>\n",
       "      <th>Date</th>\n",
       "      <th></th>\n",
       "      <th></th>\n",
       "      <th></th>\n",
       "      <th></th>\n",
       "      <th></th>\n",
       "      <th></th>\n",
       "    </tr>\n",
       "  </thead>\n",
       "  <tbody>\n",
       "    <tr>\n",
       "      <th>2021-03-31</th>\n",
       "      <td>291.02</td>\n",
       "      <td>294.00</td>\n",
       "      <td>294.42</td>\n",
       "      <td>290.26</td>\n",
       "      <td>47.00</td>\n",
       "      <td>-0.0076</td>\n",
       "    </tr>\n",
       "    <tr>\n",
       "      <th>2021-03-30</th>\n",
       "      <td>293.25</td>\n",
       "      <td>294.86</td>\n",
       "      <td>295.72</td>\n",
       "      <td>291.50</td>\n",
       "      <td>38.81</td>\n",
       "      <td>-0.0002</td>\n",
       "    </tr>\n",
       "    <tr>\n",
       "      <th>2021-03-29</th>\n",
       "      <td>293.30</td>\n",
       "      <td>289.72</td>\n",
       "      <td>294.09</td>\n",
       "      <td>289.26</td>\n",
       "      <td>43.68</td>\n",
       "      <td>0.0071</td>\n",
       "    </tr>\n",
       "    <tr>\n",
       "      <th>2021-03-26</th>\n",
       "      <td>291.22</td>\n",
       "      <td>288.63</td>\n",
       "      <td>292.75</td>\n",
       "      <td>288.32</td>\n",
       "      <td>56.07</td>\n",
       "      <td>0.0159</td>\n",
       "    </tr>\n",
       "    <tr>\n",
       "      <th>2021-03-25</th>\n",
       "      <td>286.66</td>\n",
       "      <td>286.50</td>\n",
       "      <td>287.03</td>\n",
       "      <td>283.85</td>\n",
       "      <td>35.22</td>\n",
       "      <td>0.0030</td>\n",
       "    </tr>\n",
       "  </tbody>\n",
       "</table>\n",
       "</div>"
      ],
      "text/plain": [
       "             Price    Open    High     Low  Volume  Change %\n",
       "Date                                                        \n",
       "2021-03-31  291.02  294.00  294.42  290.26   47.00   -0.0076\n",
       "2021-03-30  293.25  294.86  295.72  291.50   38.81   -0.0002\n",
       "2021-03-29  293.30  289.72  294.09  289.26   43.68    0.0071\n",
       "2021-03-26  291.22  288.63  292.75  288.32   56.07    0.0159\n",
       "2021-03-25  286.66  286.50  287.03  283.85   35.22    0.0030"
      ]
     },
     "execution_count": 19,
     "metadata": {},
     "output_type": "execute_result"
    }
   ],
   "source": [
    "#drop Open, Low, High, year and month columns\n",
    "#df_russia=df_russia.drop(['Open','Low','High'],axis=1)\n",
    "df_russia.set_index(\"Date\", inplace = True)\n",
    "df_russia.head()\n"
   ]
  },
  {
   "cell_type": "code",
   "execution_count": 20,
   "id": "center-prophet",
   "metadata": {},
   "outputs": [
    {
     "name": "stdout",
     "output_type": "stream",
     "text": [
      "rolling_mean: Date\n",
      "2021-03-31           NaN\n",
      "2021-03-30           NaN\n",
      "2021-03-29           NaN\n",
      "2021-03-26           NaN\n",
      "2021-03-25           NaN\n",
      "2021-03-24           NaN\n",
      "2021-03-23    289.120000\n",
      "2021-03-22    288.781429\n",
      "2021-03-19    287.670000\n",
      "Name: Price, dtype: float64 \n",
      "\n",
      "rolling_std: Date\n",
      "2021-03-31         NaN\n",
      "2021-03-30         NaN\n",
      "2021-03-29         NaN\n",
      "2021-03-26         NaN\n",
      "2021-03-25         NaN\n",
      "2021-03-24         NaN\n",
      "2021-03-23    4.127150\n",
      "2021-03-22    4.041631\n",
      "2021-03-19    3.659672\n",
      "Name: Price, dtype: float64\n"
     ]
    },
    {
     "data": {
      "image/png": "[encoded data removed]",
      "text/plain": [
       "<Figure size 1080x504 with 1 Axes>"
      ]
     },
     "metadata": {
      "needs_background": "light"
     },
     "output_type": "display_data"
    },
    {
     "name": "stdout",
     "output_type": "stream",
     "text": [
      "Results of dickey fuller test\n",
      "Test Statistics                 -1.847182\n",
      "p-value                          0.357301\n",
      "No. of lags used                 8.000000\n",
      "Number of observations used    302.000000\n",
      "critical value (1%)             -3.452190\n",
      "critical value (5%)             -2.871158\n",
      "critical value (10%)            -2.571895\n",
      "dtype: float64\n"
     ]
    }
   ],
   "source": [
    "def test_stationarity(timeseries):\n",
    "    #Determing rolling statistics\n",
    "    rolmean = timeseries.rolling(7).mean()\n",
    "    rolstd = timeseries.rolling(7).std()\n",
    "    print('rolling_mean:', rolmean.head(9),'\\n')\n",
    "    print('rolling_std:', rolstd.head(9))\n",
    "    #Plot rolling statistics:\n",
    "    plt.figure(figsize=(15,7))\n",
    "    plt.plot(timeseries, color='blue',label='Original')\n",
    "    plt.plot(rolmean, color='red', label='Rolling Mean')\n",
    "    plt.plot(rolstd, color='black', label = 'Rolling Std')\n",
    "    plt.legend(loc='best')\n",
    "    plt.title('Rolling Mean and Standard Deviation')\n",
    "    plt.show(block=False)\n",
    "    print(\"Results of dickey fuller test\")\n",
    "    adft = adfuller(timeseries,autolag='AIC')\n",
    "    # output for dft will give us without defining what the values are.\n",
    "    #hence we manually write what values does it explains using a for loop\n",
    "    output = pd.Series(adft[0:4],index=['Test Statistics','p-value','No. of lags used','Number of observations used'])\n",
    "    for key,values in adft[4].items():\n",
    "        output['critical value (%s)'%key] =  values\n",
    "    print(output)\n",
    "\n",
    "test_stationarity(df_russia['Price'])\n"
   ]
  },
  {
   "cell_type": "code",
   "execution_count": 21,
   "id": "sized-butterfly",
   "metadata": {},
   "outputs": [],
   "source": [
    "#We see that the p-value is greater than 0.05 so we cannot reject the null hypothesis - that the time series is non-stationary and does have time-dependent structure. Also, the test statistics is greater than the critical values. so the data is non-stationary and does have time-dependent structure."
   ]
  },
  {
   "cell_type": "code",
   "execution_count": 22,
   "id": "successful-excerpt",
   "metadata": {},
   "outputs": [],
   "source": [
    "#From non stationary to stationary series\n",
    "#One method for transforming the simplest non-stationary data is differencing. \n",
    "#This process involves taking the differences of consecutive observations.\n",
    "#For simple distributions, taking the first-order difference."
   ]
  },
  {
   "cell_type": "code",
   "execution_count": 23,
   "id": "smooth-breach",
   "metadata": {},
   "outputs": [
    {
     "data": {
      "text/html": [
       "<div>\n",
       "<style scoped>\n",
       "    .dataframe tbody tr th:only-of-type {\n",
       "        vertical-align: middle;\n",
       "    }\n",
       "\n",
       "    .dataframe tbody tr th {\n",
       "        vertical-align: top;\n",
       "    }\n",
       "\n",
       "    .dataframe thead th {\n",
       "        text-align: right;\n",
       "    }\n",
       "</style>\n",
       "<table border=\"1\" class=\"dataframe\">\n",
       "  <thead>\n",
       "    <tr style=\"text-align: right;\">\n",
       "      <th></th>\n",
       "      <th>Price</th>\n",
       "      <th>Open</th>\n",
       "      <th>High</th>\n",
       "      <th>Low</th>\n",
       "      <th>Volume</th>\n",
       "      <th>Change %</th>\n",
       "      <th>diff_1</th>\n",
       "    </tr>\n",
       "    <tr>\n",
       "      <th>Date</th>\n",
       "      <th></th>\n",
       "      <th></th>\n",
       "      <th></th>\n",
       "      <th></th>\n",
       "      <th></th>\n",
       "      <th></th>\n",
       "      <th></th>\n",
       "    </tr>\n",
       "  </thead>\n",
       "  <tbody>\n",
       "    <tr>\n",
       "      <th>2021-03-31</th>\n",
       "      <td>291.02</td>\n",
       "      <td>294.00</td>\n",
       "      <td>294.42</td>\n",
       "      <td>290.26</td>\n",
       "      <td>47.00</td>\n",
       "      <td>-0.0076</td>\n",
       "      <td>NaN</td>\n",
       "    </tr>\n",
       "    <tr>\n",
       "      <th>2021-03-30</th>\n",
       "      <td>293.25</td>\n",
       "      <td>294.86</td>\n",
       "      <td>295.72</td>\n",
       "      <td>291.50</td>\n",
       "      <td>38.81</td>\n",
       "      <td>-0.0002</td>\n",
       "      <td>2.23</td>\n",
       "    </tr>\n",
       "    <tr>\n",
       "      <th>2021-03-29</th>\n",
       "      <td>293.30</td>\n",
       "      <td>289.72</td>\n",
       "      <td>294.09</td>\n",
       "      <td>289.26</td>\n",
       "      <td>43.68</td>\n",
       "      <td>0.0071</td>\n",
       "      <td>0.05</td>\n",
       "    </tr>\n",
       "    <tr>\n",
       "      <th>2021-03-26</th>\n",
       "      <td>291.22</td>\n",
       "      <td>288.63</td>\n",
       "      <td>292.75</td>\n",
       "      <td>288.32</td>\n",
       "      <td>56.07</td>\n",
       "      <td>0.0159</td>\n",
       "      <td>-2.08</td>\n",
       "    </tr>\n",
       "    <tr>\n",
       "      <th>2021-03-25</th>\n",
       "      <td>286.66</td>\n",
       "      <td>286.50</td>\n",
       "      <td>287.03</td>\n",
       "      <td>283.85</td>\n",
       "      <td>35.22</td>\n",
       "      <td>0.0030</td>\n",
       "      <td>-4.56</td>\n",
       "    </tr>\n",
       "  </tbody>\n",
       "</table>\n",
       "</div>"
      ],
      "text/plain": [
       "             Price    Open    High     Low  Volume  Change %  diff_1\n",
       "Date                                                                \n",
       "2021-03-31  291.02  294.00  294.42  290.26   47.00   -0.0076     NaN\n",
       "2021-03-30  293.25  294.86  295.72  291.50   38.81   -0.0002    2.23\n",
       "2021-03-29  293.30  289.72  294.09  289.26   43.68    0.0071    0.05\n",
       "2021-03-26  291.22  288.63  292.75  288.32   56.07    0.0159   -2.08\n",
       "2021-03-25  286.66  286.50  287.03  283.85   35.22    0.0030   -4.56"
      ]
     },
     "execution_count": 23,
     "metadata": {},
     "output_type": "execute_result"
    }
   ],
   "source": [
    "df_russia[\"diff_1\"] = df_russia.Price.diff(periods=1)\n",
    "df_russia.head()"
   ]
  },
  {
   "cell_type": "code",
   "execution_count": 24,
   "id": "detailed-tongue",
   "metadata": {},
   "outputs": [
    {
     "name": "stdout",
     "output_type": "stream",
     "text": [
      "The new p-value is: 4.3951775754216564e-07\n"
     ]
    }
   ],
   "source": [
    "results = adfuller(df_russia[\"diff_1\"].dropna())\n",
    "print('The new p-value is:',results[1])"
   ]
  },
  {
   "cell_type": "code",
   "execution_count": 25,
   "id": "saved-judge",
   "metadata": {},
   "outputs": [
    {
     "data": {
      "text/plain": [
       "<AxesSubplot:title={'center':'The distribution of the new series'}, xlabel='Date'>"
      ]
     },
     "execution_count": 25,
     "metadata": {},
     "output_type": "execute_result"
    },
    {
     "data": {
      "image/png": "[encoded data removed]",
      "text/plain": [
       "<Figure size 1152x432 with 1 Axes>"
      ]
     },
     "metadata": {
      "needs_background": "light"
     },
     "output_type": "display_data"
    }
   ],
   "source": [
    "#plot the new series\n",
    "plt.figure(figsize=(16,6))\n",
    "plt.title(\"The distribution of the new series\")\n",
    "df_russia['diff_1'].plot()\n"
   ]
  },
  {
   "cell_type": "code",
   "execution_count": 26,
   "id": "attended-cause",
   "metadata": {},
   "outputs": [
    {
     "data": {
      "image/png": "[encoded data removed]",
      "text/plain": [
       "<Figure size 1080x504 with 1 Axes>"
      ]
     },
     "metadata": {
      "needs_background": "light"
     },
     "output_type": "display_data"
    }
   ],
   "source": [
    "#plot rolling statistics\n",
    "plt.figure(figsize=(15,7))\n",
    "orig=plt.plot(df_russia.diff_1, color='blue',label='Price')\n",
    "R_mean=plt.plot(df_russia.diff_1.rolling(7).mean(), color='red',label='rolling_mean')\n",
    "R_std=plt.plot(df_russia.diff_1.rolling(7).std(), color='black',label='rolling_std')\n",
    "plt.legend(loc='best')\n",
    "plt.title('Rolling mean & standard deviation for the new series')\n",
    "plt.show(block='False')\n",
    "\n"
   ]
  },
  {
   "cell_type": "code",
   "execution_count": 27,
   "id": "stone-muscle",
   "metadata": {},
   "outputs": [
    {
     "data": {
      "image/png": "[encoded data removed]",
      "text/plain": [
       "<Figure size 1080x504 with 3 Axes>"
      ]
     },
     "metadata": {
      "needs_background": "light"
     },
     "output_type": "display_data"
    }
   ],
   "source": [
    "# Original Series\n",
    "fig, axes = plt.subplots(1, 3, sharex=True,figsize=(15, 7))\n",
    "axes[0].plot(df_russia.Price)\n",
    "axes[0].set_title('Original Series')\n",
    "#plot_acf(df1_russia.Price, ax=axes[0, 1])\n",
    "\n",
    "# 1st Differencing\n",
    "axes[1].plot(df_russia.Price.diff())\n",
    "axes[1].set_title('1st Order Differencing')\n",
    "#plot_acf(df1_russia.Price.diff().dropna(), ax=axes[1, 1])\n",
    "\n",
    "# 2nd Differencing\n",
    "axes[2].plot(df_russia.Price.diff().diff())\n",
    "axes[2].set_title('2nd Order Differencing')\n",
    "#plot_acf(df1_russia.Price.diff().diff().dropna(), ax=axes[2, 1])\n",
    "\n",
    "plt.show()"
   ]
  },
  {
   "cell_type": "code",
   "execution_count": 28,
   "id": "female-execution",
   "metadata": {},
   "outputs": [
    {
     "data": {
      "image/png": "[encoded data removed]",
      "text/plain": [
       "<Figure size 1080x504 with 3 Axes>"
      ]
     },
     "metadata": {
      "needs_background": "light"
     },
     "output_type": "display_data"
    }
   ],
   "source": [
    "#Plot autocorrelation\n",
    "# Original Series\n",
    "fig, axes = plt.subplots(1, 3, sharex=True,figsize=(15, 7))\n",
    "plot_acf(df_russia.Price, ax=axes[0])\n",
    "axes[0].set_title('AC for Original Series')\n",
    "\n",
    "# 1st Differencing\n",
    "plot_acf(df_russia.Price.diff().dropna(), ax=axes[1])\n",
    "axes[1].set_title('AC 1st Order Differencing')\n",
    "\n",
    "# 2nd Differencing\n",
    "plot_acf(df_russia.Price.diff().diff().dropna(), ax=axes[2])\n",
    "axes[2].set_title('AC 2nd Order Differencing')\n",
    "\n",
    "plt.show()"
   ]
  },
  {
   "cell_type": "code",
   "execution_count": 29,
   "id": "atomic-eating",
   "metadata": {},
   "outputs": [],
   "source": [
    "#d=1 ?\n",
    "#How do we know if there is seasonality?\n",
    "#how do we decide p,q?"
   ]
  },
  {
   "cell_type": "code",
   "execution_count": 30,
   "id": "functional-birmingham",
   "metadata": {
    "scrolled": true
   },
   "outputs": [
    {
     "name": "stderr",
     "output_type": "stream",
     "text": [
      "/Library/Frameworks/Python.framework/Versions/3.8/lib/python3.8/site-packages/statsmodels/graphics/tsaplots.py:348: FutureWarning: The default method 'yw' can produce PACF values outside of the [-1,1] interval. After 0.13, the default will change tounadjusted Yule-Walker ('ywm'). You can use this method now by setting method='ywm'.\n",
      "  warnings.warn(\n",
      "/Library/Frameworks/Python.framework/Versions/3.8/lib/python3.8/site-packages/statsmodels/graphics/tsaplots.py:348: FutureWarning: The default method 'yw' can produce PACF values outside of the [-1,1] interval. After 0.13, the default will change tounadjusted Yule-Walker ('ywm'). You can use this method now by setting method='ywm'.\n",
      "  warnings.warn(\n"
     ]
    },
    {
     "data": {
      "image/png": "[encoded data removed]",
      "text/plain": [
       "<Figure size 1080x504 with 2 Axes>"
      ]
     },
     "metadata": {
      "needs_background": "light"
     },
     "output_type": "display_data"
    }
   ],
   "source": [
    "#Plot partial autocorrelation\n",
    "fig, axes = plt.subplots(1, 2, sharex=True,figsize=(15, 7))\n",
    "# 1st Differencing\n",
    "plot_pacf(df_russia.Price.diff().dropna(), ax=axes[0])\n",
    "axes[0].set_title('PAC for 1st Order Differencing')\n",
    "\n",
    "# 2nd Differencing\n",
    "plot_pacf(df_russia.Price.diff().diff().dropna(), ax=axes[1])\n",
    "axes[1].set_title('PAC for 2nd Order Differencing')\n",
    "\n",
    "plt.show()"
   ]
  },
  {
   "cell_type": "code",
   "execution_count": 31,
   "id": "crazy-hepatitis",
   "metadata": {},
   "outputs": [],
   "source": [
    "#split the data\n",
    "train_rus = df_russia[df_russia.index < pd.to_datetime('2021-01-01', format=\"%Y-%m-%d\")]\n",
    "train_rus = train_rus.dropna()\n",
    "test_rus = df_russia[df_russia.index >= pd.to_datetime('2021-01-01', format=\"%Y-%m-%d\")]\n",
    "test_rus = test_rus.dropna()"
   ]
  },
  {
   "cell_type": "code",
   "execution_count": 32,
   "id": "dramatic-constitutional",
   "metadata": {},
   "outputs": [
    {
     "data": {
      "text/html": [
       "<div>\n",
       "<style scoped>\n",
       "    .dataframe tbody tr th:only-of-type {\n",
       "        vertical-align: middle;\n",
       "    }\n",
       "\n",
       "    .dataframe tbody tr th {\n",
       "        vertical-align: top;\n",
       "    }\n",
       "\n",
       "    .dataframe thead th {\n",
       "        text-align: right;\n",
       "    }\n",
       "</style>\n",
       "<table border=\"1\" class=\"dataframe\">\n",
       "  <thead>\n",
       "    <tr style=\"text-align: right;\">\n",
       "      <th></th>\n",
       "      <th>Price</th>\n",
       "      <th>Open</th>\n",
       "      <th>High</th>\n",
       "      <th>Low</th>\n",
       "      <th>Volume</th>\n",
       "      <th>Change %</th>\n",
       "      <th>diff_1</th>\n",
       "    </tr>\n",
       "    <tr>\n",
       "      <th>Date</th>\n",
       "      <th></th>\n",
       "      <th></th>\n",
       "      <th></th>\n",
       "      <th></th>\n",
       "      <th></th>\n",
       "      <th></th>\n",
       "      <th></th>\n",
       "    </tr>\n",
       "  </thead>\n",
       "  <tbody>\n",
       "    <tr>\n",
       "      <th>2020-12-30</th>\n",
       "      <td>271.65</td>\n",
       "      <td>272.49</td>\n",
       "      <td>274.24</td>\n",
       "      <td>270.12</td>\n",
       "      <td>31.53</td>\n",
       "      <td>-0.0013</td>\n",
       "      <td>-0.35</td>\n",
       "    </tr>\n",
       "    <tr>\n",
       "      <th>2020-12-29</th>\n",
       "      <td>272.00</td>\n",
       "      <td>275.91</td>\n",
       "      <td>276.43</td>\n",
       "      <td>271.26</td>\n",
       "      <td>39.02</td>\n",
       "      <td>-0.0098</td>\n",
       "      <td>0.35</td>\n",
       "    </tr>\n",
       "    <tr>\n",
       "      <th>2020-12-28</th>\n",
       "      <td>274.70</td>\n",
       "      <td>270.90</td>\n",
       "      <td>275.19</td>\n",
       "      <td>269.73</td>\n",
       "      <td>39.04</td>\n",
       "      <td>0.0150</td>\n",
       "      <td>2.70</td>\n",
       "    </tr>\n",
       "    <tr>\n",
       "      <th>2020-12-25</th>\n",
       "      <td>270.64</td>\n",
       "      <td>269.97</td>\n",
       "      <td>271.00</td>\n",
       "      <td>268.28</td>\n",
       "      <td>11.99</td>\n",
       "      <td>0.0049</td>\n",
       "      <td>-4.06</td>\n",
       "    </tr>\n",
       "    <tr>\n",
       "      <th>2020-12-24</th>\n",
       "      <td>269.32</td>\n",
       "      <td>271.98</td>\n",
       "      <td>272.82</td>\n",
       "      <td>267.13</td>\n",
       "      <td>42.61</td>\n",
       "      <td>-0.0029</td>\n",
       "      <td>-1.32</td>\n",
       "    </tr>\n",
       "  </tbody>\n",
       "</table>\n",
       "</div>"
      ],
      "text/plain": [
       "             Price    Open    High     Low  Volume  Change %  diff_1\n",
       "Date                                                                \n",
       "2020-12-30  271.65  272.49  274.24  270.12   31.53   -0.0013   -0.35\n",
       "2020-12-29  272.00  275.91  276.43  271.26   39.02   -0.0098    0.35\n",
       "2020-12-28  274.70  270.90  275.19  269.73   39.04    0.0150    2.70\n",
       "2020-12-25  270.64  269.97  271.00  268.28   11.99    0.0049   -4.06\n",
       "2020-12-24  269.32  271.98  272.82  267.13   42.61   -0.0029   -1.32"
      ]
     },
     "execution_count": 32,
     "metadata": {},
     "output_type": "execute_result"
    }
   ],
   "source": [
    "train_rus.head()"
   ]
  },
  {
   "cell_type": "code",
   "execution_count": 33,
   "id": "successful-guidance",
   "metadata": {},
   "outputs": [
    {
     "data": {
      "text/html": [
       "<div>\n",
       "<style scoped>\n",
       "    .dataframe tbody tr th:only-of-type {\n",
       "        vertical-align: middle;\n",
       "    }\n",
       "\n",
       "    .dataframe tbody tr th {\n",
       "        vertical-align: top;\n",
       "    }\n",
       "\n",
       "    .dataframe thead th {\n",
       "        text-align: right;\n",
       "    }\n",
       "</style>\n",
       "<table border=\"1\" class=\"dataframe\">\n",
       "  <thead>\n",
       "    <tr style=\"text-align: right;\">\n",
       "      <th></th>\n",
       "      <th>Price</th>\n",
       "      <th>Open</th>\n",
       "      <th>High</th>\n",
       "      <th>Low</th>\n",
       "      <th>Volume</th>\n",
       "      <th>Change %</th>\n",
       "      <th>diff_1</th>\n",
       "    </tr>\n",
       "    <tr>\n",
       "      <th>Date</th>\n",
       "      <th></th>\n",
       "      <th></th>\n",
       "      <th></th>\n",
       "      <th></th>\n",
       "      <th></th>\n",
       "      <th></th>\n",
       "      <th></th>\n",
       "    </tr>\n",
       "  </thead>\n",
       "  <tbody>\n",
       "    <tr>\n",
       "      <th>2021-03-30</th>\n",
       "      <td>293.25</td>\n",
       "      <td>294.86</td>\n",
       "      <td>295.72</td>\n",
       "      <td>291.50</td>\n",
       "      <td>38.81</td>\n",
       "      <td>-0.0002</td>\n",
       "      <td>2.23</td>\n",
       "    </tr>\n",
       "    <tr>\n",
       "      <th>2021-03-29</th>\n",
       "      <td>293.30</td>\n",
       "      <td>289.72</td>\n",
       "      <td>294.09</td>\n",
       "      <td>289.26</td>\n",
       "      <td>43.68</td>\n",
       "      <td>0.0071</td>\n",
       "      <td>0.05</td>\n",
       "    </tr>\n",
       "    <tr>\n",
       "      <th>2021-03-26</th>\n",
       "      <td>291.22</td>\n",
       "      <td>288.63</td>\n",
       "      <td>292.75</td>\n",
       "      <td>288.32</td>\n",
       "      <td>56.07</td>\n",
       "      <td>0.0159</td>\n",
       "      <td>-2.08</td>\n",
       "    </tr>\n",
       "    <tr>\n",
       "      <th>2021-03-25</th>\n",
       "      <td>286.66</td>\n",
       "      <td>286.50</td>\n",
       "      <td>287.03</td>\n",
       "      <td>283.85</td>\n",
       "      <td>35.22</td>\n",
       "      <td>0.0030</td>\n",
       "      <td>-4.56</td>\n",
       "    </tr>\n",
       "    <tr>\n",
       "      <th>2021-03-24</th>\n",
       "      <td>285.79</td>\n",
       "      <td>283.40</td>\n",
       "      <td>288.00</td>\n",
       "      <td>282.25</td>\n",
       "      <td>46.41</td>\n",
       "      <td>0.0113</td>\n",
       "      <td>-0.87</td>\n",
       "    </tr>\n",
       "  </tbody>\n",
       "</table>\n",
       "</div>"
      ],
      "text/plain": [
       "             Price    Open    High     Low  Volume  Change %  diff_1\n",
       "Date                                                                \n",
       "2021-03-30  293.25  294.86  295.72  291.50   38.81   -0.0002    2.23\n",
       "2021-03-29  293.30  289.72  294.09  289.26   43.68    0.0071    0.05\n",
       "2021-03-26  291.22  288.63  292.75  288.32   56.07    0.0159   -2.08\n",
       "2021-03-25  286.66  286.50  287.03  283.85   35.22    0.0030   -4.56\n",
       "2021-03-24  285.79  283.40  288.00  282.25   46.41    0.0113   -0.87"
      ]
     },
     "execution_count": 33,
     "metadata": {},
     "output_type": "execute_result"
    }
   ],
   "source": [
    "test_rus.head()"
   ]
  },
  {
   "cell_type": "code",
   "execution_count": 34,
   "id": "canadian-characteristic",
   "metadata": {},
   "outputs": [
    {
     "data": {
      "text/plain": [
       "<matplotlib.legend.Legend at 0x127e54c10>"
      ]
     },
     "execution_count": 34,
     "metadata": {},
     "output_type": "execute_result"
    },
    {
     "data": {
      "image/png": "[encoded data removed]",
      "text/plain": [
       "<Figure size 720x432 with 1 Axes>"
      ]
     },
     "metadata": {
      "needs_background": "light"
     },
     "output_type": "display_data"
    }
   ],
   "source": [
    "#plot the distribution of train and test\n",
    "plt.figure(figsize=(10,6))\n",
    "plt.grid(True)\n",
    "plt.xlabel('Dates')\n",
    "plt.ylabel('Closing Prices')\n",
    "plt.plot(train_rus.Price, 'green', label='Train data')\n",
    "plt.plot(test_rus.Price, 'blue', label='Test data')\n",
    "plt.title('Distribution of train and test datasets')\n",
    "plt.legend()"
   ]
  },
  {
   "cell_type": "code",
   "execution_count": 35,
   "id": "south-discovery",
   "metadata": {},
   "outputs": [],
   "source": [
    "arima_model = pm.auto_arima(train_rus['Price'], start_p=1, start_q=1, test='adf', max_p=6, max_q=6, \n",
    "                      m=1, d=None, seasonal=False, start_P=0, D=1, trace=False, error_action='ignore',  \n",
    "                      suppress_warnings=True, stepwise=False)"
   ]
  },
  {
   "cell_type": "code",
   "execution_count": 36,
   "id": "straight-powder",
   "metadata": {},
   "outputs": [
    {
     "name": "stderr",
     "output_type": "stream",
     "text": [
      "/Library/Frameworks/Python.framework/Versions/3.8/lib/python3.8/site-packages/statsmodels/tsa/base/tsa_model.py:834: ValueWarning: No supported index is available. Prediction results will be given with an integer index beginning at `start`.\n",
      "  return get_prediction_index(\n"
     ]
    }
   ],
   "source": [
    "y_pred = arima_model.predict(len(test_rus['Price']))"
   ]
  },
  {
   "cell_type": "code",
   "execution_count": 37,
   "id": "second-logic",
   "metadata": {},
   "outputs": [],
   "source": [
    "test_rus['Pred'] = y_pred.values"
   ]
  },
  {
   "cell_type": "code",
   "execution_count": 38,
   "id": "straight-diploma",
   "metadata": {},
   "outputs": [
    {
     "data": {
      "text/html": [
       "<div>\n",
       "<style scoped>\n",
       "    .dataframe tbody tr th:only-of-type {\n",
       "        vertical-align: middle;\n",
       "    }\n",
       "\n",
       "    .dataframe tbody tr th {\n",
       "        vertical-align: top;\n",
       "    }\n",
       "\n",
       "    .dataframe thead th {\n",
       "        text-align: right;\n",
       "    }\n",
       "</style>\n",
       "<table border=\"1\" class=\"dataframe\">\n",
       "  <thead>\n",
       "    <tr style=\"text-align: right;\">\n",
       "      <th></th>\n",
       "      <th>Price</th>\n",
       "      <th>Open</th>\n",
       "      <th>High</th>\n",
       "      <th>Low</th>\n",
       "      <th>Volume</th>\n",
       "      <th>Change %</th>\n",
       "      <th>diff_1</th>\n",
       "      <th>Pred</th>\n",
       "    </tr>\n",
       "    <tr>\n",
       "      <th>Date</th>\n",
       "      <th></th>\n",
       "      <th></th>\n",
       "      <th></th>\n",
       "      <th></th>\n",
       "      <th></th>\n",
       "      <th></th>\n",
       "      <th></th>\n",
       "      <th></th>\n",
       "    </tr>\n",
       "  </thead>\n",
       "  <tbody>\n",
       "    <tr>\n",
       "      <th>2021-03-30</th>\n",
       "      <td>293.25</td>\n",
       "      <td>294.86</td>\n",
       "      <td>295.72</td>\n",
       "      <td>291.50</td>\n",
       "      <td>38.81</td>\n",
       "      <td>-0.0002</td>\n",
       "      <td>2.23</td>\n",
       "      <td>255.859002</td>\n",
       "    </tr>\n",
       "    <tr>\n",
       "      <th>2021-03-29</th>\n",
       "      <td>293.30</td>\n",
       "      <td>289.72</td>\n",
       "      <td>294.09</td>\n",
       "      <td>289.26</td>\n",
       "      <td>43.68</td>\n",
       "      <td>0.0071</td>\n",
       "      <td>0.05</td>\n",
       "      <td>255.786833</td>\n",
       "    </tr>\n",
       "    <tr>\n",
       "      <th>2021-03-26</th>\n",
       "      <td>291.22</td>\n",
       "      <td>288.63</td>\n",
       "      <td>292.75</td>\n",
       "      <td>288.32</td>\n",
       "      <td>56.07</td>\n",
       "      <td>0.0159</td>\n",
       "      <td>-2.08</td>\n",
       "      <td>254.947738</td>\n",
       "    </tr>\n",
       "    <tr>\n",
       "      <th>2021-03-25</th>\n",
       "      <td>286.66</td>\n",
       "      <td>286.50</td>\n",
       "      <td>287.03</td>\n",
       "      <td>283.85</td>\n",
       "      <td>35.22</td>\n",
       "      <td>0.0030</td>\n",
       "      <td>-4.56</td>\n",
       "      <td>255.777813</td>\n",
       "    </tr>\n",
       "    <tr>\n",
       "      <th>2021-03-24</th>\n",
       "      <td>285.79</td>\n",
       "      <td>283.40</td>\n",
       "      <td>288.00</td>\n",
       "      <td>282.25</td>\n",
       "      <td>46.41</td>\n",
       "      <td>0.0113</td>\n",
       "      <td>-0.87</td>\n",
       "      <td>255.194846</td>\n",
       "    </tr>\n",
       "  </tbody>\n",
       "</table>\n",
       "</div>"
      ],
      "text/plain": [
       "             Price    Open    High     Low  Volume  Change %  diff_1  \\\n",
       "Date                                                                   \n",
       "2021-03-30  293.25  294.86  295.72  291.50   38.81   -0.0002    2.23   \n",
       "2021-03-29  293.30  289.72  294.09  289.26   43.68    0.0071    0.05   \n",
       "2021-03-26  291.22  288.63  292.75  288.32   56.07    0.0159   -2.08   \n",
       "2021-03-25  286.66  286.50  287.03  283.85   35.22    0.0030   -4.56   \n",
       "2021-03-24  285.79  283.40  288.00  282.25   46.41    0.0113   -0.87   \n",
       "\n",
       "                  Pred  \n",
       "Date                    \n",
       "2021-03-30  255.859002  \n",
       "2021-03-29  255.786833  \n",
       "2021-03-26  254.947738  \n",
       "2021-03-25  255.777813  \n",
       "2021-03-24  255.194846  "
      ]
     },
     "execution_count": 38,
     "metadata": {},
     "output_type": "execute_result"
    }
   ],
   "source": [
    "test_rus.head()"
   ]
  },
  {
   "cell_type": "code",
   "execution_count": 39,
   "id": "improving-greeting",
   "metadata": {},
   "outputs": [],
   "source": [
    "def actual_prediction_plot(actual, prediction):\n",
    "    \"\"\"\n",
    "    param actual: is the real test price data.\n",
    "    param prediction: the model prediction by using the actual test data.\n",
    "    param data_name: used to naming the title figures.\n",
    "    param model_name: to add the model with it's score to a dict\n",
    "    This function will return Actual  VS. Predicted Price plot.\n",
    "    \"\"\"\n",
    "    plt.figure(figsize=(16, 5))\n",
    "    plt.plot(actual, label='Actual', linewidth=1.5)\n",
    "    plt.plot(prediction, label='Predictions', linewidth=1.5)\n",
    "    plt.title('Actual  VS. Predicted Price', fontsize=20)\n",
    "    plt.legend();"
   ]
  },
  {
   "cell_type": "code",
   "execution_count": 40,
   "id": "charitable-relaxation",
   "metadata": {},
   "outputs": [
    {
     "data": {
      "image/png": "[encoded data removed]",
      "text/plain": [
       "<Figure size 1152x360 with 1 Axes>"
      ]
     },
     "metadata": {
      "needs_background": "light"
     },
     "output_type": "display_data"
    }
   ],
   "source": [
    "actual_prediction_plot(test_rus['Price'], test_rus['Pred'])"
   ]
  },
  {
   "cell_type": "code",
   "execution_count": 41,
   "id": "unknown-senegal",
   "metadata": {},
   "outputs": [
    {
     "name": "stdout",
     "output_type": "stream",
     "text": [
      "MSE: 597.5640545960573\n",
      "MAE: 22.906011245812874\n",
      "RMSE: 24.445123329532567\n",
      "MAPE: 0.08192924635041844\n"
     ]
    }
   ],
   "source": [
    "mse = mean_squared_error(test_rus['Price'], test_rus['Pred'])\n",
    "print('MSE: '+str(mse))\n",
    "mae = mean_absolute_error(test_rus['Price'], test_rus['Pred'])\n",
    "print('MAE: '+str(mae))\n",
    "rmse = math.sqrt(mean_squared_error(test_rus['Price'], test_rus['Pred']))\n",
    "print('RMSE: '+str(rmse))\n",
    "mape = np.mean(np.abs(test_rus['Pred'] - test_rus['Price'])/np.abs(test_rus['Price']))\n",
    "print('MAPE: '+str(mape))"
   ]
  },
  {
   "cell_type": "code",
   "execution_count": null,
   "id": "twelve-office",
   "metadata": {},
   "outputs": [],
   "source": [
    "#arimax\n"
   ]
  },
  {
   "cell_type": "code",
   "execution_count": 67,
   "id": "premium-prompt",
   "metadata": {},
   "outputs": [
    {
     "data": {
      "text/html": [
       "<div>\n",
       "<style scoped>\n",
       "    .dataframe tbody tr th:only-of-type {\n",
       "        vertical-align: middle;\n",
       "    }\n",
       "\n",
       "    .dataframe tbody tr th {\n",
       "        vertical-align: top;\n",
       "    }\n",
       "\n",
       "    .dataframe thead th {\n",
       "        text-align: right;\n",
       "    }\n",
       "</style>\n",
       "<table border=\"1\" class=\"dataframe\">\n",
       "  <thead>\n",
       "    <tr style=\"text-align: right;\">\n",
       "      <th></th>\n",
       "      <th>Price</th>\n",
       "      <th>Open</th>\n",
       "      <th>High</th>\n",
       "      <th>Low</th>\n",
       "      <th>Volume</th>\n",
       "      <th>Change %</th>\n",
       "      <th>diff_1</th>\n",
       "    </tr>\n",
       "    <tr>\n",
       "      <th>Date</th>\n",
       "      <th></th>\n",
       "      <th></th>\n",
       "      <th></th>\n",
       "      <th></th>\n",
       "      <th></th>\n",
       "      <th></th>\n",
       "      <th></th>\n",
       "    </tr>\n",
       "  </thead>\n",
       "  <tbody>\n",
       "    <tr>\n",
       "      <th>2021-03-31</th>\n",
       "      <td>291.02</td>\n",
       "      <td>294.00</td>\n",
       "      <td>294.42</td>\n",
       "      <td>290.26</td>\n",
       "      <td>47.00</td>\n",
       "      <td>-0.0076</td>\n",
       "      <td>NaN</td>\n",
       "    </tr>\n",
       "    <tr>\n",
       "      <th>2021-03-30</th>\n",
       "      <td>293.25</td>\n",
       "      <td>294.86</td>\n",
       "      <td>295.72</td>\n",
       "      <td>291.50</td>\n",
       "      <td>38.81</td>\n",
       "      <td>-0.0002</td>\n",
       "      <td>2.23</td>\n",
       "    </tr>\n",
       "    <tr>\n",
       "      <th>2021-03-29</th>\n",
       "      <td>293.30</td>\n",
       "      <td>289.72</td>\n",
       "      <td>294.09</td>\n",
       "      <td>289.26</td>\n",
       "      <td>43.68</td>\n",
       "      <td>0.0071</td>\n",
       "      <td>0.05</td>\n",
       "    </tr>\n",
       "    <tr>\n",
       "      <th>2021-03-26</th>\n",
       "      <td>291.22</td>\n",
       "      <td>288.63</td>\n",
       "      <td>292.75</td>\n",
       "      <td>288.32</td>\n",
       "      <td>56.07</td>\n",
       "      <td>0.0159</td>\n",
       "      <td>-2.08</td>\n",
       "    </tr>\n",
       "    <tr>\n",
       "      <th>2021-03-25</th>\n",
       "      <td>286.66</td>\n",
       "      <td>286.50</td>\n",
       "      <td>287.03</td>\n",
       "      <td>283.85</td>\n",
       "      <td>35.22</td>\n",
       "      <td>0.0030</td>\n",
       "      <td>-4.56</td>\n",
       "    </tr>\n",
       "  </tbody>\n",
       "</table>\n",
       "</div>"
      ],
      "text/plain": [
       "             Price    Open    High     Low  Volume  Change %  diff_1\n",
       "Date                                                                \n",
       "2021-03-31  291.02  294.00  294.42  290.26   47.00   -0.0076     NaN\n",
       "2021-03-30  293.25  294.86  295.72  291.50   38.81   -0.0002    2.23\n",
       "2021-03-29  293.30  289.72  294.09  289.26   43.68    0.0071    0.05\n",
       "2021-03-26  291.22  288.63  292.75  288.32   56.07    0.0159   -2.08\n",
       "2021-03-25  286.66  286.50  287.03  283.85   35.22    0.0030   -4.56"
      ]
     },
     "execution_count": 67,
     "metadata": {},
     "output_type": "execute_result"
    }
   ],
   "source": [
    "df1_russia=df_russia.copy()\n",
    "df1_russia.head()"
   ]
  },
  {
   "cell_type": "code",
   "execution_count": 68,
   "id": "continuing-journalism",
   "metadata": {
    "scrolled": true
   },
   "outputs": [
    {
     "data": {
      "text/html": [
       "<div>\n",
       "<style scoped>\n",
       "    .dataframe tbody tr th:only-of-type {\n",
       "        vertical-align: middle;\n",
       "    }\n",
       "\n",
       "    .dataframe tbody tr th {\n",
       "        vertical-align: top;\n",
       "    }\n",
       "\n",
       "    .dataframe thead th {\n",
       "        text-align: right;\n",
       "    }\n",
       "</style>\n",
       "<table border=\"1\" class=\"dataframe\">\n",
       "  <thead>\n",
       "    <tr style=\"text-align: right;\">\n",
       "      <th></th>\n",
       "      <th>Date</th>\n",
       "      <th>Price</th>\n",
       "      <th>Open</th>\n",
       "      <th>High</th>\n",
       "      <th>Low</th>\n",
       "      <th>Volume</th>\n",
       "      <th>Change %</th>\n",
       "      <th>diff_1</th>\n",
       "    </tr>\n",
       "  </thead>\n",
       "  <tbody>\n",
       "    <tr>\n",
       "      <th>0</th>\n",
       "      <td>2021-03-31</td>\n",
       "      <td>291.02</td>\n",
       "      <td>294.00</td>\n",
       "      <td>294.42</td>\n",
       "      <td>290.26</td>\n",
       "      <td>47.00</td>\n",
       "      <td>-0.0076</td>\n",
       "      <td>NaN</td>\n",
       "    </tr>\n",
       "    <tr>\n",
       "      <th>1</th>\n",
       "      <td>2021-03-30</td>\n",
       "      <td>293.25</td>\n",
       "      <td>294.86</td>\n",
       "      <td>295.72</td>\n",
       "      <td>291.50</td>\n",
       "      <td>38.81</td>\n",
       "      <td>-0.0002</td>\n",
       "      <td>2.23</td>\n",
       "    </tr>\n",
       "    <tr>\n",
       "      <th>2</th>\n",
       "      <td>2021-03-29</td>\n",
       "      <td>293.30</td>\n",
       "      <td>289.72</td>\n",
       "      <td>294.09</td>\n",
       "      <td>289.26</td>\n",
       "      <td>43.68</td>\n",
       "      <td>0.0071</td>\n",
       "      <td>0.05</td>\n",
       "    </tr>\n",
       "    <tr>\n",
       "      <th>3</th>\n",
       "      <td>2021-03-26</td>\n",
       "      <td>291.22</td>\n",
       "      <td>288.63</td>\n",
       "      <td>292.75</td>\n",
       "      <td>288.32</td>\n",
       "      <td>56.07</td>\n",
       "      <td>0.0159</td>\n",
       "      <td>-2.08</td>\n",
       "    </tr>\n",
       "    <tr>\n",
       "      <th>4</th>\n",
       "      <td>2021-03-25</td>\n",
       "      <td>286.66</td>\n",
       "      <td>286.50</td>\n",
       "      <td>287.03</td>\n",
       "      <td>283.85</td>\n",
       "      <td>35.22</td>\n",
       "      <td>0.0030</td>\n",
       "      <td>-4.56</td>\n",
       "    </tr>\n",
       "  </tbody>\n",
       "</table>\n",
       "</div>"
      ],
      "text/plain": [
       "        Date   Price    Open    High     Low  Volume  Change %  diff_1\n",
       "0 2021-03-31  291.02  294.00  294.42  290.26   47.00   -0.0076     NaN\n",
       "1 2021-03-30  293.25  294.86  295.72  291.50   38.81   -0.0002    2.23\n",
       "2 2021-03-29  293.30  289.72  294.09  289.26   43.68    0.0071    0.05\n",
       "3 2021-03-26  291.22  288.63  292.75  288.32   56.07    0.0159   -2.08\n",
       "4 2021-03-25  286.66  286.50  287.03  283.85   35.22    0.0030   -4.56"
      ]
     },
     "execution_count": 68,
     "metadata": {},
     "output_type": "execute_result"
    }
   ],
   "source": [
    "df1_russia.reset_index(inplace=True)\n",
    "df1_russia.head()"
   ]
  },
  {
   "cell_type": "code",
   "execution_count": 69,
   "id": "passing-volunteer",
   "metadata": {},
   "outputs": [],
   "source": [
    "def add_exogenous_features(df):\n",
    "    \"\"\"\n",
    "    This function will make new features from the chosen columns by using the mead, std for 3, 7, 30 days. \n",
    "    And also other features like day, month.\n",
    "    \"\"\"\n",
    "    #df.reset_index(inplace=True)\n",
    "    # the chosen columns\n",
    "    \n",
    "    lag_features = ['Open', 'High', 'Low', 'Volume', 'Change %']\n",
    "    \n",
    "    # choose the mean, std days\n",
    "    window1 = 3\n",
    "    window2 = 7\n",
    "    window3 = 30\n",
    "    \n",
    "    # rolling\n",
    "    df_rolled_3d = df[lag_features].rolling(window=window1, min_periods=0)\n",
    "    df_rolled_7d = df[lag_features].rolling(window=window2, min_periods=0)\n",
    "    df_rolled_30d = df[lag_features].rolling(window=window3, min_periods=0)\n",
    "    \n",
    "    # find the mean\n",
    "    df_mean_3d = df_rolled_3d.mean().shift(1).reset_index()\n",
    "    df_mean_7d = df_rolled_7d.mean().shift(1).reset_index()\n",
    "    df_mean_30d = df_rolled_30d.mean().shift(1).reset_index()\n",
    "\n",
    "    # fins the std\n",
    "    df_std_3d = df_rolled_3d.std().shift(1).reset_index()\n",
    "    df_std_7d = df_rolled_7d.std().shift(1).reset_index()\n",
    "    df_std_30d = df_rolled_30d.std().shift(1).reset_index()\n",
    "\n",
    "    # add the features to df\n",
    "    for feature in lag_features:\n",
    "        df[f\"{feature}_mean_lag{window1}\"] = df_mean_3d[feature]\n",
    "        df[f\"{feature}_mean_lag{window2}\"] = df_mean_7d[feature]\n",
    "        df[f\"{feature}_mean_lag{window3}\"] = df_mean_30d[feature]\n",
    "\n",
    "        df[f\"{feature}_std_lag{window1}\"] = df_std_3d[feature]\n",
    "        df[f\"{feature}_std_lag{window2}\"] = df_std_7d[feature]\n",
    "        df[f\"{feature}_std_lag{window3}\"] = df_std_30d[feature]\n",
    "    \n",
    "    # remove the nulls\n",
    "    df.fillna(df.mean(), inplace=True)\n",
    "    #df.set_index(\"Date\", drop=False, inplace=True)\n",
    "    \n",
    "    # add the other features\n",
    "    df[\"month\"] = df.Date.dt.month\n",
    "    df[\"week\"] = df.Date.dt.week\n",
    "    df[\"day\"] = df.Date.dt.day\n",
    "    df[\"day_of_week\"] = df.Date.dt.dayofweek\n",
    "    return df"
   ]
  },
  {
   "cell_type": "code",
   "execution_count": 70,
   "id": "asian-wrapping",
   "metadata": {},
   "outputs": [
    {
     "name": "stderr",
     "output_type": "stream",
     "text": [
      "<ipython-input-69-11eabc41eea8>:42: FutureWarning: DataFrame.mean and DataFrame.median with numeric_only=None will include datetime64 and datetime64tz columns in a future version.\n",
      "  df.fillna(df.mean(), inplace=True)\n",
      "<ipython-input-69-11eabc41eea8>:47: FutureWarning: Series.dt.weekofyear and Series.dt.week have been deprecated. Please use Series.dt.isocalendar().week instead.\n",
      "  df[\"week\"] = df.Date.dt.week\n"
     ]
    }
   ],
   "source": [
    "df = add_exogenous_features(df1_russia)"
   ]
  },
  {
   "cell_type": "code",
   "execution_count": 71,
   "id": "planned-namibia",
   "metadata": {},
   "outputs": [
    {
     "data": {
      "text/html": [
       "<div>\n",
       "<style scoped>\n",
       "    .dataframe tbody tr th:only-of-type {\n",
       "        vertical-align: middle;\n",
       "    }\n",
       "\n",
       "    .dataframe tbody tr th {\n",
       "        vertical-align: top;\n",
       "    }\n",
       "\n",
       "    .dataframe thead th {\n",
       "        text-align: right;\n",
       "    }\n",
       "</style>\n",
       "<table border=\"1\" class=\"dataframe\">\n",
       "  <thead>\n",
       "    <tr style=\"text-align: right;\">\n",
       "      <th></th>\n",
       "      <th>Date</th>\n",
       "      <th>Price</th>\n",
       "      <th>Open</th>\n",
       "      <th>High</th>\n",
       "      <th>Low</th>\n",
       "      <th>Volume</th>\n",
       "      <th>Change %</th>\n",
       "      <th>diff_1</th>\n",
       "      <th>Open_mean_lag3</th>\n",
       "      <th>Open_mean_lag7</th>\n",
       "      <th>...</th>\n",
       "      <th>Change %_mean_lag3</th>\n",
       "      <th>Change %_mean_lag7</th>\n",
       "      <th>Change %_mean_lag30</th>\n",
       "      <th>Change %_std_lag3</th>\n",
       "      <th>Change %_std_lag7</th>\n",
       "      <th>Change %_std_lag30</th>\n",
       "      <th>month</th>\n",
       "      <th>week</th>\n",
       "      <th>day</th>\n",
       "      <th>day_of_week</th>\n",
       "    </tr>\n",
       "  </thead>\n",
       "  <tbody>\n",
       "    <tr>\n",
       "      <th>0</th>\n",
       "      <td>2021-03-31</td>\n",
       "      <td>291.02</td>\n",
       "      <td>294.00</td>\n",
       "      <td>294.42</td>\n",
       "      <td>290.26</td>\n",
       "      <td>47.00</td>\n",
       "      <td>-0.0076</td>\n",
       "      <td>-0.116194</td>\n",
       "      <td>234.476602</td>\n",
       "      <td>234.701885</td>\n",
       "      <td>...</td>\n",
       "      <td>0.000634</td>\n",
       "      <td>0.000610</td>\n",
       "      <td>0.000689</td>\n",
       "      <td>0.016982</td>\n",
       "      <td>0.018404</td>\n",
       "      <td>0.019890</td>\n",
       "      <td>3</td>\n",
       "      <td>13</td>\n",
       "      <td>31</td>\n",
       "      <td>2</td>\n",
       "    </tr>\n",
       "    <tr>\n",
       "      <th>1</th>\n",
       "      <td>2021-03-30</td>\n",
       "      <td>293.25</td>\n",
       "      <td>294.86</td>\n",
       "      <td>295.72</td>\n",
       "      <td>291.50</td>\n",
       "      <td>38.81</td>\n",
       "      <td>-0.0002</td>\n",
       "      <td>2.230000</td>\n",
       "      <td>294.000000</td>\n",
       "      <td>294.000000</td>\n",
       "      <td>...</td>\n",
       "      <td>-0.007600</td>\n",
       "      <td>-0.007600</td>\n",
       "      <td>-0.007600</td>\n",
       "      <td>0.016982</td>\n",
       "      <td>0.018404</td>\n",
       "      <td>0.019890</td>\n",
       "      <td>3</td>\n",
       "      <td>13</td>\n",
       "      <td>30</td>\n",
       "      <td>1</td>\n",
       "    </tr>\n",
       "    <tr>\n",
       "      <th>2</th>\n",
       "      <td>2021-03-29</td>\n",
       "      <td>293.30</td>\n",
       "      <td>289.72</td>\n",
       "      <td>294.09</td>\n",
       "      <td>289.26</td>\n",
       "      <td>43.68</td>\n",
       "      <td>0.0071</td>\n",
       "      <td>0.050000</td>\n",
       "      <td>294.430000</td>\n",
       "      <td>294.430000</td>\n",
       "      <td>...</td>\n",
       "      <td>-0.003900</td>\n",
       "      <td>-0.003900</td>\n",
       "      <td>-0.003900</td>\n",
       "      <td>0.005233</td>\n",
       "      <td>0.005233</td>\n",
       "      <td>0.005233</td>\n",
       "      <td>3</td>\n",
       "      <td>13</td>\n",
       "      <td>29</td>\n",
       "      <td>0</td>\n",
       "    </tr>\n",
       "    <tr>\n",
       "      <th>3</th>\n",
       "      <td>2021-03-26</td>\n",
       "      <td>291.22</td>\n",
       "      <td>288.63</td>\n",
       "      <td>292.75</td>\n",
       "      <td>288.32</td>\n",
       "      <td>56.07</td>\n",
       "      <td>0.0159</td>\n",
       "      <td>-2.080000</td>\n",
       "      <td>292.860000</td>\n",
       "      <td>292.860000</td>\n",
       "      <td>...</td>\n",
       "      <td>-0.000233</td>\n",
       "      <td>-0.000233</td>\n",
       "      <td>-0.000233</td>\n",
       "      <td>0.007350</td>\n",
       "      <td>0.007350</td>\n",
       "      <td>0.007350</td>\n",
       "      <td>3</td>\n",
       "      <td>12</td>\n",
       "      <td>26</td>\n",
       "      <td>4</td>\n",
       "    </tr>\n",
       "    <tr>\n",
       "      <th>4</th>\n",
       "      <td>2021-03-25</td>\n",
       "      <td>286.66</td>\n",
       "      <td>286.50</td>\n",
       "      <td>287.03</td>\n",
       "      <td>283.85</td>\n",
       "      <td>35.22</td>\n",
       "      <td>0.0030</td>\n",
       "      <td>-4.560000</td>\n",
       "      <td>291.070000</td>\n",
       "      <td>291.802500</td>\n",
       "      <td>...</td>\n",
       "      <td>0.007600</td>\n",
       "      <td>0.003800</td>\n",
       "      <td>0.003800</td>\n",
       "      <td>0.008062</td>\n",
       "      <td>0.010054</td>\n",
       "      <td>0.010054</td>\n",
       "      <td>3</td>\n",
       "      <td>12</td>\n",
       "      <td>25</td>\n",
       "      <td>3</td>\n",
       "    </tr>\n",
       "  </tbody>\n",
       "</table>\n",
       "<p>5 rows × 42 columns</p>\n",
       "</div>"
      ],
      "text/plain": [
       "        Date   Price    Open    High     Low  Volume  Change %    diff_1  \\\n",
       "0 2021-03-31  291.02  294.00  294.42  290.26   47.00   -0.0076 -0.116194   \n",
       "1 2021-03-30  293.25  294.86  295.72  291.50   38.81   -0.0002  2.230000   \n",
       "2 2021-03-29  293.30  289.72  294.09  289.26   43.68    0.0071  0.050000   \n",
       "3 2021-03-26  291.22  288.63  292.75  288.32   56.07    0.0159 -2.080000   \n",
       "4 2021-03-25  286.66  286.50  287.03  283.85   35.22    0.0030 -4.560000   \n",
       "\n",
       "   Open_mean_lag3  Open_mean_lag7  ...  Change %_mean_lag3  \\\n",
       "0      234.476602      234.701885  ...            0.000634   \n",
       "1      294.000000      294.000000  ...           -0.007600   \n",
       "2      294.430000      294.430000  ...           -0.003900   \n",
       "3      292.860000      292.860000  ...           -0.000233   \n",
       "4      291.070000      291.802500  ...            0.007600   \n",
       "\n",
       "   Change %_mean_lag7  Change %_mean_lag30  Change %_std_lag3  \\\n",
       "0            0.000610             0.000689           0.016982   \n",
       "1           -0.007600            -0.007600           0.016982   \n",
       "2           -0.003900            -0.003900           0.005233   \n",
       "3           -0.000233            -0.000233           0.007350   \n",
       "4            0.003800             0.003800           0.008062   \n",
       "\n",
       "   Change %_std_lag7  Change %_std_lag30  month  week  day  day_of_week  \n",
       "0           0.018404            0.019890      3    13   31            2  \n",
       "1           0.018404            0.019890      3    13   30            1  \n",
       "2           0.005233            0.005233      3    13   29            0  \n",
       "3           0.007350            0.007350      3    12   26            4  \n",
       "4           0.010054            0.010054      3    12   25            3  \n",
       "\n",
       "[5 rows x 42 columns]"
      ]
     },
     "execution_count": 71,
     "metadata": {},
     "output_type": "execute_result"
    }
   ],
   "source": [
    "df1_russia.head()"
   ]
  },
  {
   "cell_type": "code",
   "execution_count": 72,
   "id": "naughty-depth",
   "metadata": {},
   "outputs": [
    {
     "data": {
      "text/html": [
       "<div>\n",
       "<style scoped>\n",
       "    .dataframe tbody tr th:only-of-type {\n",
       "        vertical-align: middle;\n",
       "    }\n",
       "\n",
       "    .dataframe tbody tr th {\n",
       "        vertical-align: top;\n",
       "    }\n",
       "\n",
       "    .dataframe thead th {\n",
       "        text-align: right;\n",
       "    }\n",
       "</style>\n",
       "<table border=\"1\" class=\"dataframe\">\n",
       "  <thead>\n",
       "    <tr style=\"text-align: right;\">\n",
       "      <th></th>\n",
       "      <th>Price</th>\n",
       "      <th>Open</th>\n",
       "      <th>High</th>\n",
       "      <th>Low</th>\n",
       "      <th>Volume</th>\n",
       "      <th>Change %</th>\n",
       "      <th>diff_1</th>\n",
       "      <th>Open_mean_lag3</th>\n",
       "      <th>Open_mean_lag7</th>\n",
       "      <th>Open_mean_lag30</th>\n",
       "      <th>...</th>\n",
       "      <th>Change %_mean_lag3</th>\n",
       "      <th>Change %_mean_lag7</th>\n",
       "      <th>Change %_mean_lag30</th>\n",
       "      <th>Change %_std_lag3</th>\n",
       "      <th>Change %_std_lag7</th>\n",
       "      <th>Change %_std_lag30</th>\n",
       "      <th>month</th>\n",
       "      <th>week</th>\n",
       "      <th>day</th>\n",
       "      <th>day_of_week</th>\n",
       "    </tr>\n",
       "    <tr>\n",
       "      <th>Date</th>\n",
       "      <th></th>\n",
       "      <th></th>\n",
       "      <th></th>\n",
       "      <th></th>\n",
       "      <th></th>\n",
       "      <th></th>\n",
       "      <th></th>\n",
       "      <th></th>\n",
       "      <th></th>\n",
       "      <th></th>\n",
       "      <th></th>\n",
       "      <th></th>\n",
       "      <th></th>\n",
       "      <th></th>\n",
       "      <th></th>\n",
       "      <th></th>\n",
       "      <th></th>\n",
       "      <th></th>\n",
       "      <th></th>\n",
       "      <th></th>\n",
       "      <th></th>\n",
       "    </tr>\n",
       "  </thead>\n",
       "  <tbody>\n",
       "    <tr>\n",
       "      <th>2021-03-31</th>\n",
       "      <td>291.02</td>\n",
       "      <td>294.00</td>\n",
       "      <td>294.42</td>\n",
       "      <td>290.26</td>\n",
       "      <td>47.00</td>\n",
       "      <td>-0.0076</td>\n",
       "      <td>-0.116194</td>\n",
       "      <td>234.476602</td>\n",
       "      <td>234.701885</td>\n",
       "      <td>235.750501</td>\n",
       "      <td>...</td>\n",
       "      <td>0.000634</td>\n",
       "      <td>0.000610</td>\n",
       "      <td>0.000689</td>\n",
       "      <td>0.016982</td>\n",
       "      <td>0.018404</td>\n",
       "      <td>0.019890</td>\n",
       "      <td>3</td>\n",
       "      <td>13</td>\n",
       "      <td>31</td>\n",
       "      <td>2</td>\n",
       "    </tr>\n",
       "    <tr>\n",
       "      <th>2021-03-30</th>\n",
       "      <td>293.25</td>\n",
       "      <td>294.86</td>\n",
       "      <td>295.72</td>\n",
       "      <td>291.50</td>\n",
       "      <td>38.81</td>\n",
       "      <td>-0.0002</td>\n",
       "      <td>2.230000</td>\n",
       "      <td>294.000000</td>\n",
       "      <td>294.000000</td>\n",
       "      <td>294.000000</td>\n",
       "      <td>...</td>\n",
       "      <td>-0.007600</td>\n",
       "      <td>-0.007600</td>\n",
       "      <td>-0.007600</td>\n",
       "      <td>0.016982</td>\n",
       "      <td>0.018404</td>\n",
       "      <td>0.019890</td>\n",
       "      <td>3</td>\n",
       "      <td>13</td>\n",
       "      <td>30</td>\n",
       "      <td>1</td>\n",
       "    </tr>\n",
       "    <tr>\n",
       "      <th>2021-03-29</th>\n",
       "      <td>293.30</td>\n",
       "      <td>289.72</td>\n",
       "      <td>294.09</td>\n",
       "      <td>289.26</td>\n",
       "      <td>43.68</td>\n",
       "      <td>0.0071</td>\n",
       "      <td>0.050000</td>\n",
       "      <td>294.430000</td>\n",
       "      <td>294.430000</td>\n",
       "      <td>294.430000</td>\n",
       "      <td>...</td>\n",
       "      <td>-0.003900</td>\n",
       "      <td>-0.003900</td>\n",
       "      <td>-0.003900</td>\n",
       "      <td>0.005233</td>\n",
       "      <td>0.005233</td>\n",
       "      <td>0.005233</td>\n",
       "      <td>3</td>\n",
       "      <td>13</td>\n",
       "      <td>29</td>\n",
       "      <td>0</td>\n",
       "    </tr>\n",
       "    <tr>\n",
       "      <th>2021-03-26</th>\n",
       "      <td>291.22</td>\n",
       "      <td>288.63</td>\n",
       "      <td>292.75</td>\n",
       "      <td>288.32</td>\n",
       "      <td>56.07</td>\n",
       "      <td>0.0159</td>\n",
       "      <td>-2.080000</td>\n",
       "      <td>292.860000</td>\n",
       "      <td>292.860000</td>\n",
       "      <td>292.860000</td>\n",
       "      <td>...</td>\n",
       "      <td>-0.000233</td>\n",
       "      <td>-0.000233</td>\n",
       "      <td>-0.000233</td>\n",
       "      <td>0.007350</td>\n",
       "      <td>0.007350</td>\n",
       "      <td>0.007350</td>\n",
       "      <td>3</td>\n",
       "      <td>12</td>\n",
       "      <td>26</td>\n",
       "      <td>4</td>\n",
       "    </tr>\n",
       "    <tr>\n",
       "      <th>2021-03-25</th>\n",
       "      <td>286.66</td>\n",
       "      <td>286.50</td>\n",
       "      <td>287.03</td>\n",
       "      <td>283.85</td>\n",
       "      <td>35.22</td>\n",
       "      <td>0.0030</td>\n",
       "      <td>-4.560000</td>\n",
       "      <td>291.070000</td>\n",
       "      <td>291.802500</td>\n",
       "      <td>291.802500</td>\n",
       "      <td>...</td>\n",
       "      <td>0.007600</td>\n",
       "      <td>0.003800</td>\n",
       "      <td>0.003800</td>\n",
       "      <td>0.008062</td>\n",
       "      <td>0.010054</td>\n",
       "      <td>0.010054</td>\n",
       "      <td>3</td>\n",
       "      <td>12</td>\n",
       "      <td>25</td>\n",
       "      <td>3</td>\n",
       "    </tr>\n",
       "  </tbody>\n",
       "</table>\n",
       "<p>5 rows × 41 columns</p>\n",
       "</div>"
      ],
      "text/plain": [
       "             Price    Open    High     Low  Volume  Change %    diff_1  \\\n",
       "Date                                                                     \n",
       "2021-03-31  291.02  294.00  294.42  290.26   47.00   -0.0076 -0.116194   \n",
       "2021-03-30  293.25  294.86  295.72  291.50   38.81   -0.0002  2.230000   \n",
       "2021-03-29  293.30  289.72  294.09  289.26   43.68    0.0071  0.050000   \n",
       "2021-03-26  291.22  288.63  292.75  288.32   56.07    0.0159 -2.080000   \n",
       "2021-03-25  286.66  286.50  287.03  283.85   35.22    0.0030 -4.560000   \n",
       "\n",
       "            Open_mean_lag3  Open_mean_lag7  Open_mean_lag30  ...  \\\n",
       "Date                                                         ...   \n",
       "2021-03-31      234.476602      234.701885       235.750501  ...   \n",
       "2021-03-30      294.000000      294.000000       294.000000  ...   \n",
       "2021-03-29      294.430000      294.430000       294.430000  ...   \n",
       "2021-03-26      292.860000      292.860000       292.860000  ...   \n",
       "2021-03-25      291.070000      291.802500       291.802500  ...   \n",
       "\n",
       "            Change %_mean_lag3  Change %_mean_lag7  Change %_mean_lag30  \\\n",
       "Date                                                                      \n",
       "2021-03-31            0.000634            0.000610             0.000689   \n",
       "2021-03-30           -0.007600           -0.007600            -0.007600   \n",
       "2021-03-29           -0.003900           -0.003900            -0.003900   \n",
       "2021-03-26           -0.000233           -0.000233            -0.000233   \n",
       "2021-03-25            0.007600            0.003800             0.003800   \n",
       "\n",
       "            Change %_std_lag3  Change %_std_lag7  Change %_std_lag30  month  \\\n",
       "Date                                                                          \n",
       "2021-03-31           0.016982           0.018404            0.019890      3   \n",
       "2021-03-30           0.016982           0.018404            0.019890      3   \n",
       "2021-03-29           0.005233           0.005233            0.005233      3   \n",
       "2021-03-26           0.007350           0.007350            0.007350      3   \n",
       "2021-03-25           0.008062           0.010054            0.010054      3   \n",
       "\n",
       "            week  day  day_of_week  \n",
       "Date                                \n",
       "2021-03-31    13   31            2  \n",
       "2021-03-30    13   30            1  \n",
       "2021-03-29    13   29            0  \n",
       "2021-03-26    12   26            4  \n",
       "2021-03-25    12   25            3  \n",
       "\n",
       "[5 rows x 41 columns]"
      ]
     },
     "execution_count": 72,
     "metadata": {},
     "output_type": "execute_result"
    }
   ],
   "source": [
    "df1_russia.set_index(\"Date\", drop=True, inplace=True)\n",
    "df1_russia.head()"
   ]
  },
  {
   "cell_type": "code",
   "execution_count": 73,
   "id": "limited-ground",
   "metadata": {},
   "outputs": [
    {
     "data": {
      "text/plain": [
       "['Open_mean_lag3',\n",
       " 'Open_mean_lag7',\n",
       " 'Open_mean_lag30',\n",
       " 'Open_std_lag3',\n",
       " 'Open_std_lag7',\n",
       " 'Open_std_lag30',\n",
       " 'High_mean_lag3',\n",
       " 'High_mean_lag7',\n",
       " 'High_mean_lag30',\n",
       " 'High_std_lag3',\n",
       " 'High_std_lag7',\n",
       " 'High_std_lag30',\n",
       " 'Low_mean_lag3',\n",
       " 'Low_mean_lag7',\n",
       " 'Low_mean_lag30',\n",
       " 'Low_std_lag3',\n",
       " 'Low_std_lag7',\n",
       " 'Low_std_lag30',\n",
       " 'Volume_mean_lag3',\n",
       " 'Volume_mean_lag7',\n",
       " 'Volume_mean_lag30',\n",
       " 'Volume_std_lag3',\n",
       " 'Volume_std_lag7',\n",
       " 'Volume_std_lag30',\n",
       " 'Change %_mean_lag3',\n",
       " 'Change %_mean_lag7',\n",
       " 'Change %_mean_lag30',\n",
       " 'Change %_std_lag3',\n",
       " 'Change %_std_lag7',\n",
       " 'Change %_std_lag30',\n",
       " 'month',\n",
       " 'week',\n",
       " 'day',\n",
       " 'day_of_week']"
      ]
     },
     "execution_count": 73,
     "metadata": {},
     "output_type": "execute_result"
    }
   ],
   "source": [
    "#select exogenous features\n",
    "exogenous_features=df1_russia.columns[7:].values.tolist()\n",
    "exogenous_features"
   ]
  },
  {
   "cell_type": "code",
   "execution_count": 74,
   "id": "stable-opinion",
   "metadata": {},
   "outputs": [],
   "source": [
    "#split data into train and test\n",
    "train_ARMX = df1_russia[df1_russia.index < pd.to_datetime('2021-01-01', format=\"%Y-%m-%d\")]\n",
    "train_ARMX=train_ARMX.dropna()\n",
    "test_ARMX=df1_russia[df1_russia.index >= pd.to_datetime('2021-01-01', format=\"%Y-%m-%d\")]\n",
    "test_ARMX=test_ARMX.dropna()"
   ]
  },
  {
   "cell_type": "code",
   "execution_count": 75,
   "id": "worth-explanation",
   "metadata": {},
   "outputs": [
    {
     "name": "stdout",
     "output_type": "stream",
     "text": [
      "shape of train set:  (250, 41)\n",
      "shape of test set:  (61, 41)\n"
     ]
    }
   ],
   "source": [
    "print('shape of train set: ',train_ARMX.shape)\n",
    "print('shape of test set: ',test_ARMX.shape)"
   ]
  },
  {
   "cell_type": "code",
   "execution_count": 80,
   "id": "developing-variety",
   "metadata": {},
   "outputs": [],
   "source": [
    "arimax_model = pm.auto_arima(train_ARMX['Price'], exogenous=train_ARMX[exogenous_features], trace=False, error_action=\"ignore\", \n",
    "                                 suppress_warnings=True)"
   ]
  },
  {
   "cell_type": "code",
   "execution_count": 81,
   "id": "assured-secret",
   "metadata": {},
   "outputs": [
    {
     "data": {
      "text/plain": [
       "ARIMA(order=(0, 1, 0), scoring_args={}, suppress_warnings=True,\n",
       "      with_intercept=False)"
      ]
     },
     "execution_count": 81,
     "metadata": {},
     "output_type": "execute_result"
    }
   ],
   "source": [
    "arimax_model.fit(train_ARMX.Price, exogenous=train_ARMX[exogenous_features])"
   ]
  },
  {
   "cell_type": "code",
   "execution_count": null,
   "id": "fallen-industry",
   "metadata": {},
   "outputs": [],
   "source": [
    "# create the ARIMAX model\n",
    "#model_ARMX = auto_arima(train_ARMX.Price, exogenous=train_ARMX[exogenous_features], trace=True, error_action=\"ignore\", suppress_warnings=True)"
   ]
  },
  {
   "cell_type": "code",
   "execution_count": null,
   "id": "knowing-setting",
   "metadata": {},
   "outputs": [],
   "source": [
    "#model_ARMX.fit(train_ARMX.Price, exogenous=train_ARMX[exogenous_features])"
   ]
  },
  {
   "cell_type": "code",
   "execution_count": 83,
   "id": "wanted-landscape",
   "metadata": {},
   "outputs": [
    {
     "name": "stderr",
     "output_type": "stream",
     "text": [
      "/Library/Frameworks/Python.framework/Versions/3.8/lib/python3.8/site-packages/statsmodels/tsa/base/tsa_model.py:834: ValueWarning: No supported index is available. Prediction results will be given with an integer index beginning at `start`.\n",
      "  return get_prediction_index(\n"
     ]
    }
   ],
   "source": [
    "#get predicted prices\n",
    "y_pred_ARMX = arimax_model.predict(n_periods=len(test_ARMX['Price']), exogenous=test_ARMX[exogenous_features])"
   ]
  },
  {
   "cell_type": "code",
   "execution_count": 84,
   "id": "frozen-minimum",
   "metadata": {},
   "outputs": [],
   "source": [
    "test_ARMX['Pred'] = y_pred_ARMX.values"
   ]
  },
  {
   "cell_type": "code",
   "execution_count": 85,
   "id": "light-football",
   "metadata": {},
   "outputs": [
    {
     "data": {
      "text/html": [
       "<div>\n",
       "<style scoped>\n",
       "    .dataframe tbody tr th:only-of-type {\n",
       "        vertical-align: middle;\n",
       "    }\n",
       "\n",
       "    .dataframe tbody tr th {\n",
       "        vertical-align: top;\n",
       "    }\n",
       "\n",
       "    .dataframe thead th {\n",
       "        text-align: right;\n",
       "    }\n",
       "</style>\n",
       "<table border=\"1\" class=\"dataframe\">\n",
       "  <thead>\n",
       "    <tr style=\"text-align: right;\">\n",
       "      <th></th>\n",
       "      <th>Price</th>\n",
       "      <th>Open</th>\n",
       "      <th>High</th>\n",
       "      <th>Low</th>\n",
       "      <th>Volume</th>\n",
       "      <th>Change %</th>\n",
       "      <th>diff_1</th>\n",
       "      <th>Open_mean_lag3</th>\n",
       "      <th>Open_mean_lag7</th>\n",
       "      <th>Open_mean_lag30</th>\n",
       "      <th>...</th>\n",
       "      <th>Change %_mean_lag7</th>\n",
       "      <th>Change %_mean_lag30</th>\n",
       "      <th>Change %_std_lag3</th>\n",
       "      <th>Change %_std_lag7</th>\n",
       "      <th>Change %_std_lag30</th>\n",
       "      <th>month</th>\n",
       "      <th>week</th>\n",
       "      <th>day</th>\n",
       "      <th>day_of_week</th>\n",
       "      <th>Pred</th>\n",
       "    </tr>\n",
       "    <tr>\n",
       "      <th>Date</th>\n",
       "      <th></th>\n",
       "      <th></th>\n",
       "      <th></th>\n",
       "      <th></th>\n",
       "      <th></th>\n",
       "      <th></th>\n",
       "      <th></th>\n",
       "      <th></th>\n",
       "      <th></th>\n",
       "      <th></th>\n",
       "      <th></th>\n",
       "      <th></th>\n",
       "      <th></th>\n",
       "      <th></th>\n",
       "      <th></th>\n",
       "      <th></th>\n",
       "      <th></th>\n",
       "      <th></th>\n",
       "      <th></th>\n",
       "      <th></th>\n",
       "      <th></th>\n",
       "    </tr>\n",
       "  </thead>\n",
       "  <tbody>\n",
       "    <tr>\n",
       "      <th>2021-03-31</th>\n",
       "      <td>291.02</td>\n",
       "      <td>294.00</td>\n",
       "      <td>294.42</td>\n",
       "      <td>290.26</td>\n",
       "      <td>47.00</td>\n",
       "      <td>-0.0076</td>\n",
       "      <td>-0.116194</td>\n",
       "      <td>234.476602</td>\n",
       "      <td>234.701885</td>\n",
       "      <td>235.750501</td>\n",
       "      <td>...</td>\n",
       "      <td>0.000610</td>\n",
       "      <td>0.000689</td>\n",
       "      <td>0.016982</td>\n",
       "      <td>0.018404</td>\n",
       "      <td>0.019890</td>\n",
       "      <td>3</td>\n",
       "      <td>13</td>\n",
       "      <td>31</td>\n",
       "      <td>2</td>\n",
       "      <td>255.0</td>\n",
       "    </tr>\n",
       "    <tr>\n",
       "      <th>2021-03-30</th>\n",
       "      <td>293.25</td>\n",
       "      <td>294.86</td>\n",
       "      <td>295.72</td>\n",
       "      <td>291.50</td>\n",
       "      <td>38.81</td>\n",
       "      <td>-0.0002</td>\n",
       "      <td>2.230000</td>\n",
       "      <td>294.000000</td>\n",
       "      <td>294.000000</td>\n",
       "      <td>294.000000</td>\n",
       "      <td>...</td>\n",
       "      <td>-0.007600</td>\n",
       "      <td>-0.007600</td>\n",
       "      <td>0.016982</td>\n",
       "      <td>0.018404</td>\n",
       "      <td>0.019890</td>\n",
       "      <td>3</td>\n",
       "      <td>13</td>\n",
       "      <td>30</td>\n",
       "      <td>1</td>\n",
       "      <td>255.0</td>\n",
       "    </tr>\n",
       "    <tr>\n",
       "      <th>2021-03-29</th>\n",
       "      <td>293.30</td>\n",
       "      <td>289.72</td>\n",
       "      <td>294.09</td>\n",
       "      <td>289.26</td>\n",
       "      <td>43.68</td>\n",
       "      <td>0.0071</td>\n",
       "      <td>0.050000</td>\n",
       "      <td>294.430000</td>\n",
       "      <td>294.430000</td>\n",
       "      <td>294.430000</td>\n",
       "      <td>...</td>\n",
       "      <td>-0.003900</td>\n",
       "      <td>-0.003900</td>\n",
       "      <td>0.005233</td>\n",
       "      <td>0.005233</td>\n",
       "      <td>0.005233</td>\n",
       "      <td>3</td>\n",
       "      <td>13</td>\n",
       "      <td>29</td>\n",
       "      <td>0</td>\n",
       "      <td>255.0</td>\n",
       "    </tr>\n",
       "    <tr>\n",
       "      <th>2021-03-26</th>\n",
       "      <td>291.22</td>\n",
       "      <td>288.63</td>\n",
       "      <td>292.75</td>\n",
       "      <td>288.32</td>\n",
       "      <td>56.07</td>\n",
       "      <td>0.0159</td>\n",
       "      <td>-2.080000</td>\n",
       "      <td>292.860000</td>\n",
       "      <td>292.860000</td>\n",
       "      <td>292.860000</td>\n",
       "      <td>...</td>\n",
       "      <td>-0.000233</td>\n",
       "      <td>-0.000233</td>\n",
       "      <td>0.007350</td>\n",
       "      <td>0.007350</td>\n",
       "      <td>0.007350</td>\n",
       "      <td>3</td>\n",
       "      <td>12</td>\n",
       "      <td>26</td>\n",
       "      <td>4</td>\n",
       "      <td>255.0</td>\n",
       "    </tr>\n",
       "    <tr>\n",
       "      <th>2021-03-25</th>\n",
       "      <td>286.66</td>\n",
       "      <td>286.50</td>\n",
       "      <td>287.03</td>\n",
       "      <td>283.85</td>\n",
       "      <td>35.22</td>\n",
       "      <td>0.0030</td>\n",
       "      <td>-4.560000</td>\n",
       "      <td>291.070000</td>\n",
       "      <td>291.802500</td>\n",
       "      <td>291.802500</td>\n",
       "      <td>...</td>\n",
       "      <td>0.003800</td>\n",
       "      <td>0.003800</td>\n",
       "      <td>0.008062</td>\n",
       "      <td>0.010054</td>\n",
       "      <td>0.010054</td>\n",
       "      <td>3</td>\n",
       "      <td>12</td>\n",
       "      <td>25</td>\n",
       "      <td>3</td>\n",
       "      <td>255.0</td>\n",
       "    </tr>\n",
       "  </tbody>\n",
       "</table>\n",
       "<p>5 rows × 42 columns</p>\n",
       "</div>"
      ],
      "text/plain": [
       "             Price    Open    High     Low  Volume  Change %    diff_1  \\\n",
       "Date                                                                     \n",
       "2021-03-31  291.02  294.00  294.42  290.26   47.00   -0.0076 -0.116194   \n",
       "2021-03-30  293.25  294.86  295.72  291.50   38.81   -0.0002  2.230000   \n",
       "2021-03-29  293.30  289.72  294.09  289.26   43.68    0.0071  0.050000   \n",
       "2021-03-26  291.22  288.63  292.75  288.32   56.07    0.0159 -2.080000   \n",
       "2021-03-25  286.66  286.50  287.03  283.85   35.22    0.0030 -4.560000   \n",
       "\n",
       "            Open_mean_lag3  Open_mean_lag7  Open_mean_lag30  ...  \\\n",
       "Date                                                         ...   \n",
       "2021-03-31      234.476602      234.701885       235.750501  ...   \n",
       "2021-03-30      294.000000      294.000000       294.000000  ...   \n",
       "2021-03-29      294.430000      294.430000       294.430000  ...   \n",
       "2021-03-26      292.860000      292.860000       292.860000  ...   \n",
       "2021-03-25      291.070000      291.802500       291.802500  ...   \n",
       "\n",
       "            Change %_mean_lag7  Change %_mean_lag30  Change %_std_lag3  \\\n",
       "Date                                                                     \n",
       "2021-03-31            0.000610             0.000689           0.016982   \n",
       "2021-03-30           -0.007600            -0.007600           0.016982   \n",
       "2021-03-29           -0.003900            -0.003900           0.005233   \n",
       "2021-03-26           -0.000233            -0.000233           0.007350   \n",
       "2021-03-25            0.003800             0.003800           0.008062   \n",
       "\n",
       "            Change %_std_lag7  Change %_std_lag30  month  week  day  \\\n",
       "Date                                                                  \n",
       "2021-03-31           0.018404            0.019890      3    13   31   \n",
       "2021-03-30           0.018404            0.019890      3    13   30   \n",
       "2021-03-29           0.005233            0.005233      3    13   29   \n",
       "2021-03-26           0.007350            0.007350      3    12   26   \n",
       "2021-03-25           0.010054            0.010054      3    12   25   \n",
       "\n",
       "            day_of_week   Pred  \n",
       "Date                            \n",
       "2021-03-31            2  255.0  \n",
       "2021-03-30            1  255.0  \n",
       "2021-03-29            0  255.0  \n",
       "2021-03-26            4  255.0  \n",
       "2021-03-25            3  255.0  \n",
       "\n",
       "[5 rows x 42 columns]"
      ]
     },
     "execution_count": 85,
     "metadata": {},
     "output_type": "execute_result"
    }
   ],
   "source": [
    "test_ARMX.head()"
   ]
  },
  {
   "cell_type": "code",
   "execution_count": 86,
   "id": "fuzzy-beast",
   "metadata": {},
   "outputs": [
    {
     "data": {
      "image/png": "[encoded data removed]",
      "text/plain": [
       "<Figure size 1152x360 with 1 Axes>"
      ]
     },
     "metadata": {
      "needs_background": "light"
     },
     "output_type": "display_data"
    }
   ],
   "source": [
    "actual_prediction_plot(test_ARMX['Price'], test_ARMX['Pred'])"
   ]
  },
  {
   "cell_type": "code",
   "execution_count": 87,
   "id": "threatened-antique",
   "metadata": {},
   "outputs": [
    {
     "name": "stdout",
     "output_type": "stream",
     "text": [
      "MSE: 556.6030426229509\n",
      "MAE: 21.768852459016394\n",
      "RMSE: 23.59243613158571\n",
      "MAPE: 0.07766249860739152\n"
     ]
    }
   ],
   "source": [
    "mse = mean_squared_error(test_ARMX['Price'], test_ARMX['Pred'])\n",
    "print('MSE: '+str(mse))\n",
    "mae = mean_absolute_error(test_ARMX['Price'], test_ARMX['Pred'])\n",
    "print('MAE: '+str(mae))\n",
    "rmse = math.sqrt(mean_squared_error(test_ARMX['Price'], test_ARMX['Pred']))\n",
    "print('RMSE: '+str(rmse))\n",
    "mape = np.mean(np.abs(test_ARMX['Pred'] - test_ARMX['Price'])/np.abs(test_ARMX['Price']))\n",
    "print('MAPE: '+str(mape))"
   ]
  },
  {
   "cell_type": "code",
   "execution_count": null,
   "id": "dedicated-level",
   "metadata": {},
   "outputs": [],
   "source": [
    "# As we can see Arima and Arimax models are not the best models for this data"
   ]
  },
  {
   "cell_type": "code",
   "execution_count": null,
   "id": "nervous-cisco",
   "metadata": {},
   "outputs": [],
   "source": [
    "#FB Prophet"
   ]
  },
  {
   "cell_type": "code",
   "execution_count": 138,
   "id": "working-england",
   "metadata": {},
   "outputs": [
    {
     "data": {
      "text/html": [
       "<div>\n",
       "<style scoped>\n",
       "    .dataframe tbody tr th:only-of-type {\n",
       "        vertical-align: middle;\n",
       "    }\n",
       "\n",
       "    .dataframe tbody tr th {\n",
       "        vertical-align: top;\n",
       "    }\n",
       "\n",
       "    .dataframe thead th {\n",
       "        text-align: right;\n",
       "    }\n",
       "</style>\n",
       "<table border=\"1\" class=\"dataframe\">\n",
       "  <thead>\n",
       "    <tr style=\"text-align: right;\">\n",
       "      <th></th>\n",
       "      <th>Price</th>\n",
       "      <th>Open</th>\n",
       "      <th>High</th>\n",
       "      <th>Low</th>\n",
       "      <th>Volume</th>\n",
       "      <th>Change %</th>\n",
       "      <th>diff_1</th>\n",
       "    </tr>\n",
       "    <tr>\n",
       "      <th>Date</th>\n",
       "      <th></th>\n",
       "      <th></th>\n",
       "      <th></th>\n",
       "      <th></th>\n",
       "      <th></th>\n",
       "      <th></th>\n",
       "      <th></th>\n",
       "    </tr>\n",
       "  </thead>\n",
       "  <tbody>\n",
       "    <tr>\n",
       "      <th>2021-03-31</th>\n",
       "      <td>291.02</td>\n",
       "      <td>294.00</td>\n",
       "      <td>294.42</td>\n",
       "      <td>290.26</td>\n",
       "      <td>47.00</td>\n",
       "      <td>-0.0076</td>\n",
       "      <td>NaN</td>\n",
       "    </tr>\n",
       "    <tr>\n",
       "      <th>2021-03-30</th>\n",
       "      <td>293.25</td>\n",
       "      <td>294.86</td>\n",
       "      <td>295.72</td>\n",
       "      <td>291.50</td>\n",
       "      <td>38.81</td>\n",
       "      <td>-0.0002</td>\n",
       "      <td>2.23</td>\n",
       "    </tr>\n",
       "    <tr>\n",
       "      <th>2021-03-29</th>\n",
       "      <td>293.30</td>\n",
       "      <td>289.72</td>\n",
       "      <td>294.09</td>\n",
       "      <td>289.26</td>\n",
       "      <td>43.68</td>\n",
       "      <td>0.0071</td>\n",
       "      <td>0.05</td>\n",
       "    </tr>\n",
       "    <tr>\n",
       "      <th>2021-03-26</th>\n",
       "      <td>291.22</td>\n",
       "      <td>288.63</td>\n",
       "      <td>292.75</td>\n",
       "      <td>288.32</td>\n",
       "      <td>56.07</td>\n",
       "      <td>0.0159</td>\n",
       "      <td>-2.08</td>\n",
       "    </tr>\n",
       "    <tr>\n",
       "      <th>2021-03-25</th>\n",
       "      <td>286.66</td>\n",
       "      <td>286.50</td>\n",
       "      <td>287.03</td>\n",
       "      <td>283.85</td>\n",
       "      <td>35.22</td>\n",
       "      <td>0.0030</td>\n",
       "      <td>-4.56</td>\n",
       "    </tr>\n",
       "  </tbody>\n",
       "</table>\n",
       "</div>"
      ],
      "text/plain": [
       "             Price    Open    High     Low  Volume  Change %  diff_1\n",
       "Date                                                                \n",
       "2021-03-31  291.02  294.00  294.42  290.26   47.00   -0.0076     NaN\n",
       "2021-03-30  293.25  294.86  295.72  291.50   38.81   -0.0002    2.23\n",
       "2021-03-29  293.30  289.72  294.09  289.26   43.68    0.0071    0.05\n",
       "2021-03-26  291.22  288.63  292.75  288.32   56.07    0.0159   -2.08\n",
       "2021-03-25  286.66  286.50  287.03  283.85   35.22    0.0030   -4.56"
      ]
     },
     "execution_count": 138,
     "metadata": {},
     "output_type": "execute_result"
    }
   ],
   "source": [
    "df2_russia=df_russia.copy()\n",
    "#df2_russia.set_index(\"Date\", drop=False, inplace=True)\n",
    "df2_russia.head()"
   ]
  },
  {
   "cell_type": "code",
   "execution_count": 139,
   "id": "existing-license",
   "metadata": {},
   "outputs": [],
   "source": [
    "train_pro = df2_russia[df2_russia.index < pd.to_datetime('2021-01-01', format=\"%Y-%m-%d\")]\n",
    "train_pro=train_pro.dropna()\n",
    "test_pro=df2_russia[df2_russia.index >= pd.to_datetime('2021-01-01', format=\"%Y-%m-%d\")]\n",
    "test_pro=test_pro.dropna()"
   ]
  },
  {
   "cell_type": "code",
   "execution_count": 140,
   "id": "cleared-afghanistan",
   "metadata": {},
   "outputs": [
    {
     "data": {
      "text/html": [
       "<div>\n",
       "<style scoped>\n",
       "    .dataframe tbody tr th:only-of-type {\n",
       "        vertical-align: middle;\n",
       "    }\n",
       "\n",
       "    .dataframe tbody tr th {\n",
       "        vertical-align: top;\n",
       "    }\n",
       "\n",
       "    .dataframe thead th {\n",
       "        text-align: right;\n",
       "    }\n",
       "</style>\n",
       "<table border=\"1\" class=\"dataframe\">\n",
       "  <thead>\n",
       "    <tr style=\"text-align: right;\">\n",
       "      <th></th>\n",
       "      <th>Date</th>\n",
       "      <th>Price</th>\n",
       "      <th>Open</th>\n",
       "      <th>High</th>\n",
       "      <th>Low</th>\n",
       "      <th>Volume</th>\n",
       "      <th>Change %</th>\n",
       "      <th>diff_1</th>\n",
       "    </tr>\n",
       "  </thead>\n",
       "  <tbody>\n",
       "    <tr>\n",
       "      <th>0</th>\n",
       "      <td>2020-12-30</td>\n",
       "      <td>271.65</td>\n",
       "      <td>272.49</td>\n",
       "      <td>274.24</td>\n",
       "      <td>270.12</td>\n",
       "      <td>31.53</td>\n",
       "      <td>-0.0013</td>\n",
       "      <td>-0.35</td>\n",
       "    </tr>\n",
       "    <tr>\n",
       "      <th>1</th>\n",
       "      <td>2020-12-29</td>\n",
       "      <td>272.00</td>\n",
       "      <td>275.91</td>\n",
       "      <td>276.43</td>\n",
       "      <td>271.26</td>\n",
       "      <td>39.02</td>\n",
       "      <td>-0.0098</td>\n",
       "      <td>0.35</td>\n",
       "    </tr>\n",
       "    <tr>\n",
       "      <th>2</th>\n",
       "      <td>2020-12-28</td>\n",
       "      <td>274.70</td>\n",
       "      <td>270.90</td>\n",
       "      <td>275.19</td>\n",
       "      <td>269.73</td>\n",
       "      <td>39.04</td>\n",
       "      <td>0.0150</td>\n",
       "      <td>2.70</td>\n",
       "    </tr>\n",
       "    <tr>\n",
       "      <th>3</th>\n",
       "      <td>2020-12-25</td>\n",
       "      <td>270.64</td>\n",
       "      <td>269.97</td>\n",
       "      <td>271.00</td>\n",
       "      <td>268.28</td>\n",
       "      <td>11.99</td>\n",
       "      <td>0.0049</td>\n",
       "      <td>-4.06</td>\n",
       "    </tr>\n",
       "    <tr>\n",
       "      <th>4</th>\n",
       "      <td>2020-12-24</td>\n",
       "      <td>269.32</td>\n",
       "      <td>271.98</td>\n",
       "      <td>272.82</td>\n",
       "      <td>267.13</td>\n",
       "      <td>42.61</td>\n",
       "      <td>-0.0029</td>\n",
       "      <td>-1.32</td>\n",
       "    </tr>\n",
       "  </tbody>\n",
       "</table>\n",
       "</div>"
      ],
      "text/plain": [
       "        Date   Price    Open    High     Low  Volume  Change %  diff_1\n",
       "0 2020-12-30  271.65  272.49  274.24  270.12   31.53   -0.0013   -0.35\n",
       "1 2020-12-29  272.00  275.91  276.43  271.26   39.02   -0.0098    0.35\n",
       "2 2020-12-28  274.70  270.90  275.19  269.73   39.04    0.0150    2.70\n",
       "3 2020-12-25  270.64  269.97  271.00  268.28   11.99    0.0049   -4.06\n",
       "4 2020-12-24  269.32  271.98  272.82  267.13   42.61   -0.0029   -1.32"
      ]
     },
     "execution_count": 140,
     "metadata": {},
     "output_type": "execute_result"
    }
   ],
   "source": [
    "train_pro.reset_index(drop=False, inplace=True)\n",
    "train_pro.head()\n"
   ]
  },
  {
   "cell_type": "code",
   "execution_count": 141,
   "id": "silent-beatles",
   "metadata": {},
   "outputs": [
    {
     "data": {
      "text/html": [
       "<div>\n",
       "<style scoped>\n",
       "    .dataframe tbody tr th:only-of-type {\n",
       "        vertical-align: middle;\n",
       "    }\n",
       "\n",
       "    .dataframe tbody tr th {\n",
       "        vertical-align: top;\n",
       "    }\n",
       "\n",
       "    .dataframe thead th {\n",
       "        text-align: right;\n",
       "    }\n",
       "</style>\n",
       "<table border=\"1\" class=\"dataframe\">\n",
       "  <thead>\n",
       "    <tr style=\"text-align: right;\">\n",
       "      <th></th>\n",
       "      <th>ds</th>\n",
       "      <th>y</th>\n",
       "    </tr>\n",
       "  </thead>\n",
       "  <tbody>\n",
       "    <tr>\n",
       "      <th>0</th>\n",
       "      <td>2020-12-30</td>\n",
       "      <td>271.65</td>\n",
       "    </tr>\n",
       "    <tr>\n",
       "      <th>1</th>\n",
       "      <td>2020-12-29</td>\n",
       "      <td>272.00</td>\n",
       "    </tr>\n",
       "    <tr>\n",
       "      <th>2</th>\n",
       "      <td>2020-12-28</td>\n",
       "      <td>274.70</td>\n",
       "    </tr>\n",
       "    <tr>\n",
       "      <th>3</th>\n",
       "      <td>2020-12-25</td>\n",
       "      <td>270.64</td>\n",
       "    </tr>\n",
       "    <tr>\n",
       "      <th>4</th>\n",
       "      <td>2020-12-24</td>\n",
       "      <td>269.32</td>\n",
       "    </tr>\n",
       "  </tbody>\n",
       "</table>\n",
       "</div>"
      ],
      "text/plain": [
       "          ds       y\n",
       "0 2020-12-30  271.65\n",
       "1 2020-12-29  272.00\n",
       "2 2020-12-28  274.70\n",
       "3 2020-12-25  270.64\n",
       "4 2020-12-24  269.32"
      ]
     },
     "execution_count": 141,
     "metadata": {},
     "output_type": "execute_result"
    }
   ],
   "source": [
    "train_pro = train_pro[[\"Date\", \"Price\"]]\n",
    "train_pro.rename(columns={\"Date\": \"ds\", \"Price\": \"y\"}, inplace=True)\n",
    "#train_pro.set_index(\"ds\", drop=True, inplace=True)\n",
    "train_pro.head()"
   ]
  },
  {
   "cell_type": "code",
   "execution_count": 143,
   "id": "difficult-genealogy",
   "metadata": {},
   "outputs": [
    {
     "data": {
      "text/html": [
       "<div>\n",
       "<style scoped>\n",
       "    .dataframe tbody tr th:only-of-type {\n",
       "        vertical-align: middle;\n",
       "    }\n",
       "\n",
       "    .dataframe tbody tr th {\n",
       "        vertical-align: top;\n",
       "    }\n",
       "\n",
       "    .dataframe thead th {\n",
       "        text-align: right;\n",
       "    }\n",
       "</style>\n",
       "<table border=\"1\" class=\"dataframe\">\n",
       "  <thead>\n",
       "    <tr style=\"text-align: right;\">\n",
       "      <th></th>\n",
       "      <th>Date</th>\n",
       "      <th>Price</th>\n",
       "      <th>Open</th>\n",
       "      <th>High</th>\n",
       "      <th>Low</th>\n",
       "      <th>Volume</th>\n",
       "      <th>Change %</th>\n",
       "      <th>diff_1</th>\n",
       "    </tr>\n",
       "  </thead>\n",
       "  <tbody>\n",
       "    <tr>\n",
       "      <th>0</th>\n",
       "      <td>2021-03-30</td>\n",
       "      <td>293.25</td>\n",
       "      <td>294.86</td>\n",
       "      <td>295.72</td>\n",
       "      <td>291.50</td>\n",
       "      <td>38.81</td>\n",
       "      <td>-0.0002</td>\n",
       "      <td>2.23</td>\n",
       "    </tr>\n",
       "    <tr>\n",
       "      <th>1</th>\n",
       "      <td>2021-03-29</td>\n",
       "      <td>293.30</td>\n",
       "      <td>289.72</td>\n",
       "      <td>294.09</td>\n",
       "      <td>289.26</td>\n",
       "      <td>43.68</td>\n",
       "      <td>0.0071</td>\n",
       "      <td>0.05</td>\n",
       "    </tr>\n",
       "    <tr>\n",
       "      <th>2</th>\n",
       "      <td>2021-03-26</td>\n",
       "      <td>291.22</td>\n",
       "      <td>288.63</td>\n",
       "      <td>292.75</td>\n",
       "      <td>288.32</td>\n",
       "      <td>56.07</td>\n",
       "      <td>0.0159</td>\n",
       "      <td>-2.08</td>\n",
       "    </tr>\n",
       "    <tr>\n",
       "      <th>3</th>\n",
       "      <td>2021-03-25</td>\n",
       "      <td>286.66</td>\n",
       "      <td>286.50</td>\n",
       "      <td>287.03</td>\n",
       "      <td>283.85</td>\n",
       "      <td>35.22</td>\n",
       "      <td>0.0030</td>\n",
       "      <td>-4.56</td>\n",
       "    </tr>\n",
       "    <tr>\n",
       "      <th>4</th>\n",
       "      <td>2021-03-24</td>\n",
       "      <td>285.79</td>\n",
       "      <td>283.40</td>\n",
       "      <td>288.00</td>\n",
       "      <td>282.25</td>\n",
       "      <td>46.41</td>\n",
       "      <td>0.0113</td>\n",
       "      <td>-0.87</td>\n",
       "    </tr>\n",
       "  </tbody>\n",
       "</table>\n",
       "</div>"
      ],
      "text/plain": [
       "        Date   Price    Open    High     Low  Volume  Change %  diff_1\n",
       "0 2021-03-30  293.25  294.86  295.72  291.50   38.81   -0.0002    2.23\n",
       "1 2021-03-29  293.30  289.72  294.09  289.26   43.68    0.0071    0.05\n",
       "2 2021-03-26  291.22  288.63  292.75  288.32   56.07    0.0159   -2.08\n",
       "3 2021-03-25  286.66  286.50  287.03  283.85   35.22    0.0030   -4.56\n",
       "4 2021-03-24  285.79  283.40  288.00  282.25   46.41    0.0113   -0.87"
      ]
     },
     "execution_count": 143,
     "metadata": {},
     "output_type": "execute_result"
    }
   ],
   "source": [
    "test_pro.reset_index(drop=False, inplace=True)\n",
    "test_pro.head()"
   ]
  },
  {
   "cell_type": "code",
   "execution_count": 144,
   "id": "naughty-score",
   "metadata": {},
   "outputs": [
    {
     "data": {
      "text/html": [
       "<div>\n",
       "<style scoped>\n",
       "    .dataframe tbody tr th:only-of-type {\n",
       "        vertical-align: middle;\n",
       "    }\n",
       "\n",
       "    .dataframe tbody tr th {\n",
       "        vertical-align: top;\n",
       "    }\n",
       "\n",
       "    .dataframe thead th {\n",
       "        text-align: right;\n",
       "    }\n",
       "</style>\n",
       "<table border=\"1\" class=\"dataframe\">\n",
       "  <thead>\n",
       "    <tr style=\"text-align: right;\">\n",
       "      <th></th>\n",
       "      <th>ds</th>\n",
       "      <th>y</th>\n",
       "    </tr>\n",
       "  </thead>\n",
       "  <tbody>\n",
       "    <tr>\n",
       "      <th>0</th>\n",
       "      <td>2021-03-30</td>\n",
       "      <td>293.25</td>\n",
       "    </tr>\n",
       "    <tr>\n",
       "      <th>1</th>\n",
       "      <td>2021-03-29</td>\n",
       "      <td>293.30</td>\n",
       "    </tr>\n",
       "    <tr>\n",
       "      <th>2</th>\n",
       "      <td>2021-03-26</td>\n",
       "      <td>291.22</td>\n",
       "    </tr>\n",
       "    <tr>\n",
       "      <th>3</th>\n",
       "      <td>2021-03-25</td>\n",
       "      <td>286.66</td>\n",
       "    </tr>\n",
       "    <tr>\n",
       "      <th>4</th>\n",
       "      <td>2021-03-24</td>\n",
       "      <td>285.79</td>\n",
       "    </tr>\n",
       "  </tbody>\n",
       "</table>\n",
       "</div>"
      ],
      "text/plain": [
       "          ds       y\n",
       "0 2021-03-30  293.25\n",
       "1 2021-03-29  293.30\n",
       "2 2021-03-26  291.22\n",
       "3 2021-03-25  286.66\n",
       "4 2021-03-24  285.79"
      ]
     },
     "execution_count": 144,
     "metadata": {},
     "output_type": "execute_result"
    }
   ],
   "source": [
    "test_pro = test_pro[[\"Date\", \"Price\"]]\n",
    "test_pro.rename(columns={\"Date\": \"ds\", \"Price\": \"y\"}, inplace=True)\n",
    "#test_pro.set_index(\"ds\", drop=True, inplace=True)\n",
    "test_pro.head()"
   ]
  },
  {
   "cell_type": "code",
   "execution_count": 142,
   "id": "transsexual-solution",
   "metadata": {},
   "outputs": [
    {
     "name": "stderr",
     "output_type": "stream",
     "text": [
      "INFO:fbprophet:Disabling yearly seasonality. Run prophet with yearly_seasonality=True to override this.\n",
      "INFO:fbprophet:Disabling daily seasonality. Run prophet with daily_seasonality=True to override this.\n",
      "/Library/Frameworks/Python.framework/Versions/3.8/lib/python3.8/site-packages/fbprophet/forecaster.py:891: FutureWarning: The frame.append method is deprecated and will be removed from pandas in a future version. Use pandas.concat instead.\n",
      "  components = components.append(new_comp)\n"
     ]
    }
   ],
   "source": [
    "model = Prophet().fit(train_pro)"
   ]
  },
  {
   "cell_type": "code",
   "execution_count": 145,
   "id": "opposed-proposition",
   "metadata": {},
   "outputs": [
    {
     "name": "stderr",
     "output_type": "stream",
     "text": [
      "/Library/Frameworks/Python.framework/Versions/3.8/lib/python3.8/site-packages/fbprophet/forecaster.py:891: FutureWarning: The frame.append method is deprecated and will be removed from pandas in a future version. Use pandas.concat instead.\n",
      "  components = components.append(new_comp)\n",
      "/Library/Frameworks/Python.framework/Versions/3.8/lib/python3.8/site-packages/fbprophet/forecaster.py:891: FutureWarning: The frame.append method is deprecated and will be removed from pandas in a future version. Use pandas.concat instead.\n",
      "  components = components.append(new_comp)\n"
     ]
    }
   ],
   "source": [
    "forecast = model.predict(test_pro[['ds']])"
   ]
  },
  {
   "cell_type": "code",
   "execution_count": 146,
   "id": "photographic-tissue",
   "metadata": {},
   "outputs": [
    {
     "data": {
      "text/plain": [
       "46.45075062200292"
      ]
     },
     "execution_count": 146,
     "metadata": {},
     "output_type": "execute_result"
    }
   ],
   "source": [
    "mae_pro = mean_absolute_error(test_pro.y, forecast.yhat)\n",
    "mae_pro"
   ]
  },
  {
   "cell_type": "code",
   "execution_count": 147,
   "id": "packed-heather",
   "metadata": {},
   "outputs": [
    {
     "data": {
      "image/png": "[encoded data removed]",
      "text/plain": [
       "<Figure size 1152x360 with 1 Axes>"
      ]
     },
     "metadata": {
      "needs_background": "light"
     },
     "output_type": "display_data"
    }
   ],
   "source": [
    "actual_prediction_plot(test_pro.y, forecast.yhat)"
   ]
  },
  {
   "cell_type": "code",
   "execution_count": null,
   "id": "novel-league",
   "metadata": {},
   "outputs": [],
   "source": [
    "#Bollinger Bands"
   ]
  },
  {
   "cell_type": "code",
   "execution_count": null,
   "id": "incoming-trick",
   "metadata": {},
   "outputs": [],
   "source": [
    "#Turkey dataset"
   ]
  },
  {
   "cell_type": "code",
   "execution_count": 151,
   "id": "proud-density",
   "metadata": {},
   "outputs": [],
   "source": [
    "#xls = pd.ExcelFile('2020Q1Q2Q3Q4-2021Q1.xlsx')\n",
    "#df_russia = pd.read_excel(xls, 'Russia - Sberbank Rossii PAO (S')\n",
    "df_turkey = pd.read_excel(xls, 'Turkey - Koc Holding AS (KCHOL)')"
   ]
  },
  {
   "cell_type": "code",
   "execution_count": 152,
   "id": "secondary-witch",
   "metadata": {},
   "outputs": [
    {
     "data": {
      "text/plain": [
       "(316, 7)"
      ]
     },
     "execution_count": 152,
     "metadata": {},
     "output_type": "execute_result"
    }
   ],
   "source": [
    "df_turkey.shape"
   ]
  },
  {
   "cell_type": "code",
   "execution_count": 153,
   "id": "compound-rainbow",
   "metadata": {},
   "outputs": [
    {
     "data": {
      "text/html": [
       "<div>\n",
       "<style scoped>\n",
       "    .dataframe tbody tr th:only-of-type {\n",
       "        vertical-align: middle;\n",
       "    }\n",
       "\n",
       "    .dataframe tbody tr th {\n",
       "        vertical-align: top;\n",
       "    }\n",
       "\n",
       "    .dataframe thead th {\n",
       "        text-align: right;\n",
       "    }\n",
       "</style>\n",
       "<table border=\"1\" class=\"dataframe\">\n",
       "  <thead>\n",
       "    <tr style=\"text-align: right;\">\n",
       "      <th></th>\n",
       "      <th>Date</th>\n",
       "      <th>Price</th>\n",
       "      <th>Open</th>\n",
       "      <th>High</th>\n",
       "      <th>Low</th>\n",
       "      <th>Vol.</th>\n",
       "      <th>Change %</th>\n",
       "    </tr>\n",
       "  </thead>\n",
       "  <tbody>\n",
       "    <tr>\n",
       "      <th>311</th>\n",
       "      <td>2020-01-07 00:00:00</td>\n",
       "      <td>19.93</td>\n",
       "      <td>20.22</td>\n",
       "      <td>20.28</td>\n",
       "      <td>19.92</td>\n",
       "      <td>2.89M</td>\n",
       "      <td>-0.0075</td>\n",
       "    </tr>\n",
       "    <tr>\n",
       "      <th>312</th>\n",
       "      <td>2020-01-06 00:00:00</td>\n",
       "      <td>20.08</td>\n",
       "      <td>20.34</td>\n",
       "      <td>20.34</td>\n",
       "      <td>19.97</td>\n",
       "      <td>1.94M</td>\n",
       "      <td>-0.0108</td>\n",
       "    </tr>\n",
       "    <tr>\n",
       "      <th>313</th>\n",
       "      <td>2020-01-03 00:00:00</td>\n",
       "      <td>20.3</td>\n",
       "      <td>20.3</td>\n",
       "      <td>20.44</td>\n",
       "      <td>19.97</td>\n",
       "      <td>3.31M</td>\n",
       "      <td>-0.0039</td>\n",
       "    </tr>\n",
       "    <tr>\n",
       "      <th>314</th>\n",
       "      <td>2020-01-02 00:00:00</td>\n",
       "      <td>20.38</td>\n",
       "      <td>20.42</td>\n",
       "      <td>20.44</td>\n",
       "      <td>20.24</td>\n",
       "      <td>2.53M</td>\n",
       "      <td>0.0030</td>\n",
       "    </tr>\n",
       "    <tr>\n",
       "      <th>315</th>\n",
       "      <td>Highest: 25.48</td>\n",
       "      <td>Lowest: 12.38</td>\n",
       "      <td>Difference: 13.10</td>\n",
       "      <td>Average: 17.86</td>\n",
       "      <td>Change %: -4.48</td>\n",
       "      <td>NaN</td>\n",
       "      <td>NaN</td>\n",
       "    </tr>\n",
       "  </tbody>\n",
       "</table>\n",
       "</div>"
      ],
      "text/plain": [
       "                    Date          Price               Open            High  \\\n",
       "311  2020-01-07 00:00:00          19.93              20.22           20.28   \n",
       "312  2020-01-06 00:00:00          20.08              20.34           20.34   \n",
       "313  2020-01-03 00:00:00           20.3               20.3           20.44   \n",
       "314  2020-01-02 00:00:00          20.38              20.42           20.44   \n",
       "315       Highest: 25.48  Lowest: 12.38  Difference: 13.10  Average: 17.86   \n",
       "\n",
       "                 Low   Vol.  Change %  \n",
       "311            19.92  2.89M   -0.0075  \n",
       "312            19.97  1.94M   -0.0108  \n",
       "313            19.97  3.31M   -0.0039  \n",
       "314            20.24  2.53M    0.0030  \n",
       "315  Change %: -4.48    NaN       NaN  "
      ]
     },
     "execution_count": 153,
     "metadata": {},
     "output_type": "execute_result"
    }
   ],
   "source": [
    "df_turkey.tail()"
   ]
  },
  {
   "cell_type": "code",
   "execution_count": 154,
   "id": "terminal-likelihood",
   "metadata": {},
   "outputs": [],
   "source": [
    "#Rename the Vol. column to Volume\n",
    "df_turkey.rename(columns = {'Vol.': 'Volume'}, inplace = True)"
   ]
  },
  {
   "cell_type": "code",
   "execution_count": 155,
   "id": "killing-structure",
   "metadata": {},
   "outputs": [],
   "source": [
    "#drop the last row\n",
    "df_turkey.drop(index=df_turkey.index[-1], axis=0, inplace=True)\n",
    "df_turkey[\"Volume\"]=df_turkey.Volume.str.replace('M','')"
   ]
  },
  {
   "cell_type": "code",
   "execution_count": 156,
   "id": "alpha-township",
   "metadata": {},
   "outputs": [],
   "source": [
    "df_turkey[\"Date\"]=pd.to_datetime(df_turkey.Date,format=\"%Y-%m-%d\")"
   ]
  },
  {
   "cell_type": "code",
   "execution_count": 157,
   "id": "nearby-performance",
   "metadata": {},
   "outputs": [
    {
     "name": "stdout",
     "output_type": "stream",
     "text": [
      "Date        datetime64[ns]\n",
      "Price              float64\n",
      "Open               float64\n",
      "High               float64\n",
      "Low                float64\n",
      "Volume             float64\n",
      "Change %           float64\n",
      "dtype: object\n"
     ]
    }
   ],
   "source": [
    "df_turkey=df_turkey.astype({'Price':'float','Open':'float','High':'float','Low':'float','Volume':'float'})\n",
    "print(df_turkey.dtypes)"
   ]
  },
  {
   "cell_type": "code",
   "execution_count": 158,
   "id": "proud-administration",
   "metadata": {},
   "outputs": [
    {
     "data": {
      "text/plain": [
       "Date        0\n",
       "Price       0\n",
       "Open        0\n",
       "High        0\n",
       "Low         0\n",
       "Volume      0\n",
       "Change %    0\n",
       "dtype: int64"
      ]
     },
     "execution_count": 158,
     "metadata": {},
     "output_type": "execute_result"
    }
   ],
   "source": [
    "df_turkey.isnull().sum()"
   ]
  },
  {
   "cell_type": "code",
   "execution_count": null,
   "id": "academic-civilization",
   "metadata": {},
   "outputs": [],
   "source": [
    "plt.figure(figsize=(16,6))\n",
    "plt.grid(True)\n",
    "plt.xlabel('Date')\n",
    "plt.ylabel('Close Prices')\n",
    "plt.plot(df_turkey['Date'],df_turkey['Price'])\n",
    "plt.title('Turkey closing price')\n",
    "plt.show()"
   ]
  },
  {
   "cell_type": "code",
   "execution_count": null,
   "id": "federal-skating",
   "metadata": {},
   "outputs": [],
   "source": [
    "plt.figure(figsize=(10,6))\n",
    "df_close_turk = df_turkey['Price']\n",
    "df_close_turk.plot(style='k.',kind='hist')\n",
    "plt.title('Histogram of closing price')\n",
    "plt.show()"
   ]
  },
  {
   "cell_type": "code",
   "execution_count": null,
   "id": "front-heating",
   "metadata": {},
   "outputs": [],
   "source": [
    "df_turkey.set_index(\"Date\", inplace = True)\n",
    "df_turkey.head()\n"
   ]
  },
  {
   "cell_type": "code",
   "execution_count": null,
   "id": "professional-motor",
   "metadata": {},
   "outputs": [],
   "source": [
    "test_stationarity(df_turkey['Price'])"
   ]
  },
  {
   "cell_type": "code",
   "execution_count": null,
   "id": "incorporated-slave",
   "metadata": {},
   "outputs": [],
   "source": [
    "#We see that the p-value is greater than 0.05 so we cannot reject the null hypothesis - that the time series is non-stationary and does have time-dependent structure. Also, the test statistics is greater than the critical values. so the data is non-stationary and does have time-dependent structure."
   ]
  },
  {
   "cell_type": "code",
   "execution_count": null,
   "id": "coordinated-arthur",
   "metadata": {},
   "outputs": [],
   "source": [
    "df_turkey[\"diff_1\"] = df_turkey.Price.diff(periods=1)\n",
    "df_turkey.head()"
   ]
  },
  {
   "cell_type": "code",
   "execution_count": null,
   "id": "closing-scout",
   "metadata": {},
   "outputs": [],
   "source": [
    "results_turk = adfuller(df_turkey[\"diff_1\"].dropna())\n",
    "print('The new p-value is:',results[1])"
   ]
  },
  {
   "cell_type": "code",
   "execution_count": null,
   "id": "referenced-finland",
   "metadata": {},
   "outputs": [],
   "source": [
    "#plot the new series\n",
    "plt.figure(figsize=(16,6))\n",
    "plt.title(\"The distribution of the new series\")\n",
    "df_turkey['diff_1'].plot()"
   ]
  },
  {
   "cell_type": "code",
   "execution_count": null,
   "id": "recovered-segment",
   "metadata": {},
   "outputs": [],
   "source": [
    "#plot rolling statistics\n",
    "plt.figure(figsize=(15,7))\n",
    "orig=plt.plot(df_turkey.diff_1, color='blue',label='Price')\n",
    "R_mean=plt.plot(df_turkey.diff_1.rolling(7).mean(), color='red',label='rolling_mean')\n",
    "R_std=plt.plot(df_turkey.diff_1.rolling(7).std(), color='black',label='rolling_std')\n",
    "plt.legend(loc='best')\n",
    "plt.title('Rolling mean & standard deviation for the new series')\n",
    "plt.show(block='False')\n"
   ]
  },
  {
   "cell_type": "code",
   "execution_count": null,
   "id": "distinguished-guarantee",
   "metadata": {},
   "outputs": [],
   "source": [
    "#split the data\n",
    "np.random.seed(1)\n",
    "train_turk = df_turkey[df_turkey.index < pd.to_datetime('2021-01-01', format=\"%Y-%m-%d\")]\n",
    "train_turk=train_turk.dropna()\n",
    "test_turk=df_turkey[df_turkey.index >= pd.to_datetime('2021-01-01', format=\"%Y-%m-%d\")]\n",
    "test_turk=test_turk.dropna()"
   ]
  },
  {
   "cell_type": "code",
   "execution_count": null,
   "id": "acute-auction",
   "metadata": {},
   "outputs": [],
   "source": [
    "arima_model = pm.auto_arima(train_turk['Price'], start_p=1, start_q=1, test='adf', max_p=6, max_q=6, \n",
    "                      m=1, d=None, seasonal=False, start_P=0, D=1, trace=False, error_action='ignore',  \n",
    "                      suppress_warnings=True, stepwise=False)\n",
    "\n",
    "# 2) find the predicted price\n",
    "y_pred = arima_model.predict(len(test_turk['Price'])) \n",
    "    \n",
    "# 3) find the mae score\n",
    "mae = mean_absolute_error(test_turk['Price'], y_pred)"
   ]
  },
  {
   "cell_type": "code",
   "execution_count": null,
   "id": "white-reset",
   "metadata": {},
   "outputs": [],
   "source": [
    "test_turk['Pred'] = y_pred.values"
   ]
  },
  {
   "cell_type": "code",
   "execution_count": null,
   "id": "toxic-coach",
   "metadata": {},
   "outputs": [],
   "source": [
    "plt.figure(figsize=(16, 5))\n",
    "plt.plot(test_turk['Price'], label='Actual', linewidth=1.5)\n",
    "plt.plot(test_turk['Pred'], label='Predictions', linewidth=1.5)\n",
    "plt.legend()"
   ]
  },
  {
   "cell_type": "code",
   "execution_count": null,
   "id": "productive-slide",
   "metadata": {},
   "outputs": [],
   "source": [
    "arimax_model = pm.auto_arima(y_train, exogenous=X_train, trace=False, error_action=\"ignore\", \n",
    "                                 suppress_warnings=True)\n",
    "arimax_model.fit(y_train, exogenous=X_train)"
   ]
  }
 ],
 "metadata": {
  "kernelspec": {
   "display_name": "Python 3",
   "language": "python",
   "name": "python3"
  },
  "language_info": {
   "codemirror_mode": {
    "name": "ipython",
    "version": 3
   },
   "file_extension": ".py",
   "mimetype": "text/x-python",
   "name": "python",
   "nbconvert_exporter": "python",
   "pygments_lexer": "ipython3",
   "version": "3.8.3"
  }
 },
 "nbformat": 4,
 "nbformat_minor": 5
}
